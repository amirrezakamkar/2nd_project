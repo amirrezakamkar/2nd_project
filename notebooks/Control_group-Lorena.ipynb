{
 "cells": [
  {
   "cell_type": "code",
   "execution_count": 11,
   "id": "e3e057ff-5850-4553-b714-b21c5ec08ffa",
   "metadata": {},
   "outputs": [],
   "source": [
    "import pandas as pd\n",
    "import numpy as np\n",
    "import seaborn as sns\n",
    "import matplotlib.pyplot as plt\n",
    "%matplotlib inline\n",
    "import statsmodels.api as sm"
   ]
  },
  {
   "cell_type": "code",
   "execution_count": 12,
   "id": "9dfbf446-d0e3-4ca5-b33c-a630bf4ce6fd",
   "metadata": {},
   "outputs": [],
   "source": [
    "url = '../data/clean/combined_data_control.txt'\n",
    "df = pd.read_csv(url)"
   ]
  },
  {
   "cell_type": "code",
   "execution_count": 17,
   "id": "ec48efba-e787-4730-8c21-761cc43d7f36",
   "metadata": {},
   "outputs": [
    {
     "data": {
      "text/html": [
       "<div>\n",
       "<style scoped>\n",
       "    .dataframe tbody tr th:only-of-type {\n",
       "        vertical-align: middle;\n",
       "    }\n",
       "\n",
       "    .dataframe tbody tr th {\n",
       "        vertical-align: top;\n",
       "    }\n",
       "\n",
       "    .dataframe thead th {\n",
       "        text-align: right;\n",
       "    }\n",
       "</style>\n",
       "<table border=\"1\" class=\"dataframe\">\n",
       "  <thead>\n",
       "    <tr style=\"text-align: right;\">\n",
       "      <th></th>\n",
       "      <th>client_id</th>\n",
       "      <th>visitor_id</th>\n",
       "      <th>visit_id</th>\n",
       "      <th>process_step</th>\n",
       "      <th>date_time</th>\n",
       "      <th>clnt_tenure_yr</th>\n",
       "      <th>clnt_tenure_mnth</th>\n",
       "      <th>clnt_age</th>\n",
       "      <th>gendr</th>\n",
       "      <th>num_accts</th>\n",
       "      <th>bal</th>\n",
       "      <th>calls_6_mnth</th>\n",
       "      <th>logons_6_mnth</th>\n",
       "      <th>Variation</th>\n",
       "    </tr>\n",
       "  </thead>\n",
       "  <tbody>\n",
       "    <tr>\n",
       "      <th>0</th>\n",
       "      <td>1028</td>\n",
       "      <td>42237450_62128060588</td>\n",
       "      <td>557292053_87239438319_391157</td>\n",
       "      <td>step_1</td>\n",
       "      <td>2017-04-08 19:00:26</td>\n",
       "      <td>12.0</td>\n",
       "      <td>145.0</td>\n",
       "      <td>36.0</td>\n",
       "      <td>M</td>\n",
       "      <td>3.0</td>\n",
       "      <td>103520.22</td>\n",
       "      <td>1.0</td>\n",
       "      <td>4.0</td>\n",
       "      <td>Control</td>\n",
       "    </tr>\n",
       "    <tr>\n",
       "      <th>1</th>\n",
       "      <td>1028</td>\n",
       "      <td>42237450_62128060588</td>\n",
       "      <td>557292053_87239438319_391157</td>\n",
       "      <td>step_2</td>\n",
       "      <td>2017-04-08 19:00:17</td>\n",
       "      <td>12.0</td>\n",
       "      <td>145.0</td>\n",
       "      <td>36.0</td>\n",
       "      <td>M</td>\n",
       "      <td>3.0</td>\n",
       "      <td>103520.22</td>\n",
       "      <td>1.0</td>\n",
       "      <td>4.0</td>\n",
       "      <td>Control</td>\n",
       "    </tr>\n",
       "    <tr>\n",
       "      <th>2</th>\n",
       "      <td>1028</td>\n",
       "      <td>42237450_62128060588</td>\n",
       "      <td>557292053_87239438319_391157</td>\n",
       "      <td>step_1</td>\n",
       "      <td>2017-04-08 19:00:15</td>\n",
       "      <td>12.0</td>\n",
       "      <td>145.0</td>\n",
       "      <td>36.0</td>\n",
       "      <td>M</td>\n",
       "      <td>3.0</td>\n",
       "      <td>103520.22</td>\n",
       "      <td>1.0</td>\n",
       "      <td>4.0</td>\n",
       "      <td>Control</td>\n",
       "    </tr>\n",
       "    <tr>\n",
       "      <th>3</th>\n",
       "      <td>1028</td>\n",
       "      <td>42237450_62128060588</td>\n",
       "      <td>557292053_87239438319_391157</td>\n",
       "      <td>step_1</td>\n",
       "      <td>2017-04-08 18:59:55</td>\n",
       "      <td>12.0</td>\n",
       "      <td>145.0</td>\n",
       "      <td>36.0</td>\n",
       "      <td>M</td>\n",
       "      <td>3.0</td>\n",
       "      <td>103520.22</td>\n",
       "      <td>1.0</td>\n",
       "      <td>4.0</td>\n",
       "      <td>Control</td>\n",
       "    </tr>\n",
       "    <tr>\n",
       "      <th>4</th>\n",
       "      <td>1028</td>\n",
       "      <td>42237450_62128060588</td>\n",
       "      <td>557292053_87239438319_391157</td>\n",
       "      <td>step_3</td>\n",
       "      <td>2017-04-08 18:58:04</td>\n",
       "      <td>12.0</td>\n",
       "      <td>145.0</td>\n",
       "      <td>36.0</td>\n",
       "      <td>M</td>\n",
       "      <td>3.0</td>\n",
       "      <td>103520.22</td>\n",
       "      <td>1.0</td>\n",
       "      <td>4.0</td>\n",
       "      <td>Control</td>\n",
       "    </tr>\n",
       "    <tr>\n",
       "      <th>5</th>\n",
       "      <td>1028</td>\n",
       "      <td>42237450_62128060588</td>\n",
       "      <td>557292053_87239438319_391157</td>\n",
       "      <td>step_2</td>\n",
       "      <td>2017-04-08 18:53:29</td>\n",
       "      <td>12.0</td>\n",
       "      <td>145.0</td>\n",
       "      <td>36.0</td>\n",
       "      <td>M</td>\n",
       "      <td>3.0</td>\n",
       "      <td>103520.22</td>\n",
       "      <td>1.0</td>\n",
       "      <td>4.0</td>\n",
       "      <td>Control</td>\n",
       "    </tr>\n",
       "    <tr>\n",
       "      <th>6</th>\n",
       "      <td>1028</td>\n",
       "      <td>42237450_62128060588</td>\n",
       "      <td>557292053_87239438319_391157</td>\n",
       "      <td>step_1</td>\n",
       "      <td>2017-04-08 18:53:20</td>\n",
       "      <td>12.0</td>\n",
       "      <td>145.0</td>\n",
       "      <td>36.0</td>\n",
       "      <td>M</td>\n",
       "      <td>3.0</td>\n",
       "      <td>103520.22</td>\n",
       "      <td>1.0</td>\n",
       "      <td>4.0</td>\n",
       "      <td>Control</td>\n",
       "    </tr>\n",
       "    <tr>\n",
       "      <th>7</th>\n",
       "      <td>1028</td>\n",
       "      <td>42237450_62128060588</td>\n",
       "      <td>557292053_87239438319_391157</td>\n",
       "      <td>step_1</td>\n",
       "      <td>2017-04-08 18:52:17</td>\n",
       "      <td>12.0</td>\n",
       "      <td>145.0</td>\n",
       "      <td>36.0</td>\n",
       "      <td>M</td>\n",
       "      <td>3.0</td>\n",
       "      <td>103520.22</td>\n",
       "      <td>1.0</td>\n",
       "      <td>4.0</td>\n",
       "      <td>Control</td>\n",
       "    </tr>\n",
       "    <tr>\n",
       "      <th>8</th>\n",
       "      <td>1028</td>\n",
       "      <td>42237450_62128060588</td>\n",
       "      <td>557292053_87239438319_391157</td>\n",
       "      <td>start</td>\n",
       "      <td>2017-04-08 18:51:28</td>\n",
       "      <td>12.0</td>\n",
       "      <td>145.0</td>\n",
       "      <td>36.0</td>\n",
       "      <td>M</td>\n",
       "      <td>3.0</td>\n",
       "      <td>103520.22</td>\n",
       "      <td>1.0</td>\n",
       "      <td>4.0</td>\n",
       "      <td>Control</td>\n",
       "    </tr>\n",
       "    <tr>\n",
       "      <th>9</th>\n",
       "      <td>1104</td>\n",
       "      <td>194240915_18158000533</td>\n",
       "      <td>543158812_46395476577_767725</td>\n",
       "      <td>start</td>\n",
       "      <td>2017-06-12 07:49:18</td>\n",
       "      <td>5.0</td>\n",
       "      <td>66.0</td>\n",
       "      <td>48.0</td>\n",
       "      <td>U</td>\n",
       "      <td>3.0</td>\n",
       "      <td>154643.94</td>\n",
       "      <td>6.0</td>\n",
       "      <td>9.0</td>\n",
       "      <td>Control</td>\n",
       "    </tr>\n",
       "  </tbody>\n",
       "</table>\n",
       "</div>"
      ],
      "text/plain": [
       "   client_id             visitor_id                      visit_id  \\\n",
       "0       1028   42237450_62128060588  557292053_87239438319_391157   \n",
       "1       1028   42237450_62128060588  557292053_87239438319_391157   \n",
       "2       1028   42237450_62128060588  557292053_87239438319_391157   \n",
       "3       1028   42237450_62128060588  557292053_87239438319_391157   \n",
       "4       1028   42237450_62128060588  557292053_87239438319_391157   \n",
       "5       1028   42237450_62128060588  557292053_87239438319_391157   \n",
       "6       1028   42237450_62128060588  557292053_87239438319_391157   \n",
       "7       1028   42237450_62128060588  557292053_87239438319_391157   \n",
       "8       1028   42237450_62128060588  557292053_87239438319_391157   \n",
       "9       1104  194240915_18158000533  543158812_46395476577_767725   \n",
       "\n",
       "  process_step            date_time  clnt_tenure_yr  clnt_tenure_mnth  \\\n",
       "0       step_1  2017-04-08 19:00:26            12.0             145.0   \n",
       "1       step_2  2017-04-08 19:00:17            12.0             145.0   \n",
       "2       step_1  2017-04-08 19:00:15            12.0             145.0   \n",
       "3       step_1  2017-04-08 18:59:55            12.0             145.0   \n",
       "4       step_3  2017-04-08 18:58:04            12.0             145.0   \n",
       "5       step_2  2017-04-08 18:53:29            12.0             145.0   \n",
       "6       step_1  2017-04-08 18:53:20            12.0             145.0   \n",
       "7       step_1  2017-04-08 18:52:17            12.0             145.0   \n",
       "8        start  2017-04-08 18:51:28            12.0             145.0   \n",
       "9        start  2017-06-12 07:49:18             5.0              66.0   \n",
       "\n",
       "   clnt_age gendr  num_accts        bal  calls_6_mnth  logons_6_mnth Variation  \n",
       "0      36.0     M        3.0  103520.22           1.0            4.0   Control  \n",
       "1      36.0     M        3.0  103520.22           1.0            4.0   Control  \n",
       "2      36.0     M        3.0  103520.22           1.0            4.0   Control  \n",
       "3      36.0     M        3.0  103520.22           1.0            4.0   Control  \n",
       "4      36.0     M        3.0  103520.22           1.0            4.0   Control  \n",
       "5      36.0     M        3.0  103520.22           1.0            4.0   Control  \n",
       "6      36.0     M        3.0  103520.22           1.0            4.0   Control  \n",
       "7      36.0     M        3.0  103520.22           1.0            4.0   Control  \n",
       "8      36.0     M        3.0  103520.22           1.0            4.0   Control  \n",
       "9      48.0     U        3.0  154643.94           6.0            9.0   Control  "
      ]
     },
     "execution_count": 17,
     "metadata": {},
     "output_type": "execute_result"
    }
   ],
   "source": [
    "df.head(10)"
   ]
  },
  {
   "cell_type": "code",
   "execution_count": 22,
   "id": "cf880642-b45d-4bf1-aec7-8e806341dd76",
   "metadata": {},
   "outputs": [
    {
     "name": "stdout",
     "output_type": "stream",
     "text": [
      "Number of step back errors: 13297\n"
     ]
    }
   ],
   "source": [
    "df['date_time'] = pd.to_datetime(df['date_time'])\n",
    "\n",
    "# Sort by client_id and date_time to ensure the steps are in chronological order\n",
    "df = df.sort_values(by=['client_id', 'date_time'])\n",
    "\n",
    "# Define the process steps in the correct order\n",
    "process_order = ['start', 'step_1', 'step_2', 'step_3', 'confirm']\n",
    "\n",
    "# Create a new column that shows the next step\n",
    "df['next_step'] = df.groupby('client_id')['process_step'].shift(-1)\n",
    "\n",
    "# Create a column to identify \"step back\" (where the next step is lower in the process order)\n",
    "df['is_step_back'] = df.apply(lambda row: process_order.index(row['next_step']) < process_order.index(row['process_step']) \n",
    "                              if pd.notnull(row['next_step']) else False, axis=1)\n",
    "\n",
    "# Count the number of \"step back\" errors\n",
    "step_back_errors = df['is_step_back'].sum()\n",
    "\n",
    "# Display the rows with step back errors\n",
    "step_back_rows = df[df['is_step_back'] == True]\n",
    "\n",
    "print(f\"Number of step back errors: {step_back_errors}\")"
   ]
  },
  {
   "cell_type": "code",
   "execution_count": 28,
   "id": "b65ba9fa-dbec-4014-a033-22c2c0a325ca",
   "metadata": {},
   "outputs": [
    {
     "data": {
      "text/html": [
       "<div>\n",
       "<style scoped>\n",
       "    .dataframe tbody tr th:only-of-type {\n",
       "        vertical-align: middle;\n",
       "    }\n",
       "\n",
       "    .dataframe tbody tr th {\n",
       "        vertical-align: top;\n",
       "    }\n",
       "\n",
       "    .dataframe thead th {\n",
       "        text-align: right;\n",
       "    }\n",
       "</style>\n",
       "<table border=\"1\" class=\"dataframe\">\n",
       "  <thead>\n",
       "    <tr style=\"text-align: right;\">\n",
       "      <th></th>\n",
       "      <th>client_id</th>\n",
       "      <th>start_time</th>\n",
       "      <th>confirm_time</th>\n",
       "      <th>process_duration</th>\n",
       "    </tr>\n",
       "  </thead>\n",
       "  <tbody>\n",
       "    <tr>\n",
       "      <th>0</th>\n",
       "      <td>7179755</td>\n",
       "      <td>2017-03-15 00:19:28</td>\n",
       "      <td>2017-03-15 00:26:24</td>\n",
       "      <td>6.933333</td>\n",
       "    </tr>\n",
       "    <tr>\n",
       "      <th>1</th>\n",
       "      <td>9584408</td>\n",
       "      <td>2017-03-15 06:14:28</td>\n",
       "      <td>2017-03-15 06:16:08</td>\n",
       "      <td>1.666667</td>\n",
       "    </tr>\n",
       "    <tr>\n",
       "      <th>2</th>\n",
       "      <td>4856478</td>\n",
       "      <td>2017-03-15 07:54:41</td>\n",
       "      <td>2017-03-15 08:02:22</td>\n",
       "      <td>7.683333</td>\n",
       "    </tr>\n",
       "    <tr>\n",
       "      <th>3</th>\n",
       "      <td>8957145</td>\n",
       "      <td>2017-03-15 10:07:43</td>\n",
       "      <td>NaT</td>\n",
       "      <td>Not Completed</td>\n",
       "    </tr>\n",
       "    <tr>\n",
       "      <th>4</th>\n",
       "      <td>8463143</td>\n",
       "      <td>2017-03-15 11:05:48</td>\n",
       "      <td>2017-03-15 11:09:45</td>\n",
       "      <td>3.95</td>\n",
       "    </tr>\n",
       "    <tr>\n",
       "      <th>...</th>\n",
       "      <td>...</td>\n",
       "      <td>...</td>\n",
       "      <td>...</td>\n",
       "      <td>...</td>\n",
       "    </tr>\n",
       "    <tr>\n",
       "      <th>23386</th>\n",
       "      <td>8087297</td>\n",
       "      <td>2017-06-20 22:25:14</td>\n",
       "      <td>2017-06-20 22:31:10</td>\n",
       "      <td>5.933333</td>\n",
       "    </tr>\n",
       "    <tr>\n",
       "      <th>23387</th>\n",
       "      <td>1104</td>\n",
       "      <td>2017-06-20 22:31:33</td>\n",
       "      <td>NaT</td>\n",
       "      <td>Not Completed</td>\n",
       "    </tr>\n",
       "    <tr>\n",
       "      <th>23388</th>\n",
       "      <td>1558312</td>\n",
       "      <td>2017-06-20 23:16:46</td>\n",
       "      <td>2017-06-20 23:26:00</td>\n",
       "      <td>9.233333</td>\n",
       "    </tr>\n",
       "    <tr>\n",
       "      <th>23389</th>\n",
       "      <td>291330</td>\n",
       "      <td>2017-06-20 23:21:34</td>\n",
       "      <td>NaT</td>\n",
       "      <td>Not Completed</td>\n",
       "    </tr>\n",
       "    <tr>\n",
       "      <th>23390</th>\n",
       "      <td>6187864</td>\n",
       "      <td>2017-06-20 23:56:17</td>\n",
       "      <td>NaT</td>\n",
       "      <td>Not Completed</td>\n",
       "    </tr>\n",
       "  </tbody>\n",
       "</table>\n",
       "<p>23391 rows × 4 columns</p>\n",
       "</div>"
      ],
      "text/plain": [
       "       client_id          start_time        confirm_time process_duration\n",
       "0        7179755 2017-03-15 00:19:28 2017-03-15 00:26:24         6.933333\n",
       "1        9584408 2017-03-15 06:14:28 2017-03-15 06:16:08         1.666667\n",
       "2        4856478 2017-03-15 07:54:41 2017-03-15 08:02:22         7.683333\n",
       "3        8957145 2017-03-15 10:07:43                 NaT    Not Completed\n",
       "4        8463143 2017-03-15 11:05:48 2017-03-15 11:09:45             3.95\n",
       "...          ...                 ...                 ...              ...\n",
       "23386    8087297 2017-06-20 22:25:14 2017-06-20 22:31:10         5.933333\n",
       "23387       1104 2017-06-20 22:31:33                 NaT    Not Completed\n",
       "23388    1558312 2017-06-20 23:16:46 2017-06-20 23:26:00         9.233333\n",
       "23389     291330 2017-06-20 23:21:34                 NaT    Not Completed\n",
       "23390    6187864 2017-06-20 23:56:17                 NaT    Not Completed\n",
       "\n",
       "[23391 rows x 4 columns]"
      ]
     },
     "execution_count": 28,
     "metadata": {},
     "output_type": "execute_result"
    }
   ],
   "source": [
    "# Step 1: Filter and get the last 'start' and 'confirm' time for each client\n",
    "start_df = df[df['process_step'] == 'start'].sort_values('date_time').groupby('client_id').tail(1)[['client_id', 'date_time']].rename(columns={'date_time': 'start_time'})\n",
    "confirm_df = df[df['process_step'] == 'confirm'].sort_values('date_time').groupby('client_id').tail(1)[['client_id', 'date_time']].rename(columns={'date_time': 'confirm_time'})\n",
    "\n",
    "# Step 2: Merge the two DataFrames on client_id\n",
    "merged_df = pd.merge(start_df, confirm_df, on='client_id', how='left')  # use 'left' to keep all clients with 'start' step\n",
    "\n",
    "# Step 3: Calculate the process time (confirm_time - start_time) in minutes\n",
    "merged_df['process_duration'] = (merged_df['confirm_time'] - merged_df['start_time']).dt.total_seconds() / 60  # Convert to minutes\n",
    "\n",
    "# Step 4: Handle customers who did not finish the process (no 'confirm' step)\n",
    "# Customers without a confirm step will have NaN in 'process_duration'\n",
    "merged_df['process_duration'] = merged_df['process_duration'].fillna('Not Completed')  # Or use any other placeholder for missing process durations\n",
    "\n",
    "# Show the result with process duration for each client\n",
    "merged_df[['client_id', 'start_time', 'confirm_time', 'process_duration']]"
   ]
  },
  {
   "cell_type": "code",
   "execution_count": 32,
   "id": "8b6c025f-5939-4662-9c90-84e155cf1620",
   "metadata": {},
   "outputs": [
    {
     "data": {
      "text/plain": [
       "Index(['client_id', 'visitor_id', 'visit_id', 'process_step', 'date_time',\n",
       "       'clnt_tenure_yr', 'clnt_tenure_mnth', 'clnt_age', 'gendr', 'num_accts',\n",
       "       'bal', 'calls_6_mnth', 'logons_6_mnth', 'Variation', 'next_step',\n",
       "       'is_step_back'],\n",
       "      dtype='object')"
      ]
     },
     "execution_count": 32,
     "metadata": {},
     "output_type": "execute_result"
    }
   ],
   "source": [
    "df.columns"
   ]
  },
  {
   "cell_type": "code",
   "execution_count": 35,
   "id": "ae215972-9999-4766-ba55-962ca4a257bd",
   "metadata": {},
   "outputs": [
    {
     "data": {
      "text/plain": [
       "Index(['client_id', 'visitor_id', 'visit_id', 'process_step', 'date_time',\n",
       "       'tenure_year', 'tenure_month', 'age', 'gender', 'num_accounts',\n",
       "       'balance', 'calls_6_months', 'logons_6_months', 'variation',\n",
       "       'next_step', 'is_step_back'],\n",
       "      dtype='object')"
      ]
     },
     "execution_count": 35,
     "metadata": {},
     "output_type": "execute_result"
    }
   ],
   "source": [
    "df.columns = ['client_id', 'visitor_id', 'visit_id', 'process_step', 'date_time',\n",
    "       'tenure_year', 'tenure_month', 'age', 'gender', 'num_accounts',\n",
    "       'balance', 'calls_6_months', 'logons_6_months', 'variation', 'next_step',\n",
    "       'is_step_back']\n",
    "df.columns"
   ]
  },
  {
   "cell_type": "code",
   "execution_count": 42,
   "id": "e4c4798f-32c5-45b9-96ac-69f8c70fe9ee",
   "metadata": {},
   "outputs": [
    {
     "data": {
      "text/html": [
       "<div>\n",
       "<style scoped>\n",
       "    .dataframe tbody tr th:only-of-type {\n",
       "        vertical-align: middle;\n",
       "    }\n",
       "\n",
       "    .dataframe tbody tr th {\n",
       "        vertical-align: top;\n",
       "    }\n",
       "\n",
       "    .dataframe thead th {\n",
       "        text-align: right;\n",
       "    }\n",
       "</style>\n",
       "<table border=\"1\" class=\"dataframe\">\n",
       "  <thead>\n",
       "    <tr style=\"text-align: right;\">\n",
       "      <th></th>\n",
       "      <th>client_id</th>\n",
       "      <th>date_time</th>\n",
       "      <th>tenure_year</th>\n",
       "      <th>tenure_month</th>\n",
       "      <th>age</th>\n",
       "      <th>num_accounts</th>\n",
       "      <th>balance</th>\n",
       "      <th>calls_6_months</th>\n",
       "      <th>logons_6_months</th>\n",
       "    </tr>\n",
       "  </thead>\n",
       "  <tbody>\n",
       "    <tr>\n",
       "      <th>count</th>\n",
       "      <td>1.404820e+05</td>\n",
       "      <td>140482</td>\n",
       "      <td>140482.000000</td>\n",
       "      <td>140482.000000</td>\n",
       "      <td>140482.000000</td>\n",
       "      <td>140482.000000</td>\n",
       "      <td>1.404820e+05</td>\n",
       "      <td>140482.000000</td>\n",
       "      <td>140482.000000</td>\n",
       "    </tr>\n",
       "    <tr>\n",
       "      <th>mean</th>\n",
       "      <td>5.013519e+06</td>\n",
       "      <td>2017-04-22 01:32:30.444185088</td>\n",
       "      <td>12.167794</td>\n",
       "      <td>152.005915</td>\n",
       "      <td>48.284478</td>\n",
       "      <td>2.272676</td>\n",
       "      <td>1.588905e+05</td>\n",
       "      <td>3.267693</td>\n",
       "      <td>6.303555</td>\n",
       "    </tr>\n",
       "    <tr>\n",
       "      <th>min</th>\n",
       "      <td>1.028000e+03</td>\n",
       "      <td>2017-03-15 00:19:28</td>\n",
       "      <td>2.000000</td>\n",
       "      <td>33.000000</td>\n",
       "      <td>17.000000</td>\n",
       "      <td>2.000000</td>\n",
       "      <td>2.378961e+04</td>\n",
       "      <td>0.000000</td>\n",
       "      <td>3.000000</td>\n",
       "    </tr>\n",
       "    <tr>\n",
       "      <th>25%</th>\n",
       "      <td>2.526422e+06</td>\n",
       "      <td>2017-04-05 11:13:07.500000</td>\n",
       "      <td>6.000000</td>\n",
       "      <td>82.000000</td>\n",
       "      <td>34.500000</td>\n",
       "      <td>2.000000</td>\n",
       "      <td>4.109078e+04</td>\n",
       "      <td>1.000000</td>\n",
       "      <td>4.000000</td>\n",
       "    </tr>\n",
       "    <tr>\n",
       "      <th>50%</th>\n",
       "      <td>5.033441e+06</td>\n",
       "      <td>2017-04-12 17:56:02.500000</td>\n",
       "      <td>11.000000</td>\n",
       "      <td>137.000000</td>\n",
       "      <td>49.500000</td>\n",
       "      <td>2.000000</td>\n",
       "      <td>6.883551e+04</td>\n",
       "      <td>3.000000</td>\n",
       "      <td>6.000000</td>\n",
       "    </tr>\n",
       "    <tr>\n",
       "      <th>75%</th>\n",
       "      <td>7.468037e+06</td>\n",
       "      <td>2017-05-08 13:27:59.500000</td>\n",
       "      <td>16.000000</td>\n",
       "      <td>193.000000</td>\n",
       "      <td>60.500000</td>\n",
       "      <td>2.000000</td>\n",
       "      <td>1.493742e+05</td>\n",
       "      <td>6.000000</td>\n",
       "      <td>9.000000</td>\n",
       "    </tr>\n",
       "    <tr>\n",
       "      <th>max</th>\n",
       "      <td>9.998921e+06</td>\n",
       "      <td>2017-06-20 23:57:06</td>\n",
       "      <td>55.000000</td>\n",
       "      <td>669.000000</td>\n",
       "      <td>96.000000</td>\n",
       "      <td>7.000000</td>\n",
       "      <td>8.292996e+06</td>\n",
       "      <td>6.000000</td>\n",
       "      <td>9.000000</td>\n",
       "    </tr>\n",
       "    <tr>\n",
       "      <th>std</th>\n",
       "      <td>2.865925e+06</td>\n",
       "      <td>NaN</td>\n",
       "      <td>6.980923</td>\n",
       "      <td>83.405945</td>\n",
       "      <td>15.620775</td>\n",
       "      <td>0.551134</td>\n",
       "      <td>3.026905e+05</td>\n",
       "      <td>2.184396</td>\n",
       "      <td>2.171217</td>\n",
       "    </tr>\n",
       "  </tbody>\n",
       "</table>\n",
       "</div>"
      ],
      "text/plain": [
       "          client_id                      date_time    tenure_year  \\\n",
       "count  1.404820e+05                         140482  140482.000000   \n",
       "mean   5.013519e+06  2017-04-22 01:32:30.444185088      12.167794   \n",
       "min    1.028000e+03            2017-03-15 00:19:28       2.000000   \n",
       "25%    2.526422e+06     2017-04-05 11:13:07.500000       6.000000   \n",
       "50%    5.033441e+06     2017-04-12 17:56:02.500000      11.000000   \n",
       "75%    7.468037e+06     2017-05-08 13:27:59.500000      16.000000   \n",
       "max    9.998921e+06            2017-06-20 23:57:06      55.000000   \n",
       "std    2.865925e+06                            NaN       6.980923   \n",
       "\n",
       "        tenure_month            age   num_accounts       balance  \\\n",
       "count  140482.000000  140482.000000  140482.000000  1.404820e+05   \n",
       "mean      152.005915      48.284478       2.272676  1.588905e+05   \n",
       "min        33.000000      17.000000       2.000000  2.378961e+04   \n",
       "25%        82.000000      34.500000       2.000000  4.109078e+04   \n",
       "50%       137.000000      49.500000       2.000000  6.883551e+04   \n",
       "75%       193.000000      60.500000       2.000000  1.493742e+05   \n",
       "max       669.000000      96.000000       7.000000  8.292996e+06   \n",
       "std        83.405945      15.620775       0.551134  3.026905e+05   \n",
       "\n",
       "       calls_6_months  logons_6_months  \n",
       "count   140482.000000    140482.000000  \n",
       "mean         3.267693         6.303555  \n",
       "min          0.000000         3.000000  \n",
       "25%          1.000000         4.000000  \n",
       "50%          3.000000         6.000000  \n",
       "75%          6.000000         9.000000  \n",
       "max          6.000000         9.000000  \n",
       "std          2.184396         2.171217  "
      ]
     },
     "execution_count": 42,
     "metadata": {},
     "output_type": "execute_result"
    }
   ],
   "source": [
    "df.describe()"
   ]
  },
  {
   "cell_type": "code",
   "execution_count": 45,
   "id": "24a288fe-027d-4065-8575-687f48003207",
   "metadata": {},
   "outputs": [
    {
     "data": {
      "text/plain": [
       "Index(['visitor_id', 'visit_id', 'process_step', 'gender', 'variation',\n",
       "       'next_step'],\n",
       "      dtype='object')"
      ]
     },
     "execution_count": 45,
     "metadata": {},
     "output_type": "execute_result"
    }
   ],
   "source": [
    "df.select_dtypes(\"object\").columns\n",
    "# 6 columns no numerical "
   ]
  },
  {
   "cell_type": "code",
   "execution_count": 48,
   "id": "e387c210-6f26-4efa-ba5b-44810ab458ae",
   "metadata": {},
   "outputs": [
    {
     "data": {
      "text/plain": [
       "next_step          23526\n",
       "client_id              0\n",
       "visitor_id             0\n",
       "visit_id               0\n",
       "process_step           0\n",
       "date_time              0\n",
       "tenure_year            0\n",
       "tenure_month           0\n",
       "age                    0\n",
       "gender                 0\n",
       "num_accounts           0\n",
       "balance                0\n",
       "calls_6_months         0\n",
       "logons_6_months        0\n",
       "variation              0\n",
       "is_step_back           0\n",
       "dtype: int64"
      ]
     },
     "execution_count": 48,
     "metadata": {},
     "output_type": "execute_result"
    }
   ],
   "source": [
    "df.isnull().sum().sort_values(ascending=False)\n",
    "# We only have missing values in Next_step "
   ]
  },
  {
   "cell_type": "code",
   "execution_count": 51,
   "id": "5d7df21f-8134-42fa-9418-0306342a01ae",
   "metadata": {},
   "outputs": [
    {
     "data": {
      "text/plain": [
       "(process_step\n",
       " start      45361\n",
       " step_1     29533\n",
       " step_2     25764\n",
       " step_3     22495\n",
       " confirm    17329\n",
       " Name: count, dtype: int64,\n",
       " process_step\n",
       " start      0.322895\n",
       " step_1     0.210226\n",
       " step_2     0.183397\n",
       " step_3     0.160127\n",
       " confirm    0.123354\n",
       " Name: proportion, dtype: float64)"
      ]
     },
     "execution_count": 51,
     "metadata": {},
     "output_type": "execute_result"
    }
   ],
   "source": [
    "# Frequency table\n",
    "frequency_table = df['process_step'].value_counts()\n",
    "\n",
    "# Calculating the proportion of each unique value\n",
    "proportion_table = df['process_step'].value_counts(normalize=True)\n",
    "\n",
    "frequency_table, proportion_table"
   ]
  },
  {
   "cell_type": "code",
   "execution_count": 59,
   "id": "cb628429-0f31-4f1d-b61e-19e403d1b008",
   "metadata": {},
   "outputs": [
    {
     "data": {
      "text/html": [
       "<div>\n",
       "<style scoped>\n",
       "    .dataframe tbody tr th:only-of-type {\n",
       "        vertical-align: middle;\n",
       "    }\n",
       "\n",
       "    .dataframe tbody tr th {\n",
       "        vertical-align: top;\n",
       "    }\n",
       "\n",
       "    .dataframe thead th {\n",
       "        text-align: right;\n",
       "    }\n",
       "</style>\n",
       "<table border=\"1\" class=\"dataframe\">\n",
       "  <thead>\n",
       "    <tr style=\"text-align: right;\">\n",
       "      <th>col_0</th>\n",
       "      <th>count</th>\n",
       "    </tr>\n",
       "    <tr>\n",
       "      <th>process_step</th>\n",
       "      <th></th>\n",
       "    </tr>\n",
       "  </thead>\n",
       "  <tbody>\n",
       "    <tr>\n",
       "      <th>confirm</th>\n",
       "      <td>0.12</td>\n",
       "    </tr>\n",
       "    <tr>\n",
       "      <th>start</th>\n",
       "      <td>0.32</td>\n",
       "    </tr>\n",
       "    <tr>\n",
       "      <th>step_1</th>\n",
       "      <td>0.21</td>\n",
       "    </tr>\n",
       "    <tr>\n",
       "      <th>step_2</th>\n",
       "      <td>0.18</td>\n",
       "    </tr>\n",
       "    <tr>\n",
       "      <th>step_3</th>\n",
       "      <td>0.16</td>\n",
       "    </tr>\n",
       "  </tbody>\n",
       "</table>\n",
       "</div>"
      ],
      "text/plain": [
       "col_0         count\n",
       "process_step       \n",
       "confirm        0.12\n",
       "start          0.32\n",
       "step_1         0.21\n",
       "step_2         0.18\n",
       "step_3         0.16"
      ]
     },
     "execution_count": 59,
     "metadata": {},
     "output_type": "execute_result"
    }
   ],
   "source": [
    "my_table = pd.crosstab(index = df[\"process_step\"],  # Make a crosstab\n",
    "                              columns=\"count\")      # Name the count column\n",
    "my_table\n",
    "(my_table/my_table.sum()).round(2)"
   ]
  },
  {
   "cell_type": "code",
   "execution_count": 62,
   "id": "5bea702f-fc69-4c2c-96a6-24d3c3c5b578",
   "metadata": {},
   "outputs": [
    {
     "data": {
      "image/png": "[encoded data removed]",
      "text/plain": [
       "<Figure size 640x480 with 1 Axes>"
      ]
     },
     "metadata": {},
     "output_type": "display_data"
    }
   ],
   "source": [
    "ax=sns.barplot(y=frequency_table.index, x=frequency_table.values, palette=\"Set3\", hue=frequency_table.index, legend='full')\n",
    "sns.move_legend(ax, \"lower right\")"
   ]
  },
  {
   "cell_type": "code",
   "execution_count": 67,
   "id": "bad444a5-e348-4d9b-a3d2-4e69174a435b",
   "metadata": {},
   "outputs": [
    {
     "data": {
      "image/png": "[encoded data removed]",
      "text/plain": [
       "<Figure size 640x480 with 1 Axes>"
      ]
     },
     "metadata": {},
     "output_type": "display_data"
    }
   ],
   "source": [
    "df['gender'].value_counts().plot.pie(autopct='%1.1f%%', startangle=90, colors=sns.color_palette(\"Set3\"));\n",
    "# U means Unknown"
   ]
  },
  {
   "cell_type": "code",
   "execution_count": 71,
   "id": "d17b9173-ae56-4ef4-9d2f-4b0ea199f6a4",
   "metadata": {},
   "outputs": [
    {
     "name": "stdout",
     "output_type": "stream",
     "text": [
      "158890.54829750428\n",
      "68835.51\n",
      "62433.619999999995\n"
     ]
    }
   ],
   "source": [
    "# Measures of centrality of the column balance: \n",
    "mean_balance = df['balance'].mean()\n",
    "median_balance = df['balance'].median()\n",
    "mode_balance = df['balance'].mode()[0]\n",
    "print(mean_balance)\n",
    "print(median_balance)\n",
    "print(mode_balance)"
   ]
  },
  {
   "cell_type": "code",
   "execution_count": 75,
   "id": "72062f0a-1752-4d45-81fb-66d53b3f9c14",
   "metadata": {},
   "outputs": [
    {
     "name": "stdout",
     "output_type": "stream",
     "text": [
      "91621565884.09766\n",
      "302690.54475503135\n",
      "23789.609999999997\n",
      "8292996.21\n",
      "8269206.6\n",
      "0.25     41090.78\n",
      "0.50     68835.51\n",
      "0.75    149374.24\n",
      "Name: balance, dtype: float64\n"
     ]
    }
   ],
   "source": [
    "# Measures of dispersion of the column balance: \n",
    "variance_balance = df['balance'].var()\n",
    "std_dev_balance = df['balance'].std()\n",
    "min_balance = df['balance'].min()\n",
    "max_balance = df['balance'].max()\n",
    "range_balance = max_balance - min_balance\n",
    "quantiles_balance = df['balance'].quantile([0.25, 0.5, 0.75])\n",
    "print(variance_balance)\n",
    "print(std_dev_balance)\n",
    "print(min_balance)\n",
    "print(max_balance)\n",
    "print(range_balance)\n",
    "print(quantiles_balance)"
   ]
  },
  {
   "cell_type": "code",
   "execution_count": 78,
   "id": "a1d9352a-11a3-4751-99f7-a68199a36a14",
   "metadata": {},
   "outputs": [
    {
     "name": "stdout",
     "output_type": "stream",
     "text": [
      "8.022040047731588\n",
      "110.02096331198679\n"
     ]
    }
   ],
   "source": [
    "skewness_price = df['balance'].skew()\n",
    "kurtosis_price = df['balance'].kurtosis()\n",
    "print(skewness_price)\n",
    "print(kurtosis_price)"
   ]
  },
  {
   "cell_type": "code",
   "execution_count": 82,
   "id": "a66ed15c-feb6-4a16-a4d6-f7fdca97e3e5",
   "metadata": {},
   "outputs": [
    {
     "data": {
      "image/png": "[encoded data removed]",
      "text/plain": [
       "<Figure size 640x480 with 1 Axes>"
      ]
     },
     "metadata": {},
     "output_type": "display_data"
    }
   ],
   "source": [
    "sns.histplot(df['tenure_year'], kde=True, bins=30, color=\"salmon\");"
   ]
  },
  {
   "cell_type": "code",
   "execution_count": 86,
   "id": "903b89fb-8479-4948-896d-e75d6011f927",
   "metadata": {},
   "outputs": [
    {
     "data": {
      "image/png": "[encoded data removed]",
      "text/plain": [
       "<Figure size 640x480 with 1 Axes>"
      ]
     },
     "metadata": {},
     "output_type": "display_data"
    }
   ],
   "source": [
    "sns.histplot(df['age'], kde=True, bins=30, color=\"salmon\");"
   ]
  },
  {
   "cell_type": "code",
   "execution_count": 89,
   "id": "ef13b79e-26d8-40fb-9524-cb184bd7acfd",
   "metadata": {},
   "outputs": [
    {
     "data": {
      "image/png": "[encoded data removed]",
      "text/plain": [
       "<Figure size 640x480 with 1 Axes>"
      ]
     },
     "metadata": {},
     "output_type": "display_data"
    }
   ],
   "source": [
    "sns.countplot(data=df, x='num_accounts', palette=\"Set3\", hue='num_accounts', legend=False);"
   ]
  },
  {
   "cell_type": "code",
   "execution_count": 93,
   "id": "15fc28fc-4938-4641-bc83-4dce29eaf360",
   "metadata": {},
   "outputs": [
    {
     "data": {
      "image/png": "[encoded data removed]",
      "text/plain": [
       "<Figure size 640x480 with 1 Axes>"
      ]
     },
     "metadata": {},
     "output_type": "display_data"
    }
   ],
   "source": [
    "sns.countplot(data=df, x='logons_6_months', palette=\"Set3\", hue='logons_6_months', legend=False);"
   ]
  },
  {
   "cell_type": "code",
   "execution_count": 112,
   "id": "6fe37247-37c1-453c-ab41-afee37d00ab0",
   "metadata": {},
   "outputs": [
    {
     "data": {
      "text/plain": [
       "balance_category\n",
       "Low          89004\n",
       "Medium       25305\n",
       "Very High    16973\n",
       "High          9200\n",
       "Name: count, dtype: int64"
      ]
     },
     "execution_count": 112,
     "metadata": {},
     "output_type": "execute_result"
    }
   ],
   "source": [
    "bins = [0, 100000, 200000, 300000,df['balance'].max()]\n",
    "labels = ['Low', 'Medium', 'High', 'Very High']\n",
    "df['balance_category'] = pd.cut(df['balance'], bins=bins, labels=labels, include_lowest=True)\n",
    "df.balance_category.value_counts()"
   ]
  },
  {
   "cell_type": "code",
   "execution_count": 114,
   "id": "50f5fcfe-7371-4e55-a316-e99156e794ce",
   "metadata": {},
   "outputs": [
    {
     "data": {
      "text/plain": [
       "balance_quantile\n",
       "Q3    35128\n",
       "Q1    35125\n",
       "Q2    35118\n",
       "Q4    35111\n",
       "Name: count, dtype: int64"
      ]
     },
     "execution_count": 114,
     "metadata": {},
     "output_type": "execute_result"
    }
   ],
   "source": [
    "df['balance_quantile'] = pd.qcut(df['balance'], q=4, labels=['Q1', 'Q2', 'Q3', 'Q4'])\n",
    "df.balance_quantile.value_counts()"
   ]
  },
  {
   "cell_type": "code",
   "execution_count": 118,
   "id": "4813ce50-5b9e-47e5-841f-0ac613e9a2f7",
   "metadata": {},
   "outputs": [],
   "source": [
    "df_filtered = df[df['balance_quantile'] != 'Q4']"
   ]
  },
  {
   "cell_type": "code",
   "execution_count": 123,
   "id": "5c3683c5-c44b-41b8-b974-fa7be101be83",
   "metadata": {},
   "outputs": [
    {
     "data": {
      "image/png": "[encoded data removed]",
      "text/plain": [
       "<Figure size 800x600 with 1 Axes>"
      ]
     },
     "metadata": {},
     "output_type": "display_data"
    }
   ],
   "source": [
    "plt.figure(figsize=(8, 6))\n",
    "plt.hist(df_filtered['balance'], bins=20, edgecolor='black')\n",
    "plt.title('Histogram of Balance (excluding Q4)')\n",
    "plt.xlabel('Balance')\n",
    "plt.ylabel('Frequency')\n",
    "plt.show()"
   ]
  },
  {
   "cell_type": "code",
   "execution_count": 126,
   "id": "2399ba28-c8e1-45f0-95a1-121d83662d31",
   "metadata": {},
   "outputs": [
    {
     "data": {
      "image/png": "[encoded data removed]",
      "text/plain": [
       "<Figure size 640x480 with 1 Axes>"
      ]
     },
     "metadata": {},
     "output_type": "display_data"
    }
   ],
   "source": [
    "sns.violinplot(data=df_filtered, x='gender', y='balance', palette=\"coolwarm\", hue='gender', legend=False);"
   ]
  },
  {
   "cell_type": "code",
   "execution_count": 130,
   "id": "14342420-d08d-43f5-8d0b-ee11a27327d8",
   "metadata": {},
   "outputs": [
    {
     "data": {
      "image/png": "[encoded data removed]",
      "text/plain": [
       "<Figure size 640x480 with 1 Axes>"
      ]
     },
     "metadata": {},
     "output_type": "display_data"
    }
   ],
   "source": [
    "sm.qqplot(df['balance'], line='s');"
   ]
  },
  {
   "cell_type": "code",
   "execution_count": 137,
   "id": "89374ab9-0d8c-408c-80db-ecb14d675969",
   "metadata": {},
   "outputs": [
    {
     "data": {
      "text/plain": [
       "8        2017-04-08 18:51:28\n",
       "7        2017-04-08 18:52:17\n",
       "6        2017-04-08 18:53:20\n",
       "5        2017-04-08 18:53:29\n",
       "4        2017-04-08 18:58:04\n",
       "                 ...        \n",
       "140473   2017-03-29 15:30:11\n",
       "140472   2017-03-29 15:30:25\n",
       "140470   2017-03-29 15:37:28\n",
       "140471   2017-03-29 15:37:28\n",
       "140481   2017-04-18 11:26:31\n",
       "Name: date_time, Length: 140482, dtype: datetime64[ns]"
      ]
     },
     "execution_count": 137,
     "metadata": {},
     "output_type": "execute_result"
    }
   ],
   "source": [
    "# Convert the 'timestamp' column to datetime\n",
    "df['date_time'] = pd.to_datetime(df['date_time'])\n",
    "df['date_time']"
   ]
  },
  {
   "cell_type": "code",
   "execution_count": 141,
   "id": "9368053c-09e9-429a-9319-83ade53c45eb",
   "metadata": {},
   "outputs": [
    {
     "data": {
      "text/html": [
       "<div>\n",
       "<style scoped>\n",
       "    .dataframe tbody tr th:only-of-type {\n",
       "        vertical-align: middle;\n",
       "    }\n",
       "\n",
       "    .dataframe tbody tr th {\n",
       "        vertical-align: top;\n",
       "    }\n",
       "\n",
       "    .dataframe thead th {\n",
       "        text-align: right;\n",
       "    }\n",
       "</style>\n",
       "<table border=\"1\" class=\"dataframe\">\n",
       "  <thead>\n",
       "    <tr style=\"text-align: right;\">\n",
       "      <th></th>\n",
       "      <th>client_id</th>\n",
       "      <th>visitor_id</th>\n",
       "      <th>visit_id</th>\n",
       "      <th>process_step</th>\n",
       "      <th>date_time</th>\n",
       "      <th>tenure_year</th>\n",
       "      <th>tenure_month</th>\n",
       "      <th>age</th>\n",
       "      <th>gender</th>\n",
       "      <th>num_accounts</th>\n",
       "      <th>balance</th>\n",
       "      <th>calls_6_months</th>\n",
       "      <th>logons_6_months</th>\n",
       "      <th>variation</th>\n",
       "      <th>next_step</th>\n",
       "      <th>is_step_back</th>\n",
       "      <th>balance_category</th>\n",
       "      <th>balance_quantile</th>\n",
       "    </tr>\n",
       "  </thead>\n",
       "  <tbody>\n",
       "    <tr>\n",
       "      <th>8</th>\n",
       "      <td>1028</td>\n",
       "      <td>42237450_62128060588</td>\n",
       "      <td>557292053_87239438319_391157</td>\n",
       "      <td>start</td>\n",
       "      <td>2017-04-08 18:51:28</td>\n",
       "      <td>12.0</td>\n",
       "      <td>145.0</td>\n",
       "      <td>36.0</td>\n",
       "      <td>M</td>\n",
       "      <td>3.0</td>\n",
       "      <td>103520.22</td>\n",
       "      <td>1.0</td>\n",
       "      <td>4.0</td>\n",
       "      <td>Control</td>\n",
       "      <td>step_1</td>\n",
       "      <td>False</td>\n",
       "      <td>Medium</td>\n",
       "      <td>Q3</td>\n",
       "    </tr>\n",
       "    <tr>\n",
       "      <th>7</th>\n",
       "      <td>1028</td>\n",
       "      <td>42237450_62128060588</td>\n",
       "      <td>557292053_87239438319_391157</td>\n",
       "      <td>step_1</td>\n",
       "      <td>2017-04-08 18:52:17</td>\n",
       "      <td>12.0</td>\n",
       "      <td>145.0</td>\n",
       "      <td>36.0</td>\n",
       "      <td>M</td>\n",
       "      <td>3.0</td>\n",
       "      <td>103520.22</td>\n",
       "      <td>1.0</td>\n",
       "      <td>4.0</td>\n",
       "      <td>Control</td>\n",
       "      <td>step_1</td>\n",
       "      <td>False</td>\n",
       "      <td>Medium</td>\n",
       "      <td>Q3</td>\n",
       "    </tr>\n",
       "    <tr>\n",
       "      <th>6</th>\n",
       "      <td>1028</td>\n",
       "      <td>42237450_62128060588</td>\n",
       "      <td>557292053_87239438319_391157</td>\n",
       "      <td>step_1</td>\n",
       "      <td>2017-04-08 18:53:20</td>\n",
       "      <td>12.0</td>\n",
       "      <td>145.0</td>\n",
       "      <td>36.0</td>\n",
       "      <td>M</td>\n",
       "      <td>3.0</td>\n",
       "      <td>103520.22</td>\n",
       "      <td>1.0</td>\n",
       "      <td>4.0</td>\n",
       "      <td>Control</td>\n",
       "      <td>step_2</td>\n",
       "      <td>False</td>\n",
       "      <td>Medium</td>\n",
       "      <td>Q3</td>\n",
       "    </tr>\n",
       "    <tr>\n",
       "      <th>5</th>\n",
       "      <td>1028</td>\n",
       "      <td>42237450_62128060588</td>\n",
       "      <td>557292053_87239438319_391157</td>\n",
       "      <td>step_2</td>\n",
       "      <td>2017-04-08 18:53:29</td>\n",
       "      <td>12.0</td>\n",
       "      <td>145.0</td>\n",
       "      <td>36.0</td>\n",
       "      <td>M</td>\n",
       "      <td>3.0</td>\n",
       "      <td>103520.22</td>\n",
       "      <td>1.0</td>\n",
       "      <td>4.0</td>\n",
       "      <td>Control</td>\n",
       "      <td>step_3</td>\n",
       "      <td>False</td>\n",
       "      <td>Medium</td>\n",
       "      <td>Q3</td>\n",
       "    </tr>\n",
       "    <tr>\n",
       "      <th>4</th>\n",
       "      <td>1028</td>\n",
       "      <td>42237450_62128060588</td>\n",
       "      <td>557292053_87239438319_391157</td>\n",
       "      <td>step_3</td>\n",
       "      <td>2017-04-08 18:58:04</td>\n",
       "      <td>12.0</td>\n",
       "      <td>145.0</td>\n",
       "      <td>36.0</td>\n",
       "      <td>M</td>\n",
       "      <td>3.0</td>\n",
       "      <td>103520.22</td>\n",
       "      <td>1.0</td>\n",
       "      <td>4.0</td>\n",
       "      <td>Control</td>\n",
       "      <td>step_1</td>\n",
       "      <td>True</td>\n",
       "      <td>Medium</td>\n",
       "      <td>Q3</td>\n",
       "    </tr>\n",
       "    <tr>\n",
       "      <th>...</th>\n",
       "      <td>...</td>\n",
       "      <td>...</td>\n",
       "      <td>...</td>\n",
       "      <td>...</td>\n",
       "      <td>...</td>\n",
       "      <td>...</td>\n",
       "      <td>...</td>\n",
       "      <td>...</td>\n",
       "      <td>...</td>\n",
       "      <td>...</td>\n",
       "      <td>...</td>\n",
       "      <td>...</td>\n",
       "      <td>...</td>\n",
       "      <td>...</td>\n",
       "      <td>...</td>\n",
       "      <td>...</td>\n",
       "      <td>...</td>\n",
       "      <td>...</td>\n",
       "    </tr>\n",
       "    <tr>\n",
       "      <th>140473</th>\n",
       "      <td>9998346</td>\n",
       "      <td>292425655_16607136645</td>\n",
       "      <td>189177304_69869411700_783154</td>\n",
       "      <td>step_2</td>\n",
       "      <td>2017-03-29 15:30:11</td>\n",
       "      <td>50.0</td>\n",
       "      <td>602.0</td>\n",
       "      <td>61.5</td>\n",
       "      <td>F</td>\n",
       "      <td>2.0</td>\n",
       "      <td>149881.38</td>\n",
       "      <td>6.0</td>\n",
       "      <td>9.0</td>\n",
       "      <td>Control</td>\n",
       "      <td>step_3</td>\n",
       "      <td>False</td>\n",
       "      <td>Medium</td>\n",
       "      <td>Q4</td>\n",
       "    </tr>\n",
       "    <tr>\n",
       "      <th>140472</th>\n",
       "      <td>9998346</td>\n",
       "      <td>292425655_16607136645</td>\n",
       "      <td>189177304_69869411700_783154</td>\n",
       "      <td>step_3</td>\n",
       "      <td>2017-03-29 15:30:25</td>\n",
       "      <td>50.0</td>\n",
       "      <td>602.0</td>\n",
       "      <td>61.5</td>\n",
       "      <td>F</td>\n",
       "      <td>2.0</td>\n",
       "      <td>149881.38</td>\n",
       "      <td>6.0</td>\n",
       "      <td>9.0</td>\n",
       "      <td>Control</td>\n",
       "      <td>step_3</td>\n",
       "      <td>False</td>\n",
       "      <td>Medium</td>\n",
       "      <td>Q4</td>\n",
       "    </tr>\n",
       "    <tr>\n",
       "      <th>140470</th>\n",
       "      <td>9998346</td>\n",
       "      <td>292425655_16607136645</td>\n",
       "      <td>189177304_69869411700_783154</td>\n",
       "      <td>step_3</td>\n",
       "      <td>2017-03-29 15:37:28</td>\n",
       "      <td>50.0</td>\n",
       "      <td>602.0</td>\n",
       "      <td>61.5</td>\n",
       "      <td>F</td>\n",
       "      <td>2.0</td>\n",
       "      <td>149881.38</td>\n",
       "      <td>6.0</td>\n",
       "      <td>9.0</td>\n",
       "      <td>Control</td>\n",
       "      <td>confirm</td>\n",
       "      <td>False</td>\n",
       "      <td>Medium</td>\n",
       "      <td>Q4</td>\n",
       "    </tr>\n",
       "    <tr>\n",
       "      <th>140471</th>\n",
       "      <td>9998346</td>\n",
       "      <td>292425655_16607136645</td>\n",
       "      <td>189177304_69869411700_783154</td>\n",
       "      <td>confirm</td>\n",
       "      <td>2017-03-29 15:37:28</td>\n",
       "      <td>50.0</td>\n",
       "      <td>602.0</td>\n",
       "      <td>61.5</td>\n",
       "      <td>F</td>\n",
       "      <td>2.0</td>\n",
       "      <td>149881.38</td>\n",
       "      <td>6.0</td>\n",
       "      <td>9.0</td>\n",
       "      <td>Control</td>\n",
       "      <td>NaN</td>\n",
       "      <td>False</td>\n",
       "      <td>Medium</td>\n",
       "      <td>Q4</td>\n",
       "    </tr>\n",
       "    <tr>\n",
       "      <th>140481</th>\n",
       "      <td>9998921</td>\n",
       "      <td>960034051_85687824805</td>\n",
       "      <td>378424178_59565976155_8051</td>\n",
       "      <td>start</td>\n",
       "      <td>2017-04-18 11:26:31</td>\n",
       "      <td>15.0</td>\n",
       "      <td>189.0</td>\n",
       "      <td>38.0</td>\n",
       "      <td>F</td>\n",
       "      <td>2.0</td>\n",
       "      <td>30644.10</td>\n",
       "      <td>4.0</td>\n",
       "      <td>7.0</td>\n",
       "      <td>Control</td>\n",
       "      <td>NaN</td>\n",
       "      <td>False</td>\n",
       "      <td>Low</td>\n",
       "      <td>Q1</td>\n",
       "    </tr>\n",
       "  </tbody>\n",
       "</table>\n",
       "<p>140482 rows × 18 columns</p>\n",
       "</div>"
      ],
      "text/plain": [
       "        client_id             visitor_id                      visit_id  \\\n",
       "8            1028   42237450_62128060588  557292053_87239438319_391157   \n",
       "7            1028   42237450_62128060588  557292053_87239438319_391157   \n",
       "6            1028   42237450_62128060588  557292053_87239438319_391157   \n",
       "5            1028   42237450_62128060588  557292053_87239438319_391157   \n",
       "4            1028   42237450_62128060588  557292053_87239438319_391157   \n",
       "...           ...                    ...                           ...   \n",
       "140473    9998346  292425655_16607136645  189177304_69869411700_783154   \n",
       "140472    9998346  292425655_16607136645  189177304_69869411700_783154   \n",
       "140470    9998346  292425655_16607136645  189177304_69869411700_783154   \n",
       "140471    9998346  292425655_16607136645  189177304_69869411700_783154   \n",
       "140481    9998921  960034051_85687824805    378424178_59565976155_8051   \n",
       "\n",
       "       process_step           date_time  tenure_year  tenure_month   age  \\\n",
       "8             start 2017-04-08 18:51:28         12.0         145.0  36.0   \n",
       "7            step_1 2017-04-08 18:52:17         12.0         145.0  36.0   \n",
       "6            step_1 2017-04-08 18:53:20         12.0         145.0  36.0   \n",
       "5            step_2 2017-04-08 18:53:29         12.0         145.0  36.0   \n",
       "4            step_3 2017-04-08 18:58:04         12.0         145.0  36.0   \n",
       "...             ...                 ...          ...           ...   ...   \n",
       "140473       step_2 2017-03-29 15:30:11         50.0         602.0  61.5   \n",
       "140472       step_3 2017-03-29 15:30:25         50.0         602.0  61.5   \n",
       "140470       step_3 2017-03-29 15:37:28         50.0         602.0  61.5   \n",
       "140471      confirm 2017-03-29 15:37:28         50.0         602.0  61.5   \n",
       "140481        start 2017-04-18 11:26:31         15.0         189.0  38.0   \n",
       "\n",
       "       gender  num_accounts    balance  calls_6_months  logons_6_months  \\\n",
       "8           M           3.0  103520.22             1.0              4.0   \n",
       "7           M           3.0  103520.22             1.0              4.0   \n",
       "6           M           3.0  103520.22             1.0              4.0   \n",
       "5           M           3.0  103520.22             1.0              4.0   \n",
       "4           M           3.0  103520.22             1.0              4.0   \n",
       "...       ...           ...        ...             ...              ...   \n",
       "140473      F           2.0  149881.38             6.0              9.0   \n",
       "140472      F           2.0  149881.38             6.0              9.0   \n",
       "140470      F           2.0  149881.38             6.0              9.0   \n",
       "140471      F           2.0  149881.38             6.0              9.0   \n",
       "140481      F           2.0   30644.10             4.0              7.0   \n",
       "\n",
       "       variation next_step  is_step_back balance_category balance_quantile  \n",
       "8        Control    step_1         False           Medium               Q3  \n",
       "7        Control    step_1         False           Medium               Q3  \n",
       "6        Control    step_2         False           Medium               Q3  \n",
       "5        Control    step_3         False           Medium               Q3  \n",
       "4        Control    step_1          True           Medium               Q3  \n",
       "...          ...       ...           ...              ...              ...  \n",
       "140473   Control    step_3         False           Medium               Q4  \n",
       "140472   Control    step_3         False           Medium               Q4  \n",
       "140470   Control   confirm         False           Medium               Q4  \n",
       "140471   Control       NaN         False           Medium               Q4  \n",
       "140481   Control       NaN         False              Low               Q1  \n",
       "\n",
       "[140482 rows x 18 columns]"
      ]
     },
     "execution_count": 141,
     "metadata": {},
     "output_type": "execute_result"
    }
   ],
   "source": [
    "# Sort by user_id and timestamp\n",
    "df = df.sort_values(by=['client_id',\"visitor_id\", \"visit_id\",'date_time'])\n",
    "df"
   ]
  },
  {
   "cell_type": "code",
   "execution_count": 144,
   "id": "32acab93-1199-42d7-9efc-b69ff7c37e48",
   "metadata": {},
   "outputs": [
    {
     "data": {
      "text/plain": [
       "8                    NaT\n",
       "7        0 days 00:00:49\n",
       "6        0 days 00:01:03\n",
       "5        0 days 00:00:09\n",
       "4        0 days 00:04:35\n",
       "               ...      \n",
       "140473   0 days 00:00:16\n",
       "140472   0 days 00:00:14\n",
       "140470   0 days 00:07:03\n",
       "140471   0 days 00:00:00\n",
       "140481               NaT\n",
       "Name: time_diff, Length: 140482, dtype: timedelta64[ns]"
      ]
     },
     "execution_count": 144,
     "metadata": {},
     "output_type": "execute_result"
    }
   ],
   "source": [
    "# Calculate the time difference between consecutive steps for each user\n",
    "df['time_diff'] = df.groupby(['client_id', 'visitor_id', 'visit_id'])['date_time'].diff()\n",
    "df['time_diff']"
   ]
  },
  {
   "cell_type": "code",
   "execution_count": 147,
   "id": "0eeb8f58-6858-4d08-a805-e538600cddb5",
   "metadata": {},
   "outputs": [
    {
     "data": {
      "text/plain": [
       "8           NaN\n",
       "7          49.0\n",
       "6          63.0\n",
       "5           9.0\n",
       "4         275.0\n",
       "          ...  \n",
       "140473     16.0\n",
       "140472     14.0\n",
       "140470    423.0\n",
       "140471      0.0\n",
       "140481      NaN\n",
       "Name: time_diff_seconds, Length: 140482, dtype: float64"
      ]
     },
     "execution_count": 147,
     "metadata": {},
     "output_type": "execute_result"
    }
   ],
   "source": [
    "# Now calculate the total time spent for each user by summing up the time differences\n",
    "# If you want total time in seconds or minutes:\n",
    "df['time_diff_seconds'] = df['time_diff'].dt.total_seconds()\n",
    "df['time_diff_seconds']"
   ]
  },
  {
   "cell_type": "code",
   "execution_count": 150,
   "id": "4ffa89e7-a891-4b4a-a886-34aa74238d9f",
   "metadata": {},
   "outputs": [
    {
     "data": {
      "text/plain": [
       "client_id  visitor_id             visit_id                    \n",
       "1028       42237450_62128060588   557292053_87239438319_391157     538.0\n",
       "1104       194240915_18158000533  543158812_46395476577_767725       0.0\n",
       "                                  643221571_99977972121_69283        0.0\n",
       "1186       446844663_31615102958  507052512_11309370126_442139       0.0\n",
       "                                  795373564_99931517312_810896      22.0\n",
       "                                                                   ...  \n",
       "9997470    395791369_55562604618  761490147_96352537762_21814     2626.0\n",
       "                                  904791598_9725982898_416914        0.0\n",
       "           91394485_75296404278   655572400_94971272893_411965       0.0\n",
       "9998346    292425655_16607136645  189177304_69869411700_783154     748.0\n",
       "9998921    960034051_85687824805  378424178_59565976155_8051         0.0\n",
       "Name: time_diff_seconds, Length: 32235, dtype: float64"
      ]
     },
     "execution_count": 150,
     "metadata": {},
     "output_type": "execute_result"
    }
   ],
   "source": [
    "# Calculate the total time per user (sum of time differences in seconds)\n",
    "total_time_per_user_seconds = df.groupby(['client_id', \"visitor_id\", \"visit_id\"])['time_diff_seconds'].sum()\n",
    "total_time_per_user_seconds"
   ]
  },
  {
   "cell_type": "code",
   "execution_count": 153,
   "id": "df70d658-2b6e-4dc7-89c1-219b2a8e6ede",
   "metadata": {},
   "outputs": [
    {
     "data": {
      "text/plain": [
       "client_id  visitor_id             visit_id                    \n",
       "1028       42237450_62128060588   557292053_87239438319_391157     8.966667\n",
       "1104       194240915_18158000533  543158812_46395476577_767725     0.000000\n",
       "                                  643221571_99977972121_69283      0.000000\n",
       "1186       446844663_31615102958  507052512_11309370126_442139     0.000000\n",
       "                                  795373564_99931517312_810896     0.366667\n",
       "                                                                    ...    \n",
       "9997470    395791369_55562604618  761490147_96352537762_21814     43.766667\n",
       "                                  904791598_9725982898_416914      0.000000\n",
       "           91394485_75296404278   655572400_94971272893_411965     0.000000\n",
       "9998346    292425655_16607136645  189177304_69869411700_783154    12.466667\n",
       "9998921    960034051_85687824805  378424178_59565976155_8051       0.000000\n",
       "Name: time_diff_seconds, Length: 32235, dtype: float64"
      ]
     },
     "execution_count": 153,
     "metadata": {},
     "output_type": "execute_result"
    }
   ],
   "source": [
    "# Convert the total time from seconds to a more readable format (e.g., minutes, hours)\n",
    "total_time_per_user_minutes = total_time_per_user_seconds / 60\n",
    "total_time_per_user_hours = total_time_per_user_seconds / 3600\n",
    "total_time_per_user_minutes"
   ]
  },
  {
   "cell_type": "code",
   "execution_count": 156,
   "id": "59fa05f0-f4dd-4526-bb2a-a013a5c26963",
   "metadata": {},
   "outputs": [
    {
     "data": {
      "text/plain": [
       "client_id  visitor_id             visit_id                    \n",
       "1028       42237450_62128060588   557292053_87239438319_391157    0.149444\n",
       "1104       194240915_18158000533  543158812_46395476577_767725    0.000000\n",
       "                                  643221571_99977972121_69283     0.000000\n",
       "1186       446844663_31615102958  507052512_11309370126_442139    0.000000\n",
       "                                  795373564_99931517312_810896    0.006111\n",
       "                                                                    ...   \n",
       "9997470    395791369_55562604618  761490147_96352537762_21814     0.729444\n",
       "                                  904791598_9725982898_416914     0.000000\n",
       "           91394485_75296404278   655572400_94971272893_411965    0.000000\n",
       "9998346    292425655_16607136645  189177304_69869411700_783154    0.207778\n",
       "9998921    960034051_85687824805  378424178_59565976155_8051      0.000000\n",
       "Name: time_diff_seconds, Length: 32235, dtype: float64"
      ]
     },
     "execution_count": 156,
     "metadata": {},
     "output_type": "execute_result"
    }
   ],
   "source": [
    "total_time_per_user_hours"
   ]
  },
  {
   "cell_type": "code",
   "execution_count": 159,
   "id": "c8cf57e7-0bb9-4f0d-92a8-1fb3bf079622",
   "metadata": {},
   "outputs": [
    {
     "data": {
      "text/plain": [
       "280.48317046688385"
      ]
     },
     "execution_count": 159,
     "metadata": {},
     "output_type": "execute_result"
    }
   ],
   "source": [
    "total_time_per_user_seconds.mean()"
   ]
  },
  {
   "cell_type": "code",
   "execution_count": 164,
   "id": "68d96cef-8e39-490b-9480-aa23c91367a2",
   "metadata": {},
   "outputs": [
    {
     "data": {
      "text/plain": [
       "4.674719507781396"
      ]
     },
     "execution_count": 164,
     "metadata": {},
     "output_type": "execute_result"
    }
   ],
   "source": [
    "total_time_per_user_minutes.mean()"
   ]
  },
  {
   "cell_type": "code",
   "execution_count": 167,
   "id": "29ec724d-814c-4fb1-9779-53a4963c1f23",
   "metadata": {},
   "outputs": [
    {
     "data": {
      "text/plain": [
       "0.07791199179635662"
      ]
     },
     "execution_count": 167,
     "metadata": {},
     "output_type": "execute_result"
    }
   ],
   "source": [
    "total_time_per_user_hours.mean()"
   ]
  },
  {
   "cell_type": "code",
   "execution_count": 169,
   "id": "5e9f61cb-cc5f-420d-b541-885eeaabdfbf",
   "metadata": {},
   "outputs": [
    {
     "data": {
      "text/plain": [
       "Index(['client_id', 'visitor_id', 'visit_id', 'process_step', 'date_time',\n",
       "       'tenure_year', 'tenure_month', 'age', 'gender', 'num_accounts',\n",
       "       'balance', 'calls_6_months', 'logons_6_months', 'variation',\n",
       "       'next_step', 'is_step_back', 'balance_category', 'balance_quantile',\n",
       "       'time_diff', 'time_diff_seconds'],\n",
       "      dtype='object')"
      ]
     },
     "execution_count": 169,
     "metadata": {},
     "output_type": "execute_result"
    }
   ],
   "source": [
    "df.columns"
   ]
  },
  {
   "cell_type": "code",
   "execution_count": 177,
   "id": "673dd590-2ead-4026-b50c-46ffde9effcb",
   "metadata": {},
   "outputs": [
    {
     "name": "stdout",
     "output_type": "stream",
     "text": [
      "Total number of steps: 140482\n",
      "Total number of step-back errors: 9576\n",
      "Total error rate: 6.816532%\n"
     ]
    }
   ],
   "source": [
    "# Ensure date_time is in datetime format\n",
    "df['date_time'] = pd.to_datetime(df['date_time'])\n",
    "\n",
    "# Sort by client_id, visit_id, and date_time to ensure chronological order\n",
    "df = df.sort_values(by=['client_id', 'visit_id', 'date_time'])\n",
    "\n",
    "# Define the process steps in the correct order\n",
    "process_order = ['start', 'step_1', 'step_2', 'step_3', 'confirm']\n",
    "\n",
    "# Create a new column that shows the next step\n",
    "df['next_step'] = df.groupby(['client_id', 'visit_id'])['process_step'].shift(-1)\n",
    "\n",
    "# Identify step-back errors\n",
    "df['is_step_back'] = df.apply(\n",
    "    lambda row: process_order.index(row['next_step']) < process_order.index(row['process_step']) \n",
    "    if pd.notnull(row['next_step']) else False, axis=1\n",
    ")\n",
    "\n",
    "# Calculate total steps and total errors\n",
    "total_steps = len(df)  # Total number of rows (steps)\n",
    "total_step_back_errors = df['is_step_back'].sum()  # Sum of step-back errors\n",
    "\n",
    "# Calculate the overall error rate\n",
    "total_error_rate = total_step_back_errors / total_steps * 100\n",
    "\n",
    "print(f\"Total number of steps: {total_steps}\")\n",
    "print(f\"Total number of step-back errors: {total_step_back_errors}\")\n",
    "print(f\"Total error rate: {total_error_rate:.6f}%\")"
   ]
  },
  {
   "cell_type": "code",
   "execution_count": 179,
   "id": "774202d7-3958-4bcf-b60d-334b3a0f62fe",
   "metadata": {},
   "outputs": [
    {
     "data": {
      "text/plain": [
       "Index(['client_id', 'visitor_id', 'visit_id', 'process_step', 'date_time',\n",
       "       'tenure_year', 'tenure_month', 'age', 'gender', 'num_accounts',\n",
       "       'balance', 'calls_6_months', 'logons_6_months', 'variation',\n",
       "       'next_step', 'is_step_back', 'balance_category', 'balance_quantile',\n",
       "       'time_diff', 'time_diff_seconds'],\n",
       "      dtype='object')"
      ]
     },
     "execution_count": 179,
     "metadata": {},
     "output_type": "execute_result"
    }
   ],
   "source": [
    "df.columns"
   ]
  },
  {
   "cell_type": "code",
   "execution_count": 183,
   "id": "d7dfe63d-94f6-48af-a9df-b3f08aaa029f",
   "metadata": {},
   "outputs": [
    {
     "data": {
      "text/plain": [
       "83.52540948017035"
      ]
     },
     "execution_count": 183,
     "metadata": {},
     "output_type": "execute_result"
    }
   ],
   "source": [
    "df.time_diff_seconds.mean()\n",
    "# Mean Start - Step1\n",
    "# Mean Step 1 - Step 2\n",
    "# Mean Step 2- Step 3\n",
    "# Mean Step 3- Confirm\n",
    "# Mean Start - Confirm "
   ]
  },
  {
   "cell_type": "code",
   "execution_count": 185,
   "id": "b122d803-305d-451a-8cfc-8d934c36eada",
   "metadata": {},
   "outputs": [
    {
     "data": {
      "text/html": [
       "<div>\n",
       "<style scoped>\n",
       "    .dataframe tbody tr th:only-of-type {\n",
       "        vertical-align: middle;\n",
       "    }\n",
       "\n",
       "    .dataframe tbody tr th {\n",
       "        vertical-align: top;\n",
       "    }\n",
       "\n",
       "    .dataframe thead th {\n",
       "        text-align: right;\n",
       "    }\n",
       "</style>\n",
       "<table border=\"1\" class=\"dataframe\">\n",
       "  <thead>\n",
       "    <tr style=\"text-align: right;\">\n",
       "      <th></th>\n",
       "      <th>client_id</th>\n",
       "      <th>visitor_id</th>\n",
       "      <th>visit_id</th>\n",
       "      <th>process_step</th>\n",
       "      <th>date_time</th>\n",
       "      <th>tenure_year</th>\n",
       "      <th>tenure_month</th>\n",
       "      <th>age</th>\n",
       "      <th>gender</th>\n",
       "      <th>num_accounts</th>\n",
       "      <th>balance</th>\n",
       "      <th>calls_6_months</th>\n",
       "      <th>logons_6_months</th>\n",
       "      <th>variation</th>\n",
       "      <th>next_step</th>\n",
       "      <th>is_step_back</th>\n",
       "      <th>balance_category</th>\n",
       "      <th>balance_quantile</th>\n",
       "      <th>time_diff</th>\n",
       "      <th>time_diff_seconds</th>\n",
       "    </tr>\n",
       "  </thead>\n",
       "  <tbody>\n",
       "    <tr>\n",
       "      <th>8</th>\n",
       "      <td>1028</td>\n",
       "      <td>42237450_62128060588</td>\n",
       "      <td>557292053_87239438319_391157</td>\n",
       "      <td>start</td>\n",
       "      <td>2017-04-08 18:51:28</td>\n",
       "      <td>12.0</td>\n",
       "      <td>145.0</td>\n",
       "      <td>36.0</td>\n",
       "      <td>M</td>\n",
       "      <td>3.0</td>\n",
       "      <td>103520.22</td>\n",
       "      <td>1.0</td>\n",
       "      <td>4.0</td>\n",
       "      <td>Control</td>\n",
       "      <td>step_1</td>\n",
       "      <td>False</td>\n",
       "      <td>Medium</td>\n",
       "      <td>Q3</td>\n",
       "      <td>NaT</td>\n",
       "      <td>NaN</td>\n",
       "    </tr>\n",
       "    <tr>\n",
       "      <th>7</th>\n",
       "      <td>1028</td>\n",
       "      <td>42237450_62128060588</td>\n",
       "      <td>557292053_87239438319_391157</td>\n",
       "      <td>step_1</td>\n",
       "      <td>2017-04-08 18:52:17</td>\n",
       "      <td>12.0</td>\n",
       "      <td>145.0</td>\n",
       "      <td>36.0</td>\n",
       "      <td>M</td>\n",
       "      <td>3.0</td>\n",
       "      <td>103520.22</td>\n",
       "      <td>1.0</td>\n",
       "      <td>4.0</td>\n",
       "      <td>Control</td>\n",
       "      <td>step_1</td>\n",
       "      <td>False</td>\n",
       "      <td>Medium</td>\n",
       "      <td>Q3</td>\n",
       "      <td>0 days 00:00:49</td>\n",
       "      <td>49.0</td>\n",
       "    </tr>\n",
       "    <tr>\n",
       "      <th>6</th>\n",
       "      <td>1028</td>\n",
       "      <td>42237450_62128060588</td>\n",
       "      <td>557292053_87239438319_391157</td>\n",
       "      <td>step_1</td>\n",
       "      <td>2017-04-08 18:53:20</td>\n",
       "      <td>12.0</td>\n",
       "      <td>145.0</td>\n",
       "      <td>36.0</td>\n",
       "      <td>M</td>\n",
       "      <td>3.0</td>\n",
       "      <td>103520.22</td>\n",
       "      <td>1.0</td>\n",
       "      <td>4.0</td>\n",
       "      <td>Control</td>\n",
       "      <td>step_2</td>\n",
       "      <td>False</td>\n",
       "      <td>Medium</td>\n",
       "      <td>Q3</td>\n",
       "      <td>0 days 00:01:03</td>\n",
       "      <td>63.0</td>\n",
       "    </tr>\n",
       "    <tr>\n",
       "      <th>5</th>\n",
       "      <td>1028</td>\n",
       "      <td>42237450_62128060588</td>\n",
       "      <td>557292053_87239438319_391157</td>\n",
       "      <td>step_2</td>\n",
       "      <td>2017-04-08 18:53:29</td>\n",
       "      <td>12.0</td>\n",
       "      <td>145.0</td>\n",
       "      <td>36.0</td>\n",
       "      <td>M</td>\n",
       "      <td>3.0</td>\n",
       "      <td>103520.22</td>\n",
       "      <td>1.0</td>\n",
       "      <td>4.0</td>\n",
       "      <td>Control</td>\n",
       "      <td>step_3</td>\n",
       "      <td>False</td>\n",
       "      <td>Medium</td>\n",
       "      <td>Q3</td>\n",
       "      <td>0 days 00:00:09</td>\n",
       "      <td>9.0</td>\n",
       "    </tr>\n",
       "    <tr>\n",
       "      <th>4</th>\n",
       "      <td>1028</td>\n",
       "      <td>42237450_62128060588</td>\n",
       "      <td>557292053_87239438319_391157</td>\n",
       "      <td>step_3</td>\n",
       "      <td>2017-04-08 18:58:04</td>\n",
       "      <td>12.0</td>\n",
       "      <td>145.0</td>\n",
       "      <td>36.0</td>\n",
       "      <td>M</td>\n",
       "      <td>3.0</td>\n",
       "      <td>103520.22</td>\n",
       "      <td>1.0</td>\n",
       "      <td>4.0</td>\n",
       "      <td>Control</td>\n",
       "      <td>step_1</td>\n",
       "      <td>True</td>\n",
       "      <td>Medium</td>\n",
       "      <td>Q3</td>\n",
       "      <td>0 days 00:04:35</td>\n",
       "      <td>275.0</td>\n",
       "    </tr>\n",
       "    <tr>\n",
       "      <th>...</th>\n",
       "      <td>...</td>\n",
       "      <td>...</td>\n",
       "      <td>...</td>\n",
       "      <td>...</td>\n",
       "      <td>...</td>\n",
       "      <td>...</td>\n",
       "      <td>...</td>\n",
       "      <td>...</td>\n",
       "      <td>...</td>\n",
       "      <td>...</td>\n",
       "      <td>...</td>\n",
       "      <td>...</td>\n",
       "      <td>...</td>\n",
       "      <td>...</td>\n",
       "      <td>...</td>\n",
       "      <td>...</td>\n",
       "      <td>...</td>\n",
       "      <td>...</td>\n",
       "      <td>...</td>\n",
       "      <td>...</td>\n",
       "    </tr>\n",
       "    <tr>\n",
       "      <th>140473</th>\n",
       "      <td>9998346</td>\n",
       "      <td>292425655_16607136645</td>\n",
       "      <td>189177304_69869411700_783154</td>\n",
       "      <td>step_2</td>\n",
       "      <td>2017-03-29 15:30:11</td>\n",
       "      <td>50.0</td>\n",
       "      <td>602.0</td>\n",
       "      <td>61.5</td>\n",
       "      <td>F</td>\n",
       "      <td>2.0</td>\n",
       "      <td>149881.38</td>\n",
       "      <td>6.0</td>\n",
       "      <td>9.0</td>\n",
       "      <td>Control</td>\n",
       "      <td>step_3</td>\n",
       "      <td>False</td>\n",
       "      <td>Medium</td>\n",
       "      <td>Q4</td>\n",
       "      <td>0 days 00:00:16</td>\n",
       "      <td>16.0</td>\n",
       "    </tr>\n",
       "    <tr>\n",
       "      <th>140472</th>\n",
       "      <td>9998346</td>\n",
       "      <td>292425655_16607136645</td>\n",
       "      <td>189177304_69869411700_783154</td>\n",
       "      <td>step_3</td>\n",
       "      <td>2017-03-29 15:30:25</td>\n",
       "      <td>50.0</td>\n",
       "      <td>602.0</td>\n",
       "      <td>61.5</td>\n",
       "      <td>F</td>\n",
       "      <td>2.0</td>\n",
       "      <td>149881.38</td>\n",
       "      <td>6.0</td>\n",
       "      <td>9.0</td>\n",
       "      <td>Control</td>\n",
       "      <td>step_3</td>\n",
       "      <td>False</td>\n",
       "      <td>Medium</td>\n",
       "      <td>Q4</td>\n",
       "      <td>0 days 00:00:14</td>\n",
       "      <td>14.0</td>\n",
       "    </tr>\n",
       "    <tr>\n",
       "      <th>140470</th>\n",
       "      <td>9998346</td>\n",
       "      <td>292425655_16607136645</td>\n",
       "      <td>189177304_69869411700_783154</td>\n",
       "      <td>step_3</td>\n",
       "      <td>2017-03-29 15:37:28</td>\n",
       "      <td>50.0</td>\n",
       "      <td>602.0</td>\n",
       "      <td>61.5</td>\n",
       "      <td>F</td>\n",
       "      <td>2.0</td>\n",
       "      <td>149881.38</td>\n",
       "      <td>6.0</td>\n",
       "      <td>9.0</td>\n",
       "      <td>Control</td>\n",
       "      <td>confirm</td>\n",
       "      <td>False</td>\n",
       "      <td>Medium</td>\n",
       "      <td>Q4</td>\n",
       "      <td>0 days 00:07:03</td>\n",
       "      <td>423.0</td>\n",
       "    </tr>\n",
       "    <tr>\n",
       "      <th>140471</th>\n",
       "      <td>9998346</td>\n",
       "      <td>292425655_16607136645</td>\n",
       "      <td>189177304_69869411700_783154</td>\n",
       "      <td>confirm</td>\n",
       "      <td>2017-03-29 15:37:28</td>\n",
       "      <td>50.0</td>\n",
       "      <td>602.0</td>\n",
       "      <td>61.5</td>\n",
       "      <td>F</td>\n",
       "      <td>2.0</td>\n",
       "      <td>149881.38</td>\n",
       "      <td>6.0</td>\n",
       "      <td>9.0</td>\n",
       "      <td>Control</td>\n",
       "      <td>NaN</td>\n",
       "      <td>False</td>\n",
       "      <td>Medium</td>\n",
       "      <td>Q4</td>\n",
       "      <td>0 days 00:00:00</td>\n",
       "      <td>0.0</td>\n",
       "    </tr>\n",
       "    <tr>\n",
       "      <th>140481</th>\n",
       "      <td>9998921</td>\n",
       "      <td>960034051_85687824805</td>\n",
       "      <td>378424178_59565976155_8051</td>\n",
       "      <td>start</td>\n",
       "      <td>2017-04-18 11:26:31</td>\n",
       "      <td>15.0</td>\n",
       "      <td>189.0</td>\n",
       "      <td>38.0</td>\n",
       "      <td>F</td>\n",
       "      <td>2.0</td>\n",
       "      <td>30644.10</td>\n",
       "      <td>4.0</td>\n",
       "      <td>7.0</td>\n",
       "      <td>Control</td>\n",
       "      <td>NaN</td>\n",
       "      <td>False</td>\n",
       "      <td>Low</td>\n",
       "      <td>Q1</td>\n",
       "      <td>NaT</td>\n",
       "      <td>NaN</td>\n",
       "    </tr>\n",
       "  </tbody>\n",
       "</table>\n",
       "<p>140482 rows × 20 columns</p>\n",
       "</div>"
      ],
      "text/plain": [
       "        client_id             visitor_id                      visit_id  \\\n",
       "8            1028   42237450_62128060588  557292053_87239438319_391157   \n",
       "7            1028   42237450_62128060588  557292053_87239438319_391157   \n",
       "6            1028   42237450_62128060588  557292053_87239438319_391157   \n",
       "5            1028   42237450_62128060588  557292053_87239438319_391157   \n",
       "4            1028   42237450_62128060588  557292053_87239438319_391157   \n",
       "...           ...                    ...                           ...   \n",
       "140473    9998346  292425655_16607136645  189177304_69869411700_783154   \n",
       "140472    9998346  292425655_16607136645  189177304_69869411700_783154   \n",
       "140470    9998346  292425655_16607136645  189177304_69869411700_783154   \n",
       "140471    9998346  292425655_16607136645  189177304_69869411700_783154   \n",
       "140481    9998921  960034051_85687824805    378424178_59565976155_8051   \n",
       "\n",
       "       process_step           date_time  tenure_year  tenure_month   age  \\\n",
       "8             start 2017-04-08 18:51:28         12.0         145.0  36.0   \n",
       "7            step_1 2017-04-08 18:52:17         12.0         145.0  36.0   \n",
       "6            step_1 2017-04-08 18:53:20         12.0         145.0  36.0   \n",
       "5            step_2 2017-04-08 18:53:29         12.0         145.0  36.0   \n",
       "4            step_3 2017-04-08 18:58:04         12.0         145.0  36.0   \n",
       "...             ...                 ...          ...           ...   ...   \n",
       "140473       step_2 2017-03-29 15:30:11         50.0         602.0  61.5   \n",
       "140472       step_3 2017-03-29 15:30:25         50.0         602.0  61.5   \n",
       "140470       step_3 2017-03-29 15:37:28         50.0         602.0  61.5   \n",
       "140471      confirm 2017-03-29 15:37:28         50.0         602.0  61.5   \n",
       "140481        start 2017-04-18 11:26:31         15.0         189.0  38.0   \n",
       "\n",
       "       gender  num_accounts    balance  calls_6_months  logons_6_months  \\\n",
       "8           M           3.0  103520.22             1.0              4.0   \n",
       "7           M           3.0  103520.22             1.0              4.0   \n",
       "6           M           3.0  103520.22             1.0              4.0   \n",
       "5           M           3.0  103520.22             1.0              4.0   \n",
       "4           M           3.0  103520.22             1.0              4.0   \n",
       "...       ...           ...        ...             ...              ...   \n",
       "140473      F           2.0  149881.38             6.0              9.0   \n",
       "140472      F           2.0  149881.38             6.0              9.0   \n",
       "140470      F           2.0  149881.38             6.0              9.0   \n",
       "140471      F           2.0  149881.38             6.0              9.0   \n",
       "140481      F           2.0   30644.10             4.0              7.0   \n",
       "\n",
       "       variation next_step  is_step_back balance_category balance_quantile  \\\n",
       "8        Control    step_1         False           Medium               Q3   \n",
       "7        Control    step_1         False           Medium               Q3   \n",
       "6        Control    step_2         False           Medium               Q3   \n",
       "5        Control    step_3         False           Medium               Q3   \n",
       "4        Control    step_1          True           Medium               Q3   \n",
       "...          ...       ...           ...              ...              ...   \n",
       "140473   Control    step_3         False           Medium               Q4   \n",
       "140472   Control    step_3         False           Medium               Q4   \n",
       "140470   Control   confirm         False           Medium               Q4   \n",
       "140471   Control       NaN         False           Medium               Q4   \n",
       "140481   Control       NaN         False              Low               Q1   \n",
       "\n",
       "             time_diff  time_diff_seconds  \n",
       "8                  NaT                NaN  \n",
       "7      0 days 00:00:49               49.0  \n",
       "6      0 days 00:01:03               63.0  \n",
       "5      0 days 00:00:09                9.0  \n",
       "4      0 days 00:04:35              275.0  \n",
       "...                ...                ...  \n",
       "140473 0 days 00:00:16               16.0  \n",
       "140472 0 days 00:00:14               14.0  \n",
       "140470 0 days 00:07:03              423.0  \n",
       "140471 0 days 00:00:00                0.0  \n",
       "140481             NaT                NaN  \n",
       "\n",
       "[140482 rows x 20 columns]"
      ]
     },
     "execution_count": 185,
     "metadata": {},
     "output_type": "execute_result"
    }
   ],
   "source": [
    "df"
   ]
  },
  {
   "cell_type": "code",
   "execution_count": null,
   "id": "9a89d01e-2af5-4615-bff6-a31eb348e09f",
   "metadata": {},
   "outputs": [],
   "source": []
  }
 ],
 "metadata": {
  "kernelspec": {
   "display_name": "Python 3 (ipykernel)",
   "language": "python",
   "name": "python3"
  },
  "language_info": {
   "codemirror_mode": {
    "name": "ipython",
    "version": 3
   },
   "file_extension": ".py",
   "mimetype": "text/x-python",
   "name": "python",
   "nbconvert_exporter": "python",
   "pygments_lexer": "ipython3",
   "version": "3.12.2"
  }
 },
 "nbformat": 4,
 "nbformat_minor": 5
}
