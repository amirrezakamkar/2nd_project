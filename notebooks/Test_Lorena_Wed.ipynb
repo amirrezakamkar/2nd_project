{
 "cells": [
  {
   "cell_type": "code",
   "execution_count": 4,
   "id": "51d10cb6-38e7-46cf-94d1-fd9f25e74bc1",
   "metadata": {},
   "outputs": [],
   "source": [
    "import pandas as pd\n",
    "import numpy as np\n",
    "import seaborn as sns\n",
    "import matplotlib.pyplot as plt\n",
    "%matplotlib inline\n",
    "import statsmodels.api as sm"
   ]
  },
  {
   "cell_type": "code",
   "execution_count": 5,
   "id": "3eb3c233-4147-417e-8b7b-029acf87caea",
   "metadata": {},
   "outputs": [],
   "source": [
    "url = '../data/clean/combined_data_test.txt'\n",
    "df = pd.read_csv(url)"
   ]
  },
  {
   "cell_type": "code",
   "execution_count": 8,
   "id": "c4790bd1-6443-4ab3-be3e-a736b324e42a",
   "metadata": {},
   "outputs": [
    {
     "name": "stdout",
     "output_type": "stream",
     "text": [
      "Total number of steps: 176641\n",
      "Total number of step-back errors: 16248\n",
      "Total error rate: 9.198317%\n"
     ]
    }
   ],
   "source": [
    "# Ensure date_time is in datetime format\n",
    "df['date_time'] = pd.to_datetime(df['date_time'])\n",
    "\n",
    "# Sort by client_id, visit_id, and date_time to ensure chronological order\n",
    "df = df.sort_values(by=['client_id',\"visitor_id\", \"visit_id\",'date_time'])\n",
    "\n",
    "# Define the process steps in the correct order\n",
    "process_order = ['start', 'step_1', 'step_2', 'step_3', 'confirm']\n",
    "\n",
    "# Create a new column that shows the next step\n",
    "df['next_step'] = df.groupby(['client_id',\"visitor_id\", \"visit_id\"])['process_step'].shift(-1)\n",
    "\n",
    "# Identify step-back errors\n",
    "df['is_step_back'] = df.apply(\n",
    "    lambda row: process_order.index(row['next_step']) < process_order.index(row['process_step']) \n",
    "    if pd.notnull(row['next_step']) else False, axis=1\n",
    ")\n",
    "\n",
    "# Calculate total steps and total errors\n",
    "total_steps = len(df)  # Total number of rows (steps)\n",
    "total_step_back_errors = df['is_step_back'].sum()  # Sum of step-back errors\n",
    "\n",
    "# Calculate the overall error rate\n",
    "total_error_rate = total_step_back_errors / total_steps * 100\n",
    "\n",
    "print(f\"Total number of steps: {total_steps}\")\n",
    "print(f\"Total number of step-back errors: {total_step_back_errors}\")\n",
    "print(f\"Total error rate: {total_error_rate:.6f}%\")"
   ]
  },
  {
   "cell_type": "code",
   "execution_count": 13,
   "id": "0e5d7526-6444-481e-a0d9-0e352040346e",
   "metadata": {},
   "outputs": [
    {
     "data": {
      "text/html": [
       "<div>\n",
       "<style scoped>\n",
       "    .dataframe tbody tr th:only-of-type {\n",
       "        vertical-align: middle;\n",
       "    }\n",
       "\n",
       "    .dataframe tbody tr th {\n",
       "        vertical-align: top;\n",
       "    }\n",
       "\n",
       "    .dataframe thead th {\n",
       "        text-align: right;\n",
       "    }\n",
       "</style>\n",
       "<table border=\"1\" class=\"dataframe\">\n",
       "  <thead>\n",
       "    <tr style=\"text-align: right;\">\n",
       "      <th></th>\n",
       "      <th>client_id</th>\n",
       "      <th>start_time</th>\n",
       "      <th>confirm_time</th>\n",
       "      <th>process_duration</th>\n",
       "    </tr>\n",
       "  </thead>\n",
       "  <tbody>\n",
       "    <tr>\n",
       "      <th>0</th>\n",
       "      <td>4192640</td>\n",
       "      <td>2017-03-15 00:44:38</td>\n",
       "      <td>NaT</td>\n",
       "      <td>Not Completed</td>\n",
       "    </tr>\n",
       "    <tr>\n",
       "      <th>1</th>\n",
       "      <td>6752370</td>\n",
       "      <td>2017-03-15 05:43:13</td>\n",
       "      <td>NaT</td>\n",
       "      <td>Not Completed</td>\n",
       "    </tr>\n",
       "    <tr>\n",
       "      <th>2</th>\n",
       "      <td>2685910</td>\n",
       "      <td>2017-03-15 07:47:11</td>\n",
       "      <td>2017-03-15 07:50:33</td>\n",
       "      <td>3.366667</td>\n",
       "    </tr>\n",
       "    <tr>\n",
       "      <th>3</th>\n",
       "      <td>5616882</td>\n",
       "      <td>2017-03-15 10:16:59</td>\n",
       "      <td>NaT</td>\n",
       "      <td>Not Completed</td>\n",
       "    </tr>\n",
       "    <tr>\n",
       "      <th>4</th>\n",
       "      <td>7794004</td>\n",
       "      <td>2017-03-15 11:03:20</td>\n",
       "      <td>2017-03-15 11:10:28</td>\n",
       "      <td>7.133333</td>\n",
       "    </tr>\n",
       "    <tr>\n",
       "      <th>...</th>\n",
       "      <td>...</td>\n",
       "      <td>...</td>\n",
       "      <td>...</td>\n",
       "      <td>...</td>\n",
       "    </tr>\n",
       "    <tr>\n",
       "      <th>26667</th>\n",
       "      <td>4296369</td>\n",
       "      <td>2017-06-20 22:39:50</td>\n",
       "      <td>NaT</td>\n",
       "      <td>Not Completed</td>\n",
       "    </tr>\n",
       "    <tr>\n",
       "      <th>26668</th>\n",
       "      <td>351901</td>\n",
       "      <td>2017-06-20 22:40:09</td>\n",
       "      <td>2017-06-20 22:44:04</td>\n",
       "      <td>3.916667</td>\n",
       "    </tr>\n",
       "    <tr>\n",
       "      <th>26669</th>\n",
       "      <td>7107441</td>\n",
       "      <td>2017-06-20 23:10:44</td>\n",
       "      <td>NaT</td>\n",
       "      <td>Not Completed</td>\n",
       "    </tr>\n",
       "    <tr>\n",
       "      <th>26670</th>\n",
       "      <td>6800679</td>\n",
       "      <td>2017-06-20 23:14:06</td>\n",
       "      <td>NaT</td>\n",
       "      <td>Not Completed</td>\n",
       "    </tr>\n",
       "    <tr>\n",
       "      <th>26671</th>\n",
       "      <td>1545935</td>\n",
       "      <td>2017-06-20 23:17:42</td>\n",
       "      <td>2017-06-20 23:21:23</td>\n",
       "      <td>3.683333</td>\n",
       "    </tr>\n",
       "  </tbody>\n",
       "</table>\n",
       "<p>26672 rows × 4 columns</p>\n",
       "</div>"
      ],
      "text/plain": [
       "       client_id          start_time        confirm_time process_duration\n",
       "0        4192640 2017-03-15 00:44:38                 NaT    Not Completed\n",
       "1        6752370 2017-03-15 05:43:13                 NaT    Not Completed\n",
       "2        2685910 2017-03-15 07:47:11 2017-03-15 07:50:33         3.366667\n",
       "3        5616882 2017-03-15 10:16:59                 NaT    Not Completed\n",
       "4        7794004 2017-03-15 11:03:20 2017-03-15 11:10:28         7.133333\n",
       "...          ...                 ...                 ...              ...\n",
       "26667    4296369 2017-06-20 22:39:50                 NaT    Not Completed\n",
       "26668     351901 2017-06-20 22:40:09 2017-06-20 22:44:04         3.916667\n",
       "26669    7107441 2017-06-20 23:10:44                 NaT    Not Completed\n",
       "26670    6800679 2017-06-20 23:14:06                 NaT    Not Completed\n",
       "26671    1545935 2017-06-20 23:17:42 2017-06-20 23:21:23         3.683333\n",
       "\n",
       "[26672 rows x 4 columns]"
      ]
     },
     "execution_count": 13,
     "metadata": {},
     "output_type": "execute_result"
    }
   ],
   "source": [
    "# Step 1: Filter and get the last 'start' and 'confirm' time for each client\n",
    "start_df = df[df['process_step'] == 'start'].sort_values('date_time').groupby('client_id').tail(1)[['client_id', 'date_time']].rename(columns={'date_time': 'start_time'})\n",
    "confirm_df = df[df['process_step'] == 'confirm'].sort_values('date_time').groupby('client_id').tail(1)[['client_id', 'date_time']].rename(columns={'date_time': 'confirm_time'})\n",
    "\n",
    "# Step 2: Merge the two DataFrames on client_id\n",
    "merged_df = pd.merge(start_df, confirm_df, on='client_id', how='left')  # use 'left' to keep all clients with 'start' step\n",
    "\n",
    "# Step 3: Calculate the process time (confirm_time - start_time) in minutes\n",
    "merged_df['process_duration'] = (merged_df['confirm_time'] - merged_df['start_time']).dt.total_seconds() / 60  # Convert to minutes\n",
    "\n",
    "# Step 4: Handle customers who did not finish the process (no 'confirm' step)\n",
    "# Customers without a confirm step will have NaN in 'process_duration'\n",
    "merged_df['process_duration'] = merged_df['process_duration'].fillna('Not Completed')  # Or use any other placeholder for missing process durations\n",
    "\n",
    "# Show the result with process duration for each client\n",
    "merged_df[['client_id', 'start_time', 'confirm_time', 'process_duration']]"
   ]
  },
  {
   "cell_type": "code",
   "execution_count": 21,
   "id": "d34548e3-58ca-4d38-bbfb-008b12901e6b",
   "metadata": {},
   "outputs": [
    {
     "data": {
      "text/plain": [
       "Index(['client_id', 'visitor_id', 'visit_id', 'process_step', 'date_time',\n",
       "       'tenure_year', 'tenure_month', 'age', 'gender', 'num_accounts',\n",
       "       'balance', 'calls_6_months', 'logons_6_months', 'variation',\n",
       "       'next_step', 'is_step_back'],\n",
       "      dtype='object')"
      ]
     },
     "execution_count": 21,
     "metadata": {},
     "output_type": "execute_result"
    }
   ],
   "source": [
    "df.columns = ['client_id', 'visitor_id', 'visit_id', 'process_step', 'date_time',\n",
    "       'tenure_year', 'tenure_month', 'age', 'gender', 'num_accounts',\n",
    "       'balance', 'calls_6_months', 'logons_6_months', 'variation', 'next_step',\n",
    "       'is_step_back']\n",
    "df.columns"
   ]
  },
  {
   "cell_type": "code",
   "execution_count": 24,
   "id": "77b935f5-e595-4183-b0de-518ed2d64d07",
   "metadata": {},
   "outputs": [
    {
     "data": {
      "text/plain": [
       "next_step          37190\n",
       "client_id              0\n",
       "visitor_id             0\n",
       "visit_id               0\n",
       "process_step           0\n",
       "date_time              0\n",
       "tenure_year            0\n",
       "tenure_month           0\n",
       "age                    0\n",
       "gender                 0\n",
       "num_accounts           0\n",
       "balance                0\n",
       "calls_6_months         0\n",
       "logons_6_months        0\n",
       "variation              0\n",
       "is_step_back           0\n",
       "dtype: int64"
      ]
     },
     "execution_count": 24,
     "metadata": {},
     "output_type": "execute_result"
    }
   ],
   "source": [
    "df.isnull().sum().sort_values(ascending=False)\n",
    "# We only have missing values in Next_step "
   ]
  },
  {
   "cell_type": "code",
   "execution_count": 28,
   "id": "fcac7e6f-8619-4f4e-9012-656c815a2270",
   "metadata": {},
   "outputs": [
    {
     "data": {
      "text/plain": [
       "(process_step\n",
       " start      55753\n",
       " step_1     38651\n",
       " step_2     30888\n",
       " step_3     25755\n",
       " confirm    25594\n",
       " Name: count, dtype: int64,\n",
       " process_step\n",
       " start      0.315629\n",
       " step_1     0.218811\n",
       " step_2     0.174863\n",
       " step_3     0.145804\n",
       " confirm    0.144893\n",
       " Name: proportion, dtype: float64)"
      ]
     },
     "execution_count": 28,
     "metadata": {},
     "output_type": "execute_result"
    }
   ],
   "source": [
    "# Frequency table\n",
    "frequency_table = df['process_step'].value_counts()\n",
    "\n",
    "# Calculating the proportion of each unique value\n",
    "proportion_table = df['process_step'].value_counts(normalize=True)\n",
    "\n",
    "frequency_table, proportion_table"
   ]
  },
  {
   "cell_type": "code",
   "execution_count": 32,
   "id": "5c082284-73c9-4e50-916e-58b7fb019262",
   "metadata": {},
   "outputs": [
    {
     "data": {
      "text/html": [
       "<div>\n",
       "<style scoped>\n",
       "    .dataframe tbody tr th:only-of-type {\n",
       "        vertical-align: middle;\n",
       "    }\n",
       "\n",
       "    .dataframe tbody tr th {\n",
       "        vertical-align: top;\n",
       "    }\n",
       "\n",
       "    .dataframe thead th {\n",
       "        text-align: right;\n",
       "    }\n",
       "</style>\n",
       "<table border=\"1\" class=\"dataframe\">\n",
       "  <thead>\n",
       "    <tr style=\"text-align: right;\">\n",
       "      <th>col_0</th>\n",
       "      <th>count</th>\n",
       "    </tr>\n",
       "    <tr>\n",
       "      <th>process_step</th>\n",
       "      <th></th>\n",
       "    </tr>\n",
       "  </thead>\n",
       "  <tbody>\n",
       "    <tr>\n",
       "      <th>confirm</th>\n",
       "      <td>0.14</td>\n",
       "    </tr>\n",
       "    <tr>\n",
       "      <th>start</th>\n",
       "      <td>0.32</td>\n",
       "    </tr>\n",
       "    <tr>\n",
       "      <th>step_1</th>\n",
       "      <td>0.22</td>\n",
       "    </tr>\n",
       "    <tr>\n",
       "      <th>step_2</th>\n",
       "      <td>0.17</td>\n",
       "    </tr>\n",
       "    <tr>\n",
       "      <th>step_3</th>\n",
       "      <td>0.15</td>\n",
       "    </tr>\n",
       "  </tbody>\n",
       "</table>\n",
       "</div>"
      ],
      "text/plain": [
       "col_0         count\n",
       "process_step       \n",
       "confirm        0.14\n",
       "start          0.32\n",
       "step_1         0.22\n",
       "step_2         0.17\n",
       "step_3         0.15"
      ]
     },
     "execution_count": 32,
     "metadata": {},
     "output_type": "execute_result"
    }
   ],
   "source": [
    "my_table = pd.crosstab(index = df[\"process_step\"],  # Make a crosstab\n",
    "                              columns=\"count\")      # Name the count column\n",
    "my_table\n",
    "(my_table/my_table.sum()).round(2)"
   ]
  },
  {
   "cell_type": "code",
   "execution_count": 35,
   "id": "b4cd857d-d526-402e-a181-0b1421fd9545",
   "metadata": {},
   "outputs": [
    {
     "data": {
      "image/png": "[encoded data removed]",
      "text/plain": [
       "<Figure size 640x480 with 1 Axes>"
      ]
     },
     "metadata": {},
     "output_type": "display_data"
    }
   ],
   "source": [
    "ax=sns.barplot(y=frequency_table.index, x=frequency_table.values, palette=\"Set3\", hue=frequency_table.index, legend='full')\n",
    "sns.move_legend(ax, \"lower right\")"
   ]
  },
  {
   "cell_type": "code",
   "execution_count": 39,
   "id": "739b8f90-29f5-4cbd-aa6d-622e0c8df65c",
   "metadata": {},
   "outputs": [
    {
     "data": {
      "image/png": "[encoded data removed]",
      "text/plain": [
       "<Figure size 640x480 with 1 Axes>"
      ]
     },
     "metadata": {},
     "output_type": "display_data"
    }
   ],
   "source": [
    "fig, axes = plt.subplots()\n",
    "sns.barplot(x=my_table.index, y=my_table[\"count\"], palette=\"Set3\",hue=my_table.index, legend=False\n",
    "            ,order=['start', 'step_1', 'step_2','step_3','confirm'],ax=axes)\n",
    "axes.set_ylabel(\"Frequency\")\n",
    "axes.set_xlabel(\"CX Step Process\")\n",
    "plt.show()"
   ]
  },
  {
   "cell_type": "code",
   "execution_count": 42,
   "id": "d175deb2-6a38-4a14-8c12-3eeb3beec0be",
   "metadata": {},
   "outputs": [
    {
     "data": {
      "image/png": "[encoded data removed]",
      "text/plain": [
       "<Figure size 640x480 with 1 Axes>"
      ]
     },
     "metadata": {},
     "output_type": "display_data"
    }
   ],
   "source": [
    "df['gender'].value_counts().plot.pie(autopct='%1.1f%%', startangle=90, colors=sns.color_palette(\"Set3\"));\n",
    "# U means Unknown"
   ]
  },
  {
   "cell_type": "code",
   "execution_count": 45,
   "id": "38a73af7-a37d-437d-b17a-6bada493b957",
   "metadata": {},
   "outputs": [
    {
     "name": "stdout",
     "output_type": "stream",
     "text": [
      "162323.08600092842\n",
      "69290.65\n",
      "87107.79000000001\n"
     ]
    }
   ],
   "source": [
    "# Measures of centrality of the column balance: \n",
    "mean_balance = df['balance'].mean()\n",
    "median_balance = df['balance'].median()\n",
    "mode_balance = df['balance'].mode()[0]\n",
    "\n",
    "\n",
    "print(mean_balance)\n",
    "print(median_balance)\n",
    "print(mode_balance)"
   ]
  },
  {
   "cell_type": "code",
   "execution_count": 48,
   "id": "e901c55d-2c74-4942-83ac-6f8cddc4add2",
   "metadata": {},
   "outputs": [
    {
     "name": "stdout",
     "output_type": "stream",
     "text": [
      "135726556259.43033\n",
      "368410.85252667347\n",
      "23789.44\n",
      "16320040.15\n",
      "16296250.71\n",
      "0.25     41005.30\n",
      "0.50     69290.65\n",
      "0.75    152670.27\n",
      "Name: balance, dtype: float64\n"
     ]
    }
   ],
   "source": [
    "# Measures of dispersion of the column balance: \n",
    "variance_balance = df['balance'].var()\n",
    "std_dev_balance = df['balance'].std()\n",
    "min_balance = df['balance'].min()\n",
    "max_balance = df['balance'].max()\n",
    "range_balance = max_balance - min_balance\n",
    "quantiles_balance = df['balance'].quantile([0.25, 0.5, 0.75])\n",
    "\n",
    "print(variance_balance)\n",
    "print(std_dev_balance)\n",
    "print(min_balance)\n",
    "print(max_balance)\n",
    "print(range_balance)\n",
    "print(quantiles_balance)"
   ]
  },
  {
   "cell_type": "code",
   "execution_count": 51,
   "id": "794fd819-0962-4689-8f91-05ee529edfda",
   "metadata": {},
   "outputs": [
    {
     "name": "stdout",
     "output_type": "stream",
     "text": [
      "18.754484695639647\n",
      "676.9168779884678\n"
     ]
    }
   ],
   "source": [
    "skewness_price = df['balance'].skew()\n",
    "kurtosis_price = df['balance'].kurtosis()\n",
    "\n",
    "print(skewness_price)\n",
    "print(kurtosis_price)"
   ]
  },
  {
   "cell_type": "code",
   "execution_count": 54,
   "id": "120f921f-0459-4d24-a1ac-d24dcf12d8ee",
   "metadata": {},
   "outputs": [],
   "source": [
    "# Define the quantiles (e.g., quartiles - 4 bins)\n",
    "quantiles = [0, 0.25, 0.5, 0.75, 1.0]\n",
    "\n",
    "# Use qcut to divide the data into quantiles\n",
    "df['quantile'] = pd.qcut(df['balance'], q=quantiles, labels=[\"Q1\", \"Q2\", \"Q3\", \"Q4\"])"
   ]
  },
  {
   "cell_type": "code",
   "execution_count": 57,
   "id": "67690b17-626f-41b8-b0a6-93dd12de2ff3",
   "metadata": {},
   "outputs": [
    {
     "data": {
      "image/png": "[encoded data removed]",
      "text/plain": [
       "<Figure size 1200x800 with 4 Axes>"
      ]
     },
     "metadata": {},
     "output_type": "display_data"
    }
   ],
   "source": [
    "# Create subplots for each quantile\n",
    "fig, axes = plt.subplots(2, 2, figsize=(12, 8))\n",
    "\n",
    "# Flatten axes array for easier iteration\n",
    "axes = axes.flatten()\n",
    "\n",
    "# Loop through each quantile and plot the histogram\n",
    "for i, quantile in enumerate(df['quantile'].unique()):\n",
    "    subset = df[df['quantile'] == quantile]\n",
    "    axes[i].hist(subset['balance'], bins=20, edgecolor='black')\n",
    "    axes[i].set_title(f'Histogram for {quantile}')\n",
    "    axes[i].set_xlabel('Balance')\n",
    "    axes[i].set_ylabel('Frequency')\n",
    "\n",
    "plt.tight_layout()\n",
    "plt.show()"
   ]
  },
  {
   "cell_type": "code",
   "execution_count": 61,
   "id": "c48c00c8-b52c-4d58-b240-4b7b613b676a",
   "metadata": {},
   "outputs": [
    {
     "data": {
      "text/plain": [
       "balance_category\n",
       "Low          111148\n",
       "Medium        31656\n",
       "Very High     21402\n",
       "High          12435\n",
       "Name: count, dtype: int64"
      ]
     },
     "execution_count": 61,
     "metadata": {},
     "output_type": "execute_result"
    }
   ],
   "source": [
    "bins = [0, 100000, 200000, 300000,df['balance'].max()]\n",
    "labels = ['Low', 'Medium', 'High', 'Very High']\n",
    "df['balance_category'] = pd.cut(df['balance'], bins=bins, labels=labels, include_lowest=True)\n",
    "df.balance_category.value_counts()"
   ]
  },
  {
   "cell_type": "code",
   "execution_count": 64,
   "id": "54e87305-83b5-468c-8059-336db9d9e3f2",
   "metadata": {},
   "outputs": [
    {
     "data": {
      "text/plain": [
       "balance_quantile\n",
       "Q3    44171\n",
       "Q1    44161\n",
       "Q2    44160\n",
       "Q4    44149\n",
       "Name: count, dtype: int64"
      ]
     },
     "execution_count": 64,
     "metadata": {},
     "output_type": "execute_result"
    }
   ],
   "source": [
    "df['balance_quantile'] = pd.qcut(df['balance'], q=4, labels=['Q1', 'Q2', 'Q3', 'Q4'])\n",
    "df.balance_quantile.value_counts()"
   ]
  },
  {
   "cell_type": "code",
   "execution_count": 68,
   "id": "7e2380b4-4acd-41ea-8755-d81fcaec39de",
   "metadata": {},
   "outputs": [
    {
     "data": {
      "image/png": "[encoded data removed]",
      "text/plain": [
       "<Figure size 800x600 with 1 Axes>"
      ]
     },
     "metadata": {},
     "output_type": "display_data"
    }
   ],
   "source": [
    "df_filtered = df[df['quantile'] != 'Q4']\n",
    "plt.figure(figsize=(8, 6))\n",
    "plt.hist(df_filtered['balance'], bins=20, edgecolor='black')\n",
    "plt.title('Histogram of Balance (excluding Q4)')\n",
    "plt.xlabel('Balance')\n",
    "plt.ylabel('Frequency')\n",
    "plt.show()"
   ]
  },
  {
   "cell_type": "code",
   "execution_count": 71,
   "id": "94684278-b8bf-42d8-a6aa-89f84e76bdaf",
   "metadata": {},
   "outputs": [
    {
     "data": {
      "text/plain": [
       "176639               NaT\n",
       "176638   0 days 00:00:07\n",
       "176637   0 days 00:00:32\n",
       "176636   0 days 00:01:39\n",
       "176640   0 days 00:00:20\n",
       "               ...      \n",
       "10       0 days 00:01:22\n",
       "9        0 days 00:04:47\n",
       "11       0 days 00:01:21\n",
       "1                    NaT\n",
       "0        0 days 00:00:08\n",
       "Name: time_diff, Length: 176641, dtype: timedelta64[ns]"
      ]
     },
     "execution_count": 71,
     "metadata": {},
     "output_type": "execute_result"
    }
   ],
   "source": [
    "# Calculate the time difference between consecutive steps for each user\n",
    "df['time_diff'] = df.groupby(['client_id', 'visitor_id', 'visit_id'])['date_time'].diff()\n",
    "df['time_diff']"
   ]
  },
  {
   "cell_type": "code",
   "execution_count": 74,
   "id": "7c44d237-0345-4f63-9123-81c4928635df",
   "metadata": {},
   "outputs": [
    {
     "data": {
      "text/plain": [
       "176639      NaN\n",
       "176638      7.0\n",
       "176637     32.0\n",
       "176636     99.0\n",
       "176640     20.0\n",
       "          ...  \n",
       "10         82.0\n",
       "9         287.0\n",
       "11         81.0\n",
       "1           NaN\n",
       "0           8.0\n",
       "Name: time_diff_seconds, Length: 176641, dtype: float64"
      ]
     },
     "execution_count": 74,
     "metadata": {},
     "output_type": "execute_result"
    }
   ],
   "source": [
    "# Now calculate the total time spent for each user by summing up the time differences\n",
    "# If you want total time in seconds or minutes:\n",
    "df['time_diff_seconds'] = df['time_diff'].dt.total_seconds()\n",
    "df['time_diff_seconds']"
   ]
  },
  {
   "cell_type": "code",
   "execution_count": 77,
   "id": "fc736ba6-7e08-41a2-bd2c-d49d1393ef6d",
   "metadata": {},
   "outputs": [
    {
     "data": {
      "text/plain": [
       "client_id  visitor_id             visit_id                    \n",
       "555        402506806_56087378777  637149525_38041617439_716659    158.0\n",
       "647        66758770_53988066587   40369564_40101682850_311847     377.0\n",
       "934        810392784_45004760546  7076463_57954418406_971348      142.0\n",
       "1336       920624746_32603333901  583743392_96265099036_939815    211.0\n",
       "                                  614001770_19101025926_112779     82.0\n",
       "                                                                  ...  \n",
       "9999626    52633065_71189986073   182723364_27031318473_880901      8.0\n",
       "9999729    604429154_69247391147  99583652_41711450505_426179      15.0\n",
       "           834634258_21862004160  870243567_56915814033_814203     75.0\n",
       "           843385170_36953471821  493310979_9209676464_421146     450.0\n",
       "9999832    145538019_54444341400  472154369_16714624241_585315      8.0\n",
       "Name: time_diff_seconds, Length: 37190, dtype: float64"
      ]
     },
     "execution_count": 77,
     "metadata": {},
     "output_type": "execute_result"
    }
   ],
   "source": [
    "# Calculate the total time per user (sum of time differences in seconds)\n",
    "total_time_per_user_seconds = df.groupby(['client_id', \"visitor_id\", \"visit_id\"])['time_diff_seconds'].sum()\n",
    "total_time_per_user_seconds"
   ]
  },
  {
   "cell_type": "code",
   "execution_count": 80,
   "id": "e963056d-5a8f-4512-9e5d-18c7ca420e45",
   "metadata": {},
   "outputs": [
    {
     "data": {
      "text/plain": [
       "client_id  visitor_id             visit_id                    \n",
       "555        402506806_56087378777  637149525_38041617439_716659    2.633333\n",
       "647        66758770_53988066587   40369564_40101682850_311847     6.283333\n",
       "934        810392784_45004760546  7076463_57954418406_971348      2.366667\n",
       "1336       920624746_32603333901  583743392_96265099036_939815    3.516667\n",
       "                                  614001770_19101025926_112779    1.366667\n",
       "                                                                    ...   \n",
       "9999626    52633065_71189986073   182723364_27031318473_880901    0.133333\n",
       "9999729    604429154_69247391147  99583652_41711450505_426179     0.250000\n",
       "           834634258_21862004160  870243567_56915814033_814203    1.250000\n",
       "           843385170_36953471821  493310979_9209676464_421146     7.500000\n",
       "9999832    145538019_54444341400  472154369_16714624241_585315    0.133333\n",
       "Name: time_diff_seconds, Length: 37190, dtype: float64"
      ]
     },
     "execution_count": 80,
     "metadata": {},
     "output_type": "execute_result"
    }
   ],
   "source": [
    "# Convert the total time from seconds to a more readable format (e.g., minutes, hours)\n",
    "total_time_per_user_minutes = total_time_per_user_seconds / 60\n",
    "total_time_per_user_hours = total_time_per_user_seconds / 3600\n",
    "total_time_per_user_minutes"
   ]
  },
  {
   "cell_type": "code",
   "execution_count": 83,
   "id": "3511b71e-f964-4f4f-acb6-18fcaeafcd14",
   "metadata": {},
   "outputs": [
    {
     "data": {
      "text/plain": [
       "315.5188760419468"
      ]
     },
     "execution_count": 83,
     "metadata": {},
     "output_type": "execute_result"
    }
   ],
   "source": [
    "total_time_per_user_seconds.mean()"
   ]
  },
  {
   "cell_type": "code",
   "execution_count": 86,
   "id": "bb94d49d-488f-4732-85bd-c039ea6461f0",
   "metadata": {},
   "outputs": [
    {
     "data": {
      "text/plain": [
       "5.258647934032445"
      ]
     },
     "execution_count": 86,
     "metadata": {},
     "output_type": "execute_result"
    }
   ],
   "source": [
    "total_time_per_user_minutes.mean()"
   ]
  },
  {
   "cell_type": "code",
   "execution_count": 89,
   "id": "c9d7f520-c7f3-437a-b507-dafe91b25faa",
   "metadata": {},
   "outputs": [
    {
     "data": {
      "text/plain": [
       "0.08764413223387407"
      ]
     },
     "execution_count": 89,
     "metadata": {},
     "output_type": "execute_result"
    }
   ],
   "source": [
    "total_time_per_user_hours.mean()"
   ]
  },
  {
   "cell_type": "code",
   "execution_count": 93,
   "id": "27e258c0-4be1-4c3c-8c40-4d55a58e2957",
   "metadata": {},
   "outputs": [
    {
     "data": {
      "text/plain": [
       "client_id  visitor_id             visit_id                    \n",
       "6392043    723392056_17825886254  478417687_30092205462_548423    8.784444\n",
       "9971962    258933191_19415015199  501042989_50588313479_700675    5.004167\n",
       "4647786    3318623_72481547258    391696103_92230204739_479887    4.694722\n",
       "8910393    724675302_33887412023  167640470_43696749980_780744    4.437222\n",
       "4803107    121457719_61871987597  416635057_22840074620_580752    3.533889\n",
       "4875277    982289696_34586459529  888059775_41615184565_735869    2.776111\n",
       "4538401    93306162_14595567876   981005401_83512424361_358636    2.742778\n",
       "5184096    877625686_18460374253  714640220_42385568710_711640    2.633333\n",
       "1943018    3869543_22600888389    155305468_93296256914_310722    2.618056\n",
       "6699269    50336414_74307956903   121539902_39215756141_237356    2.491667\n",
       "7272106    914209416_14557993576  147343786_96837781264_219140    2.111111\n",
       "6683397    644296555_47172321525  527877065_42858421332_675939    2.110000\n",
       "6251214    592215699_50721381362  437446967_60745740605_562480    2.034444\n",
       "4719244    604500575_21375824082  354738736_98626604051_273278    1.982778\n",
       "316017     196521518_96589713532  988955558_77973767643_809241    1.978889\n",
       "8875061    836821692_93936851988  198817251_16289518507_269759    1.963611\n",
       "4474993    798647785_1856380143   477134975_44940270744_628856    1.962778\n",
       "4713128    630191462_1098653723   822591671_38204062752_318266    1.956944\n",
       "158047     298044239_15680175640  978759989_20162934414_194885    1.955833\n",
       "7160494    563193785_31702708877  921420244_22075979362_623677    1.955000\n",
       "9988021    580560515_7732621733   219729223_42518459208_211914    1.954444\n",
       "3541390    448394069_17314827374  284474928_99160020651_787250    1.953333\n",
       "3035523    97964216_45775360175   357534320_82878290012_131935    1.951389\n",
       "4402639    747732685_61271204201  19772754_50272214863_722234     1.949444\n",
       "9026974    955332339_81733568683  238705546_73858196107_367279    1.935833\n",
       "746652     642371844_75588781502  668541820_38461877377_508582    1.935278\n",
       "6726907    929970878_76678614148  425065510_15134896840_923987    1.928889\n",
       "5229181    444289507_30176993274  65700500_10991864892_363827     1.925556\n",
       "2573092    156241011_23491801734  844228903_71694336225_54897     1.923611\n",
       "2673006    611532029_46474936171  335289108_14602916439_341661    1.922778\n",
       "Name: time_diff_seconds, dtype: float64"
      ]
     },
     "execution_count": 93,
     "metadata": {},
     "output_type": "execute_result"
    }
   ],
   "source": [
    "# Sort the total time per user in descending order and get the top 10\n",
    "top_30_clients = total_time_per_user_hours.sort_values(ascending=False).head(30)\n",
    "top_30_clients"
   ]
  },
  {
   "cell_type": "code",
   "execution_count": 101,
   "id": "9d550ac8-1fc0-4eda-b21b-274c0c693b5a",
   "metadata": {},
   "outputs": [
    {
     "data": {
      "text/plain": [
       "84.14530551950148"
      ]
     },
     "execution_count": 101,
     "metadata": {},
     "output_type": "execute_result"
    }
   ],
   "source": [
    "df.time_diff_seconds.mean()"
   ]
  },
  {
   "cell_type": "code",
   "execution_count": 107,
   "id": "68b8c30a-cf10-4a98-be79-208f9acb3ca1",
   "metadata": {},
   "outputs": [],
   "source": [
    "df_filtered = df.dropna(subset=['time_diff'])"
   ]
  },
  {
   "cell_type": "code",
   "execution_count": 110,
   "id": "cf7d267c-40bc-4f91-93b6-a4bc27f74ff9",
   "metadata": {},
   "outputs": [],
   "source": [
    "# Group by 'process_step' and calculate the average time spent in each step\n",
    "avg_time_per_step = df_filtered.groupby('process_step')['time_diff'].mean().reset_index()"
   ]
  },
  {
   "cell_type": "code",
   "execution_count": 113,
   "id": "4f455a2c-3553-4f17-a369-a1f8de60c1f7",
   "metadata": {},
   "outputs": [
    {
     "name": "stdout",
     "output_type": "stream",
     "text": [
      "  process_step                 time_diff  time_diff_seconds\n",
      "0      confirm 0 days 00:02:09.369646476         129.369646\n",
      "1        start 0 days 00:02:31.698665727         151.698666\n",
      "2       step_1 0 days 00:00:37.761980538          37.761981\n",
      "3       step_2 0 days 00:00:48.221799003          48.221799\n",
      "4       step_3 0 days 00:01:37.610938910          97.610939\n"
     ]
    }
   ],
   "source": [
    "# Optionally, you can convert the time difference to a more readable format, e.g., seconds or minutes\n",
    "# For example, to convert to seconds:\n",
    "avg_time_per_step['time_diff_seconds'] = avg_time_per_step['time_diff'].dt.total_seconds()\n",
    "\n",
    "# Display the result\n",
    "print(avg_time_per_step)"
   ]
  },
  {
   "cell_type": "code",
   "execution_count": 126,
   "id": "4a07d44e-a4bd-41d2-9f1c-3e6041d02d6d",
   "metadata": {},
   "outputs": [
    {
     "name": "stdout",
     "output_type": "stream",
     "text": [
      "time_diff_seconds  0.0      1.0      2.0      3.0      4.0      5.0      \\\n",
      "process_step                                                              \n",
      "confirm                 35       40       20       30       31       15   \n",
      "start                    5      234      375      392      350      282   \n",
      "step_1                  80      432      855     2082     2672     2459   \n",
      "step_2                  77      139      285      401      551      672   \n",
      "step_3                   0       42       94      107      132      133   \n",
      "\n",
      "time_diff_seconds  6.0      7.0      8.0      9.0      ...  5614.0   5992.0   \\\n",
      "process_step                                           ...                     \n",
      "confirm                  7       20       17       17  ...        1        0   \n",
      "start                  279      244      234      219  ...        0        1   \n",
      "step_1                2229     2054     2006     1971  ...        0        0   \n",
      "step_2                 727      710      738      771  ...        0        0   \n",
      "step_3                  95      112      102       96  ...        0        0   \n",
      "\n",
      "time_diff_seconds  6060.0   6692.0   7279.0   7618.0   8797.0   11204.0  \\\n",
      "process_step                                                              \n",
      "confirm                  0        0        0        0        0        0   \n",
      "start                    1        1        1        1        1        1   \n",
      "step_1                   0        0        0        0        0        0   \n",
      "step_2                   0        0        0        0        0        0   \n",
      "step_3                   0        0        0        0        0        0   \n",
      "\n",
      "time_diff_seconds  14581.0  24819.0  \n",
      "process_step                         \n",
      "confirm                  1        0  \n",
      "start                    0        1  \n",
      "step_1                   0        0  \n",
      "step_2                   0        0  \n",
      "step_3                   0        0  \n",
      "\n",
      "[5 rows x 1566 columns]\n"
     ]
    }
   ],
   "source": [
    "cross_table = pd.crosstab(df['process_step'], df['time_diff_seconds'])\n",
    "\n",
    "print(cross_table)"
   ]
  },
  {
   "cell_type": "code",
   "execution_count": null,
   "id": "6ecfc67a-fcf8-4884-8857-effe36f34abb",
   "metadata": {},
   "outputs": [],
   "source": []
  }
 ],
 "metadata": {
  "kernelspec": {
   "display_name": "Python 3 (ipykernel)",
   "language": "python",
   "name": "python3"
  },
  "language_info": {
   "codemirror_mode": {
    "name": "ipython",
    "version": 3
   },
   "file_extension": ".py",
   "mimetype": "text/x-python",
   "name": "python",
   "nbconvert_exporter": "python",
   "pygments_lexer": "ipython3",
   "version": "3.12.4"
  }
 },
 "nbformat": 4,
 "nbformat_minor": 5
}
