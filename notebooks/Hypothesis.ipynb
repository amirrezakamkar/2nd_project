{
 "cells": [
  {
   "cell_type": "code",
   "execution_count": 69,
   "id": "c131d347-646f-4c86-8cf0-97c6129f2b0b",
   "metadata": {},
   "outputs": [],
   "source": [
    "import pandas as pd\n",
    "import numpy as np\n",
    "import seaborn as sns\n",
    "import matplotlib.pyplot as plt\n",
    "%matplotlib inline\n",
    "import statsmodels.api as sm\n",
    "import scipy.stats as st\n",
    "from statsmodels.formula.api import ols"
   ]
  },
  {
   "cell_type": "code",
   "execution_count": 71,
   "id": "1755ee2e-a845-402a-bd1f-242593a3a8b3",
   "metadata": {},
   "outputs": [],
   "source": [
    "url = '../data/clean/control_group_filtered.csv'\n",
    "df_control = pd.read_csv(url)"
   ]
  },
  {
   "cell_type": "code",
   "execution_count": 73,
   "id": "da1ea879-39b7-42a6-9a85-f708aa564f30",
   "metadata": {},
   "outputs": [],
   "source": [
    "url = '../data/clean/test_group_filtered.csv'\n",
    "df_test = pd.read_csv(url)"
   ]
  },
  {
   "cell_type": "code",
   "execution_count": 75,
   "id": "2fb883dc-854e-4bdd-9333-0a7fdef35938",
   "metadata": {},
   "outputs": [
    {
     "data": {
      "text/html": [
       "<div>\n",
       "<style scoped>\n",
       "    .dataframe tbody tr th:only-of-type {\n",
       "        vertical-align: middle;\n",
       "    }\n",
       "\n",
       "    .dataframe tbody tr th {\n",
       "        vertical-align: top;\n",
       "    }\n",
       "\n",
       "    .dataframe thead th {\n",
       "        text-align: right;\n",
       "    }\n",
       "</style>\n",
       "<table border=\"1\" class=\"dataframe\">\n",
       "  <thead>\n",
       "    <tr style=\"text-align: right;\">\n",
       "      <th></th>\n",
       "      <th>visit_id</th>\n",
       "      <th>start_time</th>\n",
       "      <th>confirm_time</th>\n",
       "      <th>process_duration</th>\n",
       "    </tr>\n",
       "  </thead>\n",
       "  <tbody>\n",
       "    <tr>\n",
       "      <th>0</th>\n",
       "      <td>10006594_66157970412_679648</td>\n",
       "      <td>2017-04-13 11:50:18</td>\n",
       "      <td>2017-04-13 11:56:12</td>\n",
       "      <td>5.900000</td>\n",
       "    </tr>\n",
       "    <tr>\n",
       "      <th>1</th>\n",
       "      <td>10007589_47780784567_391490</td>\n",
       "      <td>2017-05-18 07:51:32</td>\n",
       "      <td>2017-05-18 08:03:33</td>\n",
       "      <td>12.016667</td>\n",
       "    </tr>\n",
       "    <tr>\n",
       "      <th>2</th>\n",
       "      <td>100254180_47139859079_984581</td>\n",
       "      <td>2017-04-05 21:42:02</td>\n",
       "      <td>2017-04-05 21:47:43</td>\n",
       "      <td>5.683333</td>\n",
       "    </tr>\n",
       "    <tr>\n",
       "      <th>3</th>\n",
       "      <td>100481857_71511233596_788753</td>\n",
       "      <td>2017-04-25 18:15:48</td>\n",
       "      <td>2017-04-25 18:28:44</td>\n",
       "      <td>12.933333</td>\n",
       "    </tr>\n",
       "    <tr>\n",
       "      <th>4</th>\n",
       "      <td>100733473_61604582110_215085</td>\n",
       "      <td>2017-04-17 17:12:44</td>\n",
       "      <td>2017-04-17 17:18:19</td>\n",
       "      <td>5.583333</td>\n",
       "    </tr>\n",
       "    <tr>\n",
       "      <th>...</th>\n",
       "      <td>...</td>\n",
       "      <td>...</td>\n",
       "      <td>...</td>\n",
       "      <td>...</td>\n",
       "    </tr>\n",
       "    <tr>\n",
       "      <th>4972</th>\n",
       "      <td>999027606_14420282929_137267</td>\n",
       "      <td>2017-04-19 08:43:49</td>\n",
       "      <td>2017-04-19 08:49:14</td>\n",
       "      <td>5.416667</td>\n",
       "    </tr>\n",
       "    <tr>\n",
       "      <th>4973</th>\n",
       "      <td>999060107_70703440582_987099</td>\n",
       "      <td>2017-04-05 17:42:09</td>\n",
       "      <td>2017-04-05 17:48:16</td>\n",
       "      <td>6.116667</td>\n",
       "    </tr>\n",
       "    <tr>\n",
       "      <th>4974</th>\n",
       "      <td>999358338_38217364343_327998</td>\n",
       "      <td>2017-04-12 17:36:51</td>\n",
       "      <td>2017-04-12 17:42:18</td>\n",
       "      <td>5.450000</td>\n",
       "    </tr>\n",
       "    <tr>\n",
       "      <th>4975</th>\n",
       "      <td>999528902_49133507319_516085</td>\n",
       "      <td>2017-03-29 17:59:40</td>\n",
       "      <td>2017-03-29 18:08:13</td>\n",
       "      <td>8.550000</td>\n",
       "    </tr>\n",
       "    <tr>\n",
       "      <th>4976</th>\n",
       "      <td>999985675_64610694964_443659</td>\n",
       "      <td>2017-04-20 09:45:18</td>\n",
       "      <td>2017-04-20 10:02:48</td>\n",
       "      <td>17.500000</td>\n",
       "    </tr>\n",
       "  </tbody>\n",
       "</table>\n",
       "<p>4977 rows × 4 columns</p>\n",
       "</div>"
      ],
      "text/plain": [
       "                          visit_id           start_time         confirm_time  \\\n",
       "0      10006594_66157970412_679648  2017-04-13 11:50:18  2017-04-13 11:56:12   \n",
       "1      10007589_47780784567_391490  2017-05-18 07:51:32  2017-05-18 08:03:33   \n",
       "2     100254180_47139859079_984581  2017-04-05 21:42:02  2017-04-05 21:47:43   \n",
       "3     100481857_71511233596_788753  2017-04-25 18:15:48  2017-04-25 18:28:44   \n",
       "4     100733473_61604582110_215085  2017-04-17 17:12:44  2017-04-17 17:18:19   \n",
       "...                            ...                  ...                  ...   \n",
       "4972  999027606_14420282929_137267  2017-04-19 08:43:49  2017-04-19 08:49:14   \n",
       "4973  999060107_70703440582_987099  2017-04-05 17:42:09  2017-04-05 17:48:16   \n",
       "4974  999358338_38217364343_327998  2017-04-12 17:36:51  2017-04-12 17:42:18   \n",
       "4975  999528902_49133507319_516085  2017-03-29 17:59:40  2017-03-29 18:08:13   \n",
       "4976  999985675_64610694964_443659  2017-04-20 09:45:18  2017-04-20 10:02:48   \n",
       "\n",
       "      process_duration  \n",
       "0             5.900000  \n",
       "1            12.016667  \n",
       "2             5.683333  \n",
       "3            12.933333  \n",
       "4             5.583333  \n",
       "...                ...  \n",
       "4972          5.416667  \n",
       "4973          6.116667  \n",
       "4974          5.450000  \n",
       "4975          8.550000  \n",
       "4976         17.500000  \n",
       "\n",
       "[4977 rows x 4 columns]"
      ]
     },
     "execution_count": 75,
     "metadata": {},
     "output_type": "execute_result"
    }
   ],
   "source": [
    "df_control"
   ]
  },
  {
   "cell_type": "code",
   "execution_count": 77,
   "id": "f659ea9c-6162-4a10-831d-b3d56f854ee4",
   "metadata": {},
   "outputs": [
    {
     "data": {
      "text/html": [
       "<div>\n",
       "<style scoped>\n",
       "    .dataframe tbody tr th:only-of-type {\n",
       "        vertical-align: middle;\n",
       "    }\n",
       "\n",
       "    .dataframe tbody tr th {\n",
       "        vertical-align: top;\n",
       "    }\n",
       "\n",
       "    .dataframe thead th {\n",
       "        text-align: right;\n",
       "    }\n",
       "</style>\n",
       "<table border=\"1\" class=\"dataframe\">\n",
       "  <thead>\n",
       "    <tr style=\"text-align: right;\">\n",
       "      <th></th>\n",
       "      <th>visit_id</th>\n",
       "      <th>start_time</th>\n",
       "      <th>confirm_time</th>\n",
       "      <th>process_duration</th>\n",
       "    </tr>\n",
       "  </thead>\n",
       "  <tbody>\n",
       "    <tr>\n",
       "      <th>0</th>\n",
       "      <td>100217156_67053490690_383412</td>\n",
       "      <td>2017-04-12 11:51:12</td>\n",
       "      <td>2017-04-12 12:08:09</td>\n",
       "      <td>16.950000</td>\n",
       "    </tr>\n",
       "    <tr>\n",
       "      <th>1</th>\n",
       "      <td>100258507_71262593004_214494</td>\n",
       "      <td>2017-03-29 12:43:41</td>\n",
       "      <td>2017-03-29 12:49:32</td>\n",
       "      <td>5.850000</td>\n",
       "    </tr>\n",
       "    <tr>\n",
       "      <th>2</th>\n",
       "      <td>100412222_23957663994_946900</td>\n",
       "      <td>2017-04-05 11:30:51</td>\n",
       "      <td>2017-04-05 11:38:37</td>\n",
       "      <td>7.766667</td>\n",
       "    </tr>\n",
       "    <tr>\n",
       "      <th>3</th>\n",
       "      <td>100751264_35071231525_844320</td>\n",
       "      <td>2017-03-29 11:36:35</td>\n",
       "      <td>2017-03-29 11:42:47</td>\n",
       "      <td>6.200000</td>\n",
       "    </tr>\n",
       "    <tr>\n",
       "      <th>4</th>\n",
       "      <td>100758381_89232150997_752407</td>\n",
       "      <td>2017-06-08 22:15:34</td>\n",
       "      <td>2017-06-08 22:21:20</td>\n",
       "      <td>5.766667</td>\n",
       "    </tr>\n",
       "    <tr>\n",
       "      <th>...</th>\n",
       "      <td>...</td>\n",
       "      <td>...</td>\n",
       "      <td>...</td>\n",
       "      <td>...</td>\n",
       "    </tr>\n",
       "    <tr>\n",
       "      <th>4764</th>\n",
       "      <td>999538669_22796867619_900789</td>\n",
       "      <td>2017-04-10 20:48:34</td>\n",
       "      <td>2017-04-10 20:54:09</td>\n",
       "      <td>5.583333</td>\n",
       "    </tr>\n",
       "    <tr>\n",
       "      <th>4765</th>\n",
       "      <td>999665451_25261449194_83173</td>\n",
       "      <td>2017-05-12 19:27:32</td>\n",
       "      <td>2017-05-12 19:37:24</td>\n",
       "      <td>9.866667</td>\n",
       "    </tr>\n",
       "    <tr>\n",
       "      <th>4766</th>\n",
       "      <td>999817126_86162597254_111325</td>\n",
       "      <td>2017-03-29 11:17:53</td>\n",
       "      <td>2017-03-29 11:23:46</td>\n",
       "      <td>5.883333</td>\n",
       "    </tr>\n",
       "    <tr>\n",
       "      <th>4767</th>\n",
       "      <td>999891710_95999857132_598498</td>\n",
       "      <td>2017-04-12 15:03:52</td>\n",
       "      <td>2017-04-12 15:16:21</td>\n",
       "      <td>12.483333</td>\n",
       "    </tr>\n",
       "    <tr>\n",
       "      <th>4768</th>\n",
       "      <td>999976049_95772503197_182554</td>\n",
       "      <td>2017-04-04 12:50:10</td>\n",
       "      <td>2017-04-04 13:02:18</td>\n",
       "      <td>12.133333</td>\n",
       "    </tr>\n",
       "  </tbody>\n",
       "</table>\n",
       "<p>4769 rows × 4 columns</p>\n",
       "</div>"
      ],
      "text/plain": [
       "                          visit_id           start_time         confirm_time  \\\n",
       "0     100217156_67053490690_383412  2017-04-12 11:51:12  2017-04-12 12:08:09   \n",
       "1     100258507_71262593004_214494  2017-03-29 12:43:41  2017-03-29 12:49:32   \n",
       "2     100412222_23957663994_946900  2017-04-05 11:30:51  2017-04-05 11:38:37   \n",
       "3     100751264_35071231525_844320  2017-03-29 11:36:35  2017-03-29 11:42:47   \n",
       "4     100758381_89232150997_752407  2017-06-08 22:15:34  2017-06-08 22:21:20   \n",
       "...                            ...                  ...                  ...   \n",
       "4764  999538669_22796867619_900789  2017-04-10 20:48:34  2017-04-10 20:54:09   \n",
       "4765   999665451_25261449194_83173  2017-05-12 19:27:32  2017-05-12 19:37:24   \n",
       "4766  999817126_86162597254_111325  2017-03-29 11:17:53  2017-03-29 11:23:46   \n",
       "4767  999891710_95999857132_598498  2017-04-12 15:03:52  2017-04-12 15:16:21   \n",
       "4768  999976049_95772503197_182554  2017-04-04 12:50:10  2017-04-04 13:02:18   \n",
       "\n",
       "      process_duration  \n",
       "0            16.950000  \n",
       "1             5.850000  \n",
       "2             7.766667  \n",
       "3             6.200000  \n",
       "4             5.766667  \n",
       "...                ...  \n",
       "4764          5.583333  \n",
       "4765          9.866667  \n",
       "4766          5.883333  \n",
       "4767         12.483333  \n",
       "4768         12.133333  \n",
       "\n",
       "[4769 rows x 4 columns]"
      ]
     },
     "execution_count": 77,
     "metadata": {},
     "output_type": "execute_result"
    }
   ],
   "source": [
    "df_test"
   ]
  },
  {
   "cell_type": "code",
   "execution_count": 79,
   "id": "3256a700-be1b-4956-b0af-8d6aec7507a6",
   "metadata": {},
   "outputs": [
    {
     "data": {
      "text/plain": [
       "0        5.900000\n",
       "1       12.016667\n",
       "2        5.683333\n",
       "3       12.933333\n",
       "4        5.583333\n",
       "          ...    \n",
       "4972     5.416667\n",
       "4973     6.116667\n",
       "4974     5.450000\n",
       "4975     8.550000\n",
       "4976    17.500000\n",
       "Name: process_duration, Length: 4977, dtype: float64"
      ]
     },
     "execution_count": 79,
     "metadata": {},
     "output_type": "execute_result"
    }
   ],
   "source": [
    "filtered_df_control= df_control[\"process_duration\"]\n",
    "filtered_df_control"
   ]
  },
  {
   "cell_type": "code",
   "execution_count": 81,
   "id": "5a69b445-a304-4043-ad01-c550358ed277",
   "metadata": {},
   "outputs": [
    {
     "data": {
      "text/plain": [
       "0       16.950000\n",
       "1        5.850000\n",
       "2        7.766667\n",
       "3        6.200000\n",
       "4        5.766667\n",
       "          ...    \n",
       "4764     5.583333\n",
       "4765     9.866667\n",
       "4766     5.883333\n",
       "4767    12.483333\n",
       "4768    12.133333\n",
       "Name: process_duration, Length: 4769, dtype: float64"
      ]
     },
     "execution_count": 81,
     "metadata": {},
     "output_type": "execute_result"
    }
   ],
   "source": [
    "filtered_df_test= df_test[\"process_duration\"]\n",
    "filtered_df_test"
   ]
  },
  {
   "cell_type": "markdown",
   "id": "975833a1-0efc-4f59-958f-d7678728e89d",
   "metadata": {},
   "source": [
    "# Hypothesis\n",
    "# H0: mu_process_duration control = mu_process_duration test\n",
    "# H1: mu_process_duration control != mu_process_duration test"
   ]
  },
  {
   "cell_type": "code",
   "execution_count": 84,
   "id": "cdf950c6-e309-4726-879e-53c3b20386a0",
   "metadata": {},
   "outputs": [
    {
     "name": "stdout",
     "output_type": "stream",
     "text": [
      "T-statistic: -6.215889078049386\n",
      "P-value: 5.319407192817486e-10\n",
      "Reject the null hypothesis H0: There is a significant difference.\n"
     ]
    }
   ],
   "source": [
    "# Perform the two-sample t-test\n",
    "t_stat, p_value = st.ttest_ind(filtered_df_control, filtered_df_test, equal_var=False)\n",
    "\n",
    "# Print results\n",
    "print(f\"T-statistic: {t_stat}\")\n",
    "print(f\"P-value: {p_value}\")\n",
    "\n",
    "# Based on the p-value, you can decide whether to reject H0\n",
    "alpha = 0.05  # Common significance level\n",
    "if p_value < alpha:\n",
    "    print(\"Reject the null hypothesis H0: There is a significant difference.\")\n",
    "else:\n",
    "    print(\"Fail to reject the null hypothesis H0: No significant difference.\")"
   ]
  },
  {
   "cell_type": "markdown",
   "id": "718a7863-a721-443e-b3c8-260bf75f4290",
   "metadata": {},
   "source": [
    "The results of your t-test are as follows:\n",
    "\n",
    "- **T-statistic: -6.22**\n",
    "- **P-value: 5.32e-10 (which is 0.000000000532)**\n",
    "\n",
    "### Interpretation:\n",
    "\n",
    "1. **T-statistic**:\n",
    "   - The negative value of the t-statistic (-6.22) indicates that the mean of `df_control['process_duration']` is smaller than the mean of `df_test['process_duration']`. \n",
    "   - The magnitude of the t-statistic (6.22) suggests a large difference between the two groups relative to the variability within each group.\n",
    "\n",
    "2. **P-value**:\n",
    "   - The p-value is extremely small (`5.32e-10`), which is much smaller than typical significance levels (e.g., 0.05, 0.01, or 0.001).\n",
    "   - A small p-value indicates that the observed difference between the two means is highly unlikely to have occurred by random chance if the null hypothesis were true.\n",
    "\n",
    "### Conclusion:\n",
    "\n",
    "- **Reject the null hypothesis (H₀)**: Since the p-value is much smaller than the common significance level (such as 0.05), you reject the null hypothesis that the mean process durations of the control and test groups are equal.\n",
    "  \n",
    "- **Alternative hypothesis (H₁)**: There is a statistically significant difference between the process durations of the control group and the test group.\n",
    "\n",
    "In simple terms, based on this test, you can confidently say that the process durations for the control and test groups are **significantly different**. Given the negative t-statistic, it suggests that the **control group** has a shorter process duration compared to the test group, but the main takeaway is the significant difference between the two means."
   ]
  },
  {
   "cell_type": "code",
   "execution_count": 87,
   "id": "53e1df3a-b98c-46da-860e-9d986df4aa23",
   "metadata": {},
   "outputs": [],
   "source": [
    "df_test_sorted = df_test.sort_values(by='process_duration', ascending=True)\n",
    "# df_test_sorted.to_csv('sorted_test_data.csv', index=False)"
   ]
  },
  {
   "cell_type": "code",
   "execution_count": 89,
   "id": "83d62ab7-7ee1-478f-ba2b-d38791bed11c",
   "metadata": {},
   "outputs": [],
   "source": [
    "df_control_sorted = df_control.sort_values(by='process_duration', ascending=True)\n",
    "# df_control_sorted.to_csv('sorted_control_data.csv', index=False)"
   ]
  },
  {
   "cell_type": "code",
   "execution_count": 91,
   "id": "ed3dc85a-3f91-4890-9587-b90b3e40347d",
   "metadata": {},
   "outputs": [
    {
     "data": {
      "text/plain": [
       "9.090305444887118"
      ]
     },
     "execution_count": 91,
     "metadata": {},
     "output_type": "execute_result"
    }
   ],
   "source": [
    "df_test_sorted.process_duration.mean()"
   ]
  },
  {
   "cell_type": "code",
   "execution_count": 93,
   "id": "15cac144-815c-4ffe-a422-011996918bde",
   "metadata": {},
   "outputs": [
    {
     "data": {
      "text/plain": [
       "8.6580001339495"
      ]
     },
     "execution_count": 93,
     "metadata": {},
     "output_type": "execute_result"
    }
   ],
   "source": [
    "df_control_sorted.process_duration.mean()"
   ]
  },
  {
   "cell_type": "code",
   "execution_count": 101,
   "id": "4d753e16-07ec-4016-9945-ab7a9e55c3b0",
   "metadata": {},
   "outputs": [
    {
     "name": "stdout",
     "output_type": "stream",
     "text": [
      "F-statistic: 38.86310892972295\n",
      "P-value: 4.734350178634918e-10\n"
     ]
    }
   ],
   "source": [
    "# Perform one-way ANOVA\n",
    "f_statistic, p_value = st.f_oneway(filtered_df_control, filtered_df_test)\n",
    "\n",
    "print(f\"F-statistic: {f_statistic}\")\n",
    "print(f\"P-value: {p_value}\")"
   ]
  },
  {
   "cell_type": "markdown",
   "id": "9abefaaf-7348-4323-b3d8-aa38ab2e483f",
   "metadata": {},
   "source": [
    "# Conclusions:\n",
    "## Based on this ANOVA test, we can confidently state that the process duration in the control group is statistically different from the process duration in the test group.\n",
    "## Since we rejected the null hypothesis (H₀), we accept the alternative hypothesis (H₁), which states that the means are not equal.\n",
    "\n",
    "## The results of the ANOVA test indicate a significant difference in the process durations between the control and test groups (F(1, 18) = 38.86, p < 0.0001). Therefore, we reject the null hypothesis and conclude that the mean process duration for the control group differs from that of the test group."
   ]
  }
 ],
 "metadata": {
  "kernelspec": {
   "display_name": "Python 3 (ipykernel)",
   "language": "python",
   "name": "python3"
  },
  "language_info": {
   "codemirror_mode": {
    "name": "ipython",
    "version": 3
   },
   "file_extension": ".py",
   "mimetype": "text/x-python",
   "name": "python",
   "nbconvert_exporter": "python",
   "pygments_lexer": "ipython3",
   "version": "3.12.2"
  }
 },
 "nbformat": 4,
 "nbformat_minor": 5
}
