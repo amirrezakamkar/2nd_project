{
 "cells": [
  {
   "cell_type": "code",
   "execution_count": null,
   "id": "2a6ef014-ad37-4beb-aba7-b86f64c43ba0",
   "metadata": {},
   "outputs": [],
   "source": [
    "import pandas as pd\n",
    "import numpy as np\n",
    "import seaborn as sns\n",
    "import matplotlib.pyplot as plt"
   ]
  },
  {
   "cell_type": "code",
   "execution_count": null,
   "id": "831cb551-28f8-4326-8439-4cd7d9a2d391",
   "metadata": {},
   "outputs": [],
   "source": [
    "url = '/Users/amirrezakamkar/Desktop/Works_in_progress/Ironhack/5_5th_week/Project/2nd_project/data/df_final_experiment_clients.txt'\n",
    "url2 = '/Users/amirrezakamkar/Desktop/Works_in_progress/Ironhack/5_5th_week/Project/2nd_project/data/df_final_demo.txt'"
   ]
  },
  {
   "cell_type": "code",
   "execution_count": null,
   "id": "9038aa17-06a4-483b-9c7d-27d47eb16f92",
   "metadata": {},
   "outputs": [],
   "source": [
    "df_experiment = pd.read_csv(url)"
   ]
  },
  {
   "cell_type": "code",
   "execution_count": null,
   "id": "a1ea8063-cba4-4bc5-b0fe-32fd817d0f9e",
   "metadata": {},
   "outputs": [],
   "source": [
    "df_experiment.isnull().sum()"
   ]
  },
  {
   "cell_type": "code",
   "execution_count": null,
   "id": "e45136d7-0a77-4427-bf81-82393efaa553",
   "metadata": {},
   "outputs": [],
   "source": [
    "df_demo = pd.read_csv(url2)"
   ]
  },
  {
   "cell_type": "code",
   "execution_count": null,
   "id": "150b060f-1fa7-49d0-857d-589ee92c67e4",
   "metadata": {},
   "outputs": [],
   "source": [
    "df_experiment.shape"
   ]
  },
  {
   "cell_type": "code",
   "execution_count": null,
   "id": "84b12dfc-6ae6-4a79-922c-0b2a03f73f4c",
   "metadata": {},
   "outputs": [],
   "source": [
    "df_merge = pd.merge(df_demo, df_experiment, how='inner', on='client_id', left_on=None, right_on=None)\n"
   ]
  },
  {
   "cell_type": "code",
   "execution_count": null,
   "id": "a979a760-0332-489b-886d-21590ccce3f0",
   "metadata": {},
   "outputs": [],
   "source": [
    "df_merge.shape"
   ]
  },
  {
   "cell_type": "code",
   "execution_count": null,
   "id": "8750ea35-2f25-4020-8531-5f8c891763ef",
   "metadata": {},
   "outputs": [],
   "source": [
    "df_merge.head()"
   ]
  },
  {
   "cell_type": "code",
   "execution_count": null,
   "id": "2063fad9-44f5-4586-b1c9-e6f6652ca25f",
   "metadata": {},
   "outputs": [],
   "source": [
    "df_merge.isnull().sum()"
   ]
  },
  {
   "cell_type": "code",
   "execution_count": null,
   "id": "43158378-ce44-453d-b4b3-20dbc358eeb2",
   "metadata": {},
   "outputs": [],
   "source": []
  }
 ],
 "metadata": {
  "kernelspec": {
   "display_name": "Python 3 (ipykernel)",
   "language": "python",
   "name": "python3"
  },
  "language_info": {
   "codemirror_mode": {
    "name": "ipython",
    "version": 3
   },
   "file_extension": ".py",
   "mimetype": "text/x-python",
   "name": "python",
   "nbconvert_exporter": "python",
   "pygments_lexer": "ipython3",
   "version": "3.12.2"
  }
 },
 "nbformat": 4,
 "nbformat_minor": 5
}
