{
 "cells": [
  {
   "cell_type": "code",
   "execution_count": 3,
   "id": "c62ffb4e-eb2f-4401-9f17-b4181beb9e22",
   "metadata": {},
   "outputs": [],
   "source": [
    "import pandas as pd\n",
    "import numpy as np\n",
    "import seaborn as sns\n",
    "import matplotlib.pyplot as plt\n",
    "%matplotlib inline\n",
    "import statsmodels.api as sm\n",
    "import scipy.stats as st"
   ]
  },
  {
   "cell_type": "code",
   "execution_count": 4,
   "id": "a138387c-1a91-4c5c-afb7-97baeeb9f00d",
   "metadata": {},
   "outputs": [],
   "source": [
    "url = '../data/clean/combined_data_control.txt'\n",
    "df = pd.read_csv(url)"
   ]
  },
  {
   "cell_type": "code",
   "execution_count": 5,
   "id": "33a6ecb2-df87-4988-b921-f48f6ca36920",
   "metadata": {},
   "outputs": [],
   "source": [
    "# Ensure date_time is in datetime format\n",
    "df['date_time'] = pd.to_datetime(df['date_time'])"
   ]
  },
  {
   "cell_type": "code",
   "execution_count": 6,
   "id": "7dee9938-f870-4ba5-83ef-32d630ac761c",
   "metadata": {},
   "outputs": [],
   "source": [
    "# Sort by client_id, visit_id, and date_time to ensure chronological order\n",
    "df = df.sort_values(by=['client_id',\"visitor_id\", \"visit_id\",'date_time'])"
   ]
  },
  {
   "cell_type": "code",
   "execution_count": 7,
   "id": "b8d464dd-1239-4648-90ad-4ef0eb71287e",
   "metadata": {},
   "outputs": [],
   "source": [
    "# Define the process steps in the correct order\n",
    "process_order = ['start', 'step_1', 'step_2', 'step_3', 'confirm']"
   ]
  },
  {
   "cell_type": "code",
   "execution_count": 8,
   "id": "00758253-88c3-4e6e-8a6b-a3c42c41a034",
   "metadata": {},
   "outputs": [],
   "source": [
    "# Create a new column that shows the next step\n",
    "df['next_step'] = df.groupby(['client_id',\"visitor_id\", \"visit_id\"])['process_step'].shift(-1)"
   ]
  },
  {
   "cell_type": "code",
   "execution_count": 10,
   "id": "f5247c20-f7cc-4abc-8238-299e9e1fa7cc",
   "metadata": {},
   "outputs": [],
   "source": [
    "# Identify step-back errors\n",
    "df['is_step_back'] = df.apply(\n",
    "    lambda row: process_order.index(row['next_step']) < process_order.index(row['process_step']) \n",
    "    if pd.notnull(row['next_step']) else False, axis=1\n",
    ")"
   ]
  },
  {
   "cell_type": "code",
   "execution_count": 13,
   "id": "70bef50f-ba75-4e95-940e-f7646d3e68a8",
   "metadata": {},
   "outputs": [
    {
     "data": {
      "text/plain": [
       "9576"
      ]
     },
     "execution_count": 13,
     "metadata": {},
     "output_type": "execute_result"
    }
   ],
   "source": [
    "# Calculate total steps and total errors\n",
    "total_steps = len(df)  # Total number of rows (steps)\n",
    "total_step_back_errors = df['is_step_back'].sum()  # Sum of step-back errors\n",
    "total_step_back_errors"
   ]
  },
  {
   "cell_type": "code",
   "execution_count": 17,
   "id": "52cdbe9b-0c46-46eb-935f-6b1211ff1a90",
   "metadata": {},
   "outputs": [
    {
     "name": "stdout",
     "output_type": "stream",
     "text": [
      "Total number of steps: 140482\n",
      "Total number of step-back errors: 9576\n",
      "Total error rate: 6.816532%\n"
     ]
    }
   ],
   "source": [
    "# Calculate the overall error rate\n",
    "total_error_rate = total_step_back_errors / total_steps * 100\n",
    "\n",
    "print(f\"Total number of steps: {total_steps}\")\n",
    "print(f\"Total number of step-back errors: {total_step_back_errors}\")\n",
    "print(f\"Total error rate: {total_error_rate:.6f}%\")"
   ]
  },
  {
   "cell_type": "code",
   "execution_count": 18,
   "id": "670ddfeb-cc8d-440e-84cb-6d592fd9b5da",
   "metadata": {},
   "outputs": [],
   "source": [
    "# 1) Filter and get the last 'start' and 'confirm' time for each client\n",
    "start_df = (df[df['process_step'] == 'start']\n",
    "            .sort_values(by=['visit_id', 'date_time'])\n",
    "            .groupby(['visit_id'])\n",
    "            .tail(1)[['visit_id', 'date_time']]\n",
    "            .rename(columns={'date_time': 'start_time'}))\n",
    "\n",
    "# Filter and get the last 'confirm' time for each client, visitor, and visit\n",
    "confirm_df = (df[df['process_step'] == 'confirm']\n",
    "              .sort_values(by=['visit_id', 'date_time'])\n",
    "              .groupby(['visit_id'])\n",
    "              .tail(1)[['visit_id', 'date_time']]\n",
    "              .rename(columns={'date_time': 'confirm_time'}))"
   ]
  },
  {
   "cell_type": "code",
   "execution_count": 19,
   "id": "34ff9db7-f3c4-4b68-ad9f-5762ca3e0a82",
   "metadata": {},
   "outputs": [
    {
     "data": {
      "text/html": [
       "<div>\n",
       "<style scoped>\n",
       "    .dataframe tbody tr th:only-of-type {\n",
       "        vertical-align: middle;\n",
       "    }\n",
       "\n",
       "    .dataframe tbody tr th {\n",
       "        vertical-align: top;\n",
       "    }\n",
       "\n",
       "    .dataframe thead th {\n",
       "        text-align: right;\n",
       "    }\n",
       "</style>\n",
       "<table border=\"1\" class=\"dataframe\">\n",
       "  <thead>\n",
       "    <tr style=\"text-align: right;\">\n",
       "      <th></th>\n",
       "      <th>visit_id</th>\n",
       "      <th>start_time</th>\n",
       "    </tr>\n",
       "  </thead>\n",
       "  <tbody>\n",
       "    <tr>\n",
       "      <th>1596</th>\n",
       "      <td>100030127_47967100085_936361</td>\n",
       "      <td>2017-03-22 11:07:49</td>\n",
       "    </tr>\n",
       "    <tr>\n",
       "      <th>78613</th>\n",
       "      <td>100037962_47432393712_705583</td>\n",
       "      <td>2017-04-14 16:44:03</td>\n",
       "    </tr>\n",
       "    <tr>\n",
       "      <th>67130</th>\n",
       "      <td>100057941_88477660212_944512</td>\n",
       "      <td>2017-04-09 11:30:10</td>\n",
       "    </tr>\n",
       "    <tr>\n",
       "      <th>48328</th>\n",
       "      <td>10006594_66157970412_679648</td>\n",
       "      <td>2017-04-13 11:50:18</td>\n",
       "    </tr>\n",
       "    <tr>\n",
       "      <th>47574</th>\n",
       "      <td>100071743_53464757454_616703</td>\n",
       "      <td>2017-04-07 10:50:20</td>\n",
       "    </tr>\n",
       "    <tr>\n",
       "      <th>...</th>\n",
       "      <td>...</td>\n",
       "      <td>...</td>\n",
       "    </tr>\n",
       "    <tr>\n",
       "      <th>105232</th>\n",
       "      <td>999859408_41720215615_938916</td>\n",
       "      <td>2017-04-05 13:35:37</td>\n",
       "    </tr>\n",
       "    <tr>\n",
       "      <th>98915</th>\n",
       "      <td>999890184_77121766521_746360</td>\n",
       "      <td>2017-04-19 11:28:29</td>\n",
       "    </tr>\n",
       "    <tr>\n",
       "      <th>113508</th>\n",
       "      <td>999936732_27995195904_324897</td>\n",
       "      <td>2017-04-13 05:42:59</td>\n",
       "    </tr>\n",
       "    <tr>\n",
       "      <th>133928</th>\n",
       "      <td>999951892_54774917180_163890</td>\n",
       "      <td>2017-04-07 11:21:01</td>\n",
       "    </tr>\n",
       "    <tr>\n",
       "      <th>56875</th>\n",
       "      <td>999985675_64610694964_443659</td>\n",
       "      <td>2017-04-20 09:45:18</td>\n",
       "    </tr>\n",
       "  </tbody>\n",
       "</table>\n",
       "<p>30903 rows × 2 columns</p>\n",
       "</div>"
      ],
      "text/plain": [
       "                            visit_id          start_time\n",
       "1596    100030127_47967100085_936361 2017-03-22 11:07:49\n",
       "78613   100037962_47432393712_705583 2017-04-14 16:44:03\n",
       "67130   100057941_88477660212_944512 2017-04-09 11:30:10\n",
       "48328    10006594_66157970412_679648 2017-04-13 11:50:18\n",
       "47574   100071743_53464757454_616703 2017-04-07 10:50:20\n",
       "...                              ...                 ...\n",
       "105232  999859408_41720215615_938916 2017-04-05 13:35:37\n",
       "98915   999890184_77121766521_746360 2017-04-19 11:28:29\n",
       "113508  999936732_27995195904_324897 2017-04-13 05:42:59\n",
       "133928  999951892_54774917180_163890 2017-04-07 11:21:01\n",
       "56875   999985675_64610694964_443659 2017-04-20 09:45:18\n",
       "\n",
       "[30903 rows x 2 columns]"
      ]
     },
     "execution_count": 19,
     "metadata": {},
     "output_type": "execute_result"
    }
   ],
   "source": [
    "start_df"
   ]
  },
  {
   "cell_type": "code",
   "execution_count": 20,
   "id": "037cd2cb-1be9-43cd-8cf2-22215c103575",
   "metadata": {},
   "outputs": [
    {
     "data": {
      "text/html": [
       "<div>\n",
       "<style scoped>\n",
       "    .dataframe tbody tr th:only-of-type {\n",
       "        vertical-align: middle;\n",
       "    }\n",
       "\n",
       "    .dataframe tbody tr th {\n",
       "        vertical-align: top;\n",
       "    }\n",
       "\n",
       "    .dataframe thead th {\n",
       "        text-align: right;\n",
       "    }\n",
       "</style>\n",
       "<table border=\"1\" class=\"dataframe\">\n",
       "  <thead>\n",
       "    <tr style=\"text-align: right;\">\n",
       "      <th></th>\n",
       "      <th>visit_id</th>\n",
       "      <th>confirm_time</th>\n",
       "    </tr>\n",
       "  </thead>\n",
       "  <tbody>\n",
       "    <tr>\n",
       "      <th>48322</th>\n",
       "      <td>10006594_66157970412_679648</td>\n",
       "      <td>2017-04-13 11:56:12</td>\n",
       "    </tr>\n",
       "    <tr>\n",
       "      <th>76499</th>\n",
       "      <td>10007589_47780784567_391490</td>\n",
       "      <td>2017-05-18 08:03:33</td>\n",
       "    </tr>\n",
       "    <tr>\n",
       "      <th>13433</th>\n",
       "      <td>100254180_47139859079_984581</td>\n",
       "      <td>2017-04-05 21:47:43</td>\n",
       "    </tr>\n",
       "    <tr>\n",
       "      <th>101763</th>\n",
       "      <td>100309269_21684743336_936307</td>\n",
       "      <td>2017-04-16 06:23:54</td>\n",
       "    </tr>\n",
       "    <tr>\n",
       "      <th>50950</th>\n",
       "      <td>100471971_3065983298_584030</td>\n",
       "      <td>2017-05-04 07:53:11</td>\n",
       "    </tr>\n",
       "    <tr>\n",
       "      <th>...</th>\n",
       "      <td>...</td>\n",
       "      <td>...</td>\n",
       "    </tr>\n",
       "    <tr>\n",
       "      <th>87211</th>\n",
       "      <td>999528108_94761236019_731649</td>\n",
       "      <td>2017-04-17 10:05:54</td>\n",
       "    </tr>\n",
       "    <tr>\n",
       "      <th>50872</th>\n",
       "      <td>999528902_49133507319_516085</td>\n",
       "      <td>2017-03-29 18:08:13</td>\n",
       "    </tr>\n",
       "    <tr>\n",
       "      <th>127967</th>\n",
       "      <td>999814517_15202944548_822095</td>\n",
       "      <td>2017-03-29 12:13:26</td>\n",
       "    </tr>\n",
       "    <tr>\n",
       "      <th>105228</th>\n",
       "      <td>999859408_41720215615_938916</td>\n",
       "      <td>2017-04-05 13:39:45</td>\n",
       "    </tr>\n",
       "    <tr>\n",
       "      <th>56871</th>\n",
       "      <td>999985675_64610694964_443659</td>\n",
       "      <td>2017-04-20 10:02:48</td>\n",
       "    </tr>\n",
       "  </tbody>\n",
       "</table>\n",
       "<p>16039 rows × 2 columns</p>\n",
       "</div>"
      ],
      "text/plain": [
       "                            visit_id        confirm_time\n",
       "48322    10006594_66157970412_679648 2017-04-13 11:56:12\n",
       "76499    10007589_47780784567_391490 2017-05-18 08:03:33\n",
       "13433   100254180_47139859079_984581 2017-04-05 21:47:43\n",
       "101763  100309269_21684743336_936307 2017-04-16 06:23:54\n",
       "50950    100471971_3065983298_584030 2017-05-04 07:53:11\n",
       "...                              ...                 ...\n",
       "87211   999528108_94761236019_731649 2017-04-17 10:05:54\n",
       "50872   999528902_49133507319_516085 2017-03-29 18:08:13\n",
       "127967  999814517_15202944548_822095 2017-03-29 12:13:26\n",
       "105228  999859408_41720215615_938916 2017-04-05 13:39:45\n",
       "56871   999985675_64610694964_443659 2017-04-20 10:02:48\n",
       "\n",
       "[16039 rows x 2 columns]"
      ]
     },
     "execution_count": 20,
     "metadata": {},
     "output_type": "execute_result"
    }
   ],
   "source": [
    "confirm_df"
   ]
  },
  {
   "cell_type": "code",
   "execution_count": 24,
   "id": "aa2d17b5-cbfb-49cf-8278-b4291b46b8a6",
   "metadata": {},
   "outputs": [
    {
     "data": {
      "text/html": [
       "<div>\n",
       "<style scoped>\n",
       "    .dataframe tbody tr th:only-of-type {\n",
       "        vertical-align: middle;\n",
       "    }\n",
       "\n",
       "    .dataframe tbody tr th {\n",
       "        vertical-align: top;\n",
       "    }\n",
       "\n",
       "    .dataframe thead th {\n",
       "        text-align: right;\n",
       "    }\n",
       "</style>\n",
       "<table border=\"1\" class=\"dataframe\">\n",
       "  <thead>\n",
       "    <tr style=\"text-align: right;\">\n",
       "      <th></th>\n",
       "      <th>visit_id</th>\n",
       "      <th>start_time</th>\n",
       "      <th>confirm_time</th>\n",
       "    </tr>\n",
       "  </thead>\n",
       "  <tbody>\n",
       "    <tr>\n",
       "      <th>0</th>\n",
       "      <td>100030127_47967100085_936361</td>\n",
       "      <td>2017-03-22 11:07:49</td>\n",
       "      <td>NaT</td>\n",
       "    </tr>\n",
       "    <tr>\n",
       "      <th>1</th>\n",
       "      <td>100037962_47432393712_705583</td>\n",
       "      <td>2017-04-14 16:44:03</td>\n",
       "      <td>NaT</td>\n",
       "    </tr>\n",
       "    <tr>\n",
       "      <th>2</th>\n",
       "      <td>100057941_88477660212_944512</td>\n",
       "      <td>2017-04-09 11:30:10</td>\n",
       "      <td>NaT</td>\n",
       "    </tr>\n",
       "    <tr>\n",
       "      <th>3</th>\n",
       "      <td>10006594_66157970412_679648</td>\n",
       "      <td>2017-04-13 11:50:18</td>\n",
       "      <td>2017-04-13 11:56:12</td>\n",
       "    </tr>\n",
       "    <tr>\n",
       "      <th>4</th>\n",
       "      <td>100071743_53464757454_616703</td>\n",
       "      <td>2017-04-07 10:50:20</td>\n",
       "      <td>NaT</td>\n",
       "    </tr>\n",
       "    <tr>\n",
       "      <th>...</th>\n",
       "      <td>...</td>\n",
       "      <td>...</td>\n",
       "      <td>...</td>\n",
       "    </tr>\n",
       "    <tr>\n",
       "      <th>30898</th>\n",
       "      <td>999859408_41720215615_938916</td>\n",
       "      <td>2017-04-05 13:35:37</td>\n",
       "      <td>2017-04-05 13:39:45</td>\n",
       "    </tr>\n",
       "    <tr>\n",
       "      <th>30899</th>\n",
       "      <td>999890184_77121766521_746360</td>\n",
       "      <td>2017-04-19 11:28:29</td>\n",
       "      <td>NaT</td>\n",
       "    </tr>\n",
       "    <tr>\n",
       "      <th>30900</th>\n",
       "      <td>999936732_27995195904_324897</td>\n",
       "      <td>2017-04-13 05:42:59</td>\n",
       "      <td>NaT</td>\n",
       "    </tr>\n",
       "    <tr>\n",
       "      <th>30901</th>\n",
       "      <td>999951892_54774917180_163890</td>\n",
       "      <td>2017-04-07 11:21:01</td>\n",
       "      <td>NaT</td>\n",
       "    </tr>\n",
       "    <tr>\n",
       "      <th>30902</th>\n",
       "      <td>999985675_64610694964_443659</td>\n",
       "      <td>2017-04-20 09:45:18</td>\n",
       "      <td>2017-04-20 10:02:48</td>\n",
       "    </tr>\n",
       "  </tbody>\n",
       "</table>\n",
       "<p>30903 rows × 3 columns</p>\n",
       "</div>"
      ],
      "text/plain": [
       "                           visit_id          start_time        confirm_time\n",
       "0      100030127_47967100085_936361 2017-03-22 11:07:49                 NaT\n",
       "1      100037962_47432393712_705583 2017-04-14 16:44:03                 NaT\n",
       "2      100057941_88477660212_944512 2017-04-09 11:30:10                 NaT\n",
       "3       10006594_66157970412_679648 2017-04-13 11:50:18 2017-04-13 11:56:12\n",
       "4      100071743_53464757454_616703 2017-04-07 10:50:20                 NaT\n",
       "...                             ...                 ...                 ...\n",
       "30898  999859408_41720215615_938916 2017-04-05 13:35:37 2017-04-05 13:39:45\n",
       "30899  999890184_77121766521_746360 2017-04-19 11:28:29                 NaT\n",
       "30900  999936732_27995195904_324897 2017-04-13 05:42:59                 NaT\n",
       "30901  999951892_54774917180_163890 2017-04-07 11:21:01                 NaT\n",
       "30902  999985675_64610694964_443659 2017-04-20 09:45:18 2017-04-20 10:02:48\n",
       "\n",
       "[30903 rows x 3 columns]"
      ]
     },
     "execution_count": 24,
     "metadata": {},
     "output_type": "execute_result"
    }
   ],
   "source": [
    "# 2) Merge the two DataFrames on client_id\n",
    "merged_df = pd.merge(start_df, confirm_df, on='visit_id', how='left')  # use 'left' to keep all clients with 'start' step\n",
    "merged_df"
   ]
  },
  {
   "cell_type": "code",
   "execution_count": 29,
   "id": "24d61b6f-a2b3-465b-b8bc-c957d9caa69d",
   "metadata": {},
   "outputs": [
    {
     "data": {
      "text/html": [
       "<div>\n",
       "<style scoped>\n",
       "    .dataframe tbody tr th:only-of-type {\n",
       "        vertical-align: middle;\n",
       "    }\n",
       "\n",
       "    .dataframe tbody tr th {\n",
       "        vertical-align: top;\n",
       "    }\n",
       "\n",
       "    .dataframe thead th {\n",
       "        text-align: right;\n",
       "    }\n",
       "</style>\n",
       "<table border=\"1\" class=\"dataframe\">\n",
       "  <thead>\n",
       "    <tr style=\"text-align: right;\">\n",
       "      <th></th>\n",
       "      <th>visit_id</th>\n",
       "      <th>start_time</th>\n",
       "      <th>confirm_time</th>\n",
       "      <th>process_duration</th>\n",
       "    </tr>\n",
       "  </thead>\n",
       "  <tbody>\n",
       "    <tr>\n",
       "      <th>0</th>\n",
       "      <td>100030127_47967100085_936361</td>\n",
       "      <td>2017-03-22 11:07:49</td>\n",
       "      <td>NaT</td>\n",
       "      <td>NaN</td>\n",
       "    </tr>\n",
       "    <tr>\n",
       "      <th>1</th>\n",
       "      <td>100037962_47432393712_705583</td>\n",
       "      <td>2017-04-14 16:44:03</td>\n",
       "      <td>NaT</td>\n",
       "      <td>NaN</td>\n",
       "    </tr>\n",
       "    <tr>\n",
       "      <th>2</th>\n",
       "      <td>100057941_88477660212_944512</td>\n",
       "      <td>2017-04-09 11:30:10</td>\n",
       "      <td>NaT</td>\n",
       "      <td>NaN</td>\n",
       "    </tr>\n",
       "    <tr>\n",
       "      <th>3</th>\n",
       "      <td>10006594_66157970412_679648</td>\n",
       "      <td>2017-04-13 11:50:18</td>\n",
       "      <td>2017-04-13 11:56:12</td>\n",
       "      <td>5.900000</td>\n",
       "    </tr>\n",
       "    <tr>\n",
       "      <th>4</th>\n",
       "      <td>100071743_53464757454_616703</td>\n",
       "      <td>2017-04-07 10:50:20</td>\n",
       "      <td>NaT</td>\n",
       "      <td>NaN</td>\n",
       "    </tr>\n",
       "    <tr>\n",
       "      <th>...</th>\n",
       "      <td>...</td>\n",
       "      <td>...</td>\n",
       "      <td>...</td>\n",
       "      <td>...</td>\n",
       "    </tr>\n",
       "    <tr>\n",
       "      <th>30898</th>\n",
       "      <td>999859408_41720215615_938916</td>\n",
       "      <td>2017-04-05 13:35:37</td>\n",
       "      <td>2017-04-05 13:39:45</td>\n",
       "      <td>4.133333</td>\n",
       "    </tr>\n",
       "    <tr>\n",
       "      <th>30899</th>\n",
       "      <td>999890184_77121766521_746360</td>\n",
       "      <td>2017-04-19 11:28:29</td>\n",
       "      <td>NaT</td>\n",
       "      <td>NaN</td>\n",
       "    </tr>\n",
       "    <tr>\n",
       "      <th>30900</th>\n",
       "      <td>999936732_27995195904_324897</td>\n",
       "      <td>2017-04-13 05:42:59</td>\n",
       "      <td>NaT</td>\n",
       "      <td>NaN</td>\n",
       "    </tr>\n",
       "    <tr>\n",
       "      <th>30901</th>\n",
       "      <td>999951892_54774917180_163890</td>\n",
       "      <td>2017-04-07 11:21:01</td>\n",
       "      <td>NaT</td>\n",
       "      <td>NaN</td>\n",
       "    </tr>\n",
       "    <tr>\n",
       "      <th>30902</th>\n",
       "      <td>999985675_64610694964_443659</td>\n",
       "      <td>2017-04-20 09:45:18</td>\n",
       "      <td>2017-04-20 10:02:48</td>\n",
       "      <td>17.500000</td>\n",
       "    </tr>\n",
       "  </tbody>\n",
       "</table>\n",
       "<p>30903 rows × 4 columns</p>\n",
       "</div>"
      ],
      "text/plain": [
       "                           visit_id          start_time        confirm_time  \\\n",
       "0      100030127_47967100085_936361 2017-03-22 11:07:49                 NaT   \n",
       "1      100037962_47432393712_705583 2017-04-14 16:44:03                 NaT   \n",
       "2      100057941_88477660212_944512 2017-04-09 11:30:10                 NaT   \n",
       "3       10006594_66157970412_679648 2017-04-13 11:50:18 2017-04-13 11:56:12   \n",
       "4      100071743_53464757454_616703 2017-04-07 10:50:20                 NaT   \n",
       "...                             ...                 ...                 ...   \n",
       "30898  999859408_41720215615_938916 2017-04-05 13:35:37 2017-04-05 13:39:45   \n",
       "30899  999890184_77121766521_746360 2017-04-19 11:28:29                 NaT   \n",
       "30900  999936732_27995195904_324897 2017-04-13 05:42:59                 NaT   \n",
       "30901  999951892_54774917180_163890 2017-04-07 11:21:01                 NaT   \n",
       "30902  999985675_64610694964_443659 2017-04-20 09:45:18 2017-04-20 10:02:48   \n",
       "\n",
       "       process_duration  \n",
       "0                   NaN  \n",
       "1                   NaN  \n",
       "2                   NaN  \n",
       "3              5.900000  \n",
       "4                   NaN  \n",
       "...                 ...  \n",
       "30898          4.133333  \n",
       "30899               NaN  \n",
       "30900               NaN  \n",
       "30901               NaN  \n",
       "30902         17.500000  \n",
       "\n",
       "[30903 rows x 4 columns]"
      ]
     },
     "execution_count": 29,
     "metadata": {},
     "output_type": "execute_result"
    }
   ],
   "source": [
    "# 3) Calculate the process time (confirm_time - start_time) in minutes\n",
    "merged_df['process_duration'] = (merged_df['confirm_time'] - merged_df['start_time']).dt.total_seconds() / 60  # Convert to minutes\n",
    "merged_df"
   ]
  },
  {
   "cell_type": "code",
   "execution_count": 31,
   "id": "daa31919-5511-41c9-b5d9-0a603be4f4d9",
   "metadata": {},
   "outputs": [
    {
     "data": {
      "text/html": [
       "<div>\n",
       "<style scoped>\n",
       "    .dataframe tbody tr th:only-of-type {\n",
       "        vertical-align: middle;\n",
       "    }\n",
       "\n",
       "    .dataframe tbody tr th {\n",
       "        vertical-align: top;\n",
       "    }\n",
       "\n",
       "    .dataframe thead th {\n",
       "        text-align: right;\n",
       "    }\n",
       "</style>\n",
       "<table border=\"1\" class=\"dataframe\">\n",
       "  <thead>\n",
       "    <tr style=\"text-align: right;\">\n",
       "      <th></th>\n",
       "      <th>visit_id</th>\n",
       "      <th>start_time</th>\n",
       "      <th>confirm_time</th>\n",
       "      <th>process_duration</th>\n",
       "    </tr>\n",
       "  </thead>\n",
       "  <tbody>\n",
       "    <tr>\n",
       "      <th>0</th>\n",
       "      <td>100030127_47967100085_936361</td>\n",
       "      <td>2017-03-22 11:07:49</td>\n",
       "      <td>NaT</td>\n",
       "      <td>NaN</td>\n",
       "    </tr>\n",
       "    <tr>\n",
       "      <th>1</th>\n",
       "      <td>100037962_47432393712_705583</td>\n",
       "      <td>2017-04-14 16:44:03</td>\n",
       "      <td>NaT</td>\n",
       "      <td>NaN</td>\n",
       "    </tr>\n",
       "    <tr>\n",
       "      <th>2</th>\n",
       "      <td>100057941_88477660212_944512</td>\n",
       "      <td>2017-04-09 11:30:10</td>\n",
       "      <td>NaT</td>\n",
       "      <td>NaN</td>\n",
       "    </tr>\n",
       "    <tr>\n",
       "      <th>3</th>\n",
       "      <td>10006594_66157970412_679648</td>\n",
       "      <td>2017-04-13 11:50:18</td>\n",
       "      <td>2017-04-13 11:56:12</td>\n",
       "      <td>5.900000</td>\n",
       "    </tr>\n",
       "    <tr>\n",
       "      <th>4</th>\n",
       "      <td>100071743_53464757454_616703</td>\n",
       "      <td>2017-04-07 10:50:20</td>\n",
       "      <td>NaT</td>\n",
       "      <td>NaN</td>\n",
       "    </tr>\n",
       "    <tr>\n",
       "      <th>...</th>\n",
       "      <td>...</td>\n",
       "      <td>...</td>\n",
       "      <td>...</td>\n",
       "      <td>...</td>\n",
       "    </tr>\n",
       "    <tr>\n",
       "      <th>30898</th>\n",
       "      <td>999859408_41720215615_938916</td>\n",
       "      <td>2017-04-05 13:35:37</td>\n",
       "      <td>2017-04-05 13:39:45</td>\n",
       "      <td>4.133333</td>\n",
       "    </tr>\n",
       "    <tr>\n",
       "      <th>30899</th>\n",
       "      <td>999890184_77121766521_746360</td>\n",
       "      <td>2017-04-19 11:28:29</td>\n",
       "      <td>NaT</td>\n",
       "      <td>NaN</td>\n",
       "    </tr>\n",
       "    <tr>\n",
       "      <th>30900</th>\n",
       "      <td>999936732_27995195904_324897</td>\n",
       "      <td>2017-04-13 05:42:59</td>\n",
       "      <td>NaT</td>\n",
       "      <td>NaN</td>\n",
       "    </tr>\n",
       "    <tr>\n",
       "      <th>30901</th>\n",
       "      <td>999951892_54774917180_163890</td>\n",
       "      <td>2017-04-07 11:21:01</td>\n",
       "      <td>NaT</td>\n",
       "      <td>NaN</td>\n",
       "    </tr>\n",
       "    <tr>\n",
       "      <th>30902</th>\n",
       "      <td>999985675_64610694964_443659</td>\n",
       "      <td>2017-04-20 09:45:18</td>\n",
       "      <td>2017-04-20 10:02:48</td>\n",
       "      <td>17.500000</td>\n",
       "    </tr>\n",
       "  </tbody>\n",
       "</table>\n",
       "<p>30903 rows × 4 columns</p>\n",
       "</div>"
      ],
      "text/plain": [
       "                           visit_id          start_time        confirm_time  \\\n",
       "0      100030127_47967100085_936361 2017-03-22 11:07:49                 NaT   \n",
       "1      100037962_47432393712_705583 2017-04-14 16:44:03                 NaT   \n",
       "2      100057941_88477660212_944512 2017-04-09 11:30:10                 NaT   \n",
       "3       10006594_66157970412_679648 2017-04-13 11:50:18 2017-04-13 11:56:12   \n",
       "4      100071743_53464757454_616703 2017-04-07 10:50:20                 NaT   \n",
       "...                             ...                 ...                 ...   \n",
       "30898  999859408_41720215615_938916 2017-04-05 13:35:37 2017-04-05 13:39:45   \n",
       "30899  999890184_77121766521_746360 2017-04-19 11:28:29                 NaT   \n",
       "30900  999936732_27995195904_324897 2017-04-13 05:42:59                 NaT   \n",
       "30901  999951892_54774917180_163890 2017-04-07 11:21:01                 NaT   \n",
       "30902  999985675_64610694964_443659 2017-04-20 09:45:18 2017-04-20 10:02:48   \n",
       "\n",
       "       process_duration  \n",
       "0                   NaN  \n",
       "1                   NaN  \n",
       "2                   NaN  \n",
       "3              5.900000  \n",
       "4                   NaN  \n",
       "...                 ...  \n",
       "30898          4.133333  \n",
       "30899               NaN  \n",
       "30900               NaN  \n",
       "30901               NaN  \n",
       "30902         17.500000  \n",
       "\n",
       "[30903 rows x 4 columns]"
      ]
     },
     "execution_count": 31,
     "metadata": {},
     "output_type": "execute_result"
    }
   ],
   "source": [
    "merged_df[['visit_id', 'start_time', 'confirm_time', 'process_duration']]"
   ]
  },
  {
   "cell_type": "code",
   "execution_count": 33,
   "id": "9e3597c2-6650-43c2-b7e6-5f7dc5008a5b",
   "metadata": {},
   "outputs": [
    {
     "data": {
      "text/html": [
       "<div>\n",
       "<style scoped>\n",
       "    .dataframe tbody tr th:only-of-type {\n",
       "        vertical-align: middle;\n",
       "    }\n",
       "\n",
       "    .dataframe tbody tr th {\n",
       "        vertical-align: top;\n",
       "    }\n",
       "\n",
       "    .dataframe thead th {\n",
       "        text-align: right;\n",
       "    }\n",
       "</style>\n",
       "<table border=\"1\" class=\"dataframe\">\n",
       "  <thead>\n",
       "    <tr style=\"text-align: right;\">\n",
       "      <th></th>\n",
       "      <th>visit_id</th>\n",
       "      <th>start_time</th>\n",
       "      <th>confirm_time</th>\n",
       "      <th>process_duration</th>\n",
       "    </tr>\n",
       "  </thead>\n",
       "  <tbody>\n",
       "    <tr>\n",
       "      <th>3</th>\n",
       "      <td>10006594_66157970412_679648</td>\n",
       "      <td>2017-04-13 11:50:18</td>\n",
       "      <td>2017-04-13 11:56:12</td>\n",
       "      <td>5.900000</td>\n",
       "    </tr>\n",
       "    <tr>\n",
       "      <th>5</th>\n",
       "      <td>10007589_47780784567_391490</td>\n",
       "      <td>2017-05-18 07:51:32</td>\n",
       "      <td>2017-05-18 08:03:33</td>\n",
       "      <td>12.016667</td>\n",
       "    </tr>\n",
       "    <tr>\n",
       "      <th>10</th>\n",
       "      <td>100254180_47139859079_984581</td>\n",
       "      <td>2017-04-05 21:42:02</td>\n",
       "      <td>2017-04-05 21:47:43</td>\n",
       "      <td>5.683333</td>\n",
       "    </tr>\n",
       "    <tr>\n",
       "      <th>11</th>\n",
       "      <td>100309269_21684743336_936307</td>\n",
       "      <td>2017-04-16 06:19:54</td>\n",
       "      <td>2017-04-16 06:23:54</td>\n",
       "      <td>4.000000</td>\n",
       "    </tr>\n",
       "    <tr>\n",
       "      <th>15</th>\n",
       "      <td>100471971_3065983298_584030</td>\n",
       "      <td>2017-05-04 07:50:37</td>\n",
       "      <td>2017-05-04 07:53:11</td>\n",
       "      <td>2.566667</td>\n",
       "    </tr>\n",
       "    <tr>\n",
       "      <th>...</th>\n",
       "      <td>...</td>\n",
       "      <td>...</td>\n",
       "      <td>...</td>\n",
       "      <td>...</td>\n",
       "    </tr>\n",
       "    <tr>\n",
       "      <th>30889</th>\n",
       "      <td>999512351_9425260762_890767</td>\n",
       "      <td>2017-03-29 14:51:59</td>\n",
       "      <td>2017-03-29 14:54:40</td>\n",
       "      <td>2.683333</td>\n",
       "    </tr>\n",
       "    <tr>\n",
       "      <th>30891</th>\n",
       "      <td>999528108_94761236019_731649</td>\n",
       "      <td>2017-04-17 10:02:16</td>\n",
       "      <td>2017-04-17 10:05:54</td>\n",
       "      <td>3.633333</td>\n",
       "    </tr>\n",
       "    <tr>\n",
       "      <th>30892</th>\n",
       "      <td>999528902_49133507319_516085</td>\n",
       "      <td>2017-03-29 17:59:40</td>\n",
       "      <td>2017-03-29 18:08:13</td>\n",
       "      <td>8.550000</td>\n",
       "    </tr>\n",
       "    <tr>\n",
       "      <th>30898</th>\n",
       "      <td>999859408_41720215615_938916</td>\n",
       "      <td>2017-04-05 13:35:37</td>\n",
       "      <td>2017-04-05 13:39:45</td>\n",
       "      <td>4.133333</td>\n",
       "    </tr>\n",
       "    <tr>\n",
       "      <th>30902</th>\n",
       "      <td>999985675_64610694964_443659</td>\n",
       "      <td>2017-04-20 09:45:18</td>\n",
       "      <td>2017-04-20 10:02:48</td>\n",
       "      <td>17.500000</td>\n",
       "    </tr>\n",
       "  </tbody>\n",
       "</table>\n",
       "<p>14896 rows × 4 columns</p>\n",
       "</div>"
      ],
      "text/plain": [
       "                           visit_id          start_time        confirm_time  \\\n",
       "3       10006594_66157970412_679648 2017-04-13 11:50:18 2017-04-13 11:56:12   \n",
       "5       10007589_47780784567_391490 2017-05-18 07:51:32 2017-05-18 08:03:33   \n",
       "10     100254180_47139859079_984581 2017-04-05 21:42:02 2017-04-05 21:47:43   \n",
       "11     100309269_21684743336_936307 2017-04-16 06:19:54 2017-04-16 06:23:54   \n",
       "15      100471971_3065983298_584030 2017-05-04 07:50:37 2017-05-04 07:53:11   \n",
       "...                             ...                 ...                 ...   \n",
       "30889   999512351_9425260762_890767 2017-03-29 14:51:59 2017-03-29 14:54:40   \n",
       "30891  999528108_94761236019_731649 2017-04-17 10:02:16 2017-04-17 10:05:54   \n",
       "30892  999528902_49133507319_516085 2017-03-29 17:59:40 2017-03-29 18:08:13   \n",
       "30898  999859408_41720215615_938916 2017-04-05 13:35:37 2017-04-05 13:39:45   \n",
       "30902  999985675_64610694964_443659 2017-04-20 09:45:18 2017-04-20 10:02:48   \n",
       "\n",
       "       process_duration  \n",
       "3              5.900000  \n",
       "5             12.016667  \n",
       "10             5.683333  \n",
       "11             4.000000  \n",
       "15             2.566667  \n",
       "...                 ...  \n",
       "30889          2.683333  \n",
       "30891          3.633333  \n",
       "30892          8.550000  \n",
       "30898          4.133333  \n",
       "30902         17.500000  \n",
       "\n",
       "[14896 rows x 4 columns]"
      ]
     },
     "execution_count": 33,
     "metadata": {},
     "output_type": "execute_result"
    }
   ],
   "source": [
    "# Drop missing values to have only the clients that finished the process\n",
    "merged_df = merged_df.dropna(subset=['process_duration'])\n",
    "merged_df"
   ]
  },
  {
   "cell_type": "code",
   "execution_count": 35,
   "id": "6f7d07cb-0310-4b5a-886e-e03dc3859073",
   "metadata": {},
   "outputs": [
    {
     "data": {
      "text/plain": [
       "5.17750626566416"
      ]
     },
     "execution_count": 35,
     "metadata": {},
     "output_type": "execute_result"
    }
   ],
   "source": [
    "# Average of time to complete the process (15,312 rows)\n",
    "merged_df.process_duration.mean()"
   ]
  },
  {
   "cell_type": "code",
   "execution_count": 37,
   "id": "94dae5ac-ca62-4d0b-9612-7b2588a17365",
   "metadata": {},
   "outputs": [
    {
     "name": "stdout",
     "output_type": "stream",
     "text": [
      "['10006594_66157970412_679648' '10007589_47780784567_391490'\n",
      " '100254180_47139859079_984581' ... '999358338_38217364343_327998'\n",
      " '999528902_49133507319_516085' '999985675_64610694964_443659']\n"
     ]
    }
   ],
   "source": [
    "# Step 1: Calculate the average process_duration\n",
    "avg_process_duration = merged_df['process_duration'].mean()\n",
    "\n",
    "# Step 2: Filter the DataFrame to include only rows where process_duration is greater than the average\n",
    "filtered_df = merged_df[merged_df['process_duration'] > avg_process_duration]\n",
    "\n",
    "# Step 3: Get the unique client_ids from the filtered DataFrame\n",
    "clients_above_avg_duration = filtered_df['visit_id'].unique()\n",
    "\n",
    "# If you just want to see the client_ids:\n",
    "print(clients_above_avg_duration)"
   ]
  },
  {
   "cell_type": "code",
   "execution_count": 39,
   "id": "f8313007-db16-4c08-b3c9-f55a0e5c20c4",
   "metadata": {},
   "outputs": [
    {
     "data": {
      "text/plain": [
       "159.5"
      ]
     },
     "execution_count": 39,
     "metadata": {},
     "output_type": "execute_result"
    }
   ],
   "source": [
    "max_duration = filtered_df['process_duration'].max()\n",
    "max_duration"
   ]
  },
  {
   "cell_type": "code",
   "execution_count": 41,
   "id": "b04f1e5d-be4e-440a-b693-9b1a1a6f2a99",
   "metadata": {},
   "outputs": [],
   "source": [
    "import matplotlib.pyplot as plt"
   ]
  },
  {
   "cell_type": "code",
   "execution_count": 43,
   "id": "0b096aad-5912-45f4-bc2d-53faf8bd5b62",
   "metadata": {},
   "outputs": [
    {
     "data": {
      "image/png": "[encoded data removed]",
      "text/plain": [
       "<Figure size 640x480 with 1 Axes>"
      ]
     },
     "metadata": {},
     "output_type": "display_data"
    }
   ],
   "source": [
    "# Create a histogram of the 'process_duration' column\n",
    "plt.hist(filtered_df['process_duration'], bins=20, color='blue', edgecolor='black')\n",
    "\n",
    "# Add labels and a title\n",
    "plt.xlabel('Process Duration')\n",
    "plt.ylabel('Frequency')\n",
    "plt.title('Histogram of Process Duration')\n",
    "\n",
    "# Display the plot\n",
    "plt.show()"
   ]
  },
  {
   "cell_type": "code",
   "execution_count": 44,
   "id": "9e1dce3d-beb6-4f3b-a17c-13583ebda40a",
   "metadata": {},
   "outputs": [
    {
     "data": {
      "image/png": "[encoded data removed]",
      "text/plain": [
       "<Figure size 640x480 with 1 Axes>"
      ]
     },
     "metadata": {},
     "output_type": "display_data"
    }
   ],
   "source": [
    "# Box plot to visualize the distribution of 'process_duration'\n",
    "sns.boxplot(y=filtered_df['process_duration'])\n",
    "\n",
    "# Add title and labels\n",
    "plt.title('Box Plot of Process Duration')\n",
    "plt.xlabel('Process Duration')\n",
    "\n",
    "# Display the plot\n",
    "plt.show()"
   ]
  },
  {
   "cell_type": "code",
   "execution_count": 47,
   "id": "d5ce3de0-6ed4-4b3e-aa12-7e8c414a7821",
   "metadata": {},
   "outputs": [
    {
     "name": "stdout",
     "output_type": "stream",
     "text": [
      "Original data: 140482 rows, Filtered data: 4977 rows\n"
     ]
    }
   ],
   "source": [
    "# Calculate Q1, Q3 and IQR\n",
    "Q1 = filtered_df['process_duration'].quantile(0.25)\n",
    "Q3 = filtered_df['process_duration'].quantile(0.75)\n",
    "IQR = Q3 - Q1\n",
    "\n",
    "# Define lower and upper bounds\n",
    "lower_bound = Q1 - 1.5 * IQR\n",
    "upper_bound = Q3 + 1.5 * IQR\n",
    "\n",
    "# Filter out outliers\n",
    "df_filtered = filtered_df[(filtered_df['process_duration'] >= lower_bound) & (filtered_df['process_duration'] <= upper_bound)]\n",
    "\n",
    "# Check the shape of the new dataframe (rows after removing outliers)\n",
    "print(f\"Original data: {df.shape[0]} rows, Filtered data: {df_filtered.shape[0]} rows\")"
   ]
  },
  {
   "cell_type": "code",
   "execution_count": 49,
   "id": "6f184e88-1e16-40ae-8d27-e27cc9179c9b",
   "metadata": {},
   "outputs": [
    {
     "data": {
      "text/html": [
       "<div>\n",
       "<style scoped>\n",
       "    .dataframe tbody tr th:only-of-type {\n",
       "        vertical-align: middle;\n",
       "    }\n",
       "\n",
       "    .dataframe tbody tr th {\n",
       "        vertical-align: top;\n",
       "    }\n",
       "\n",
       "    .dataframe thead th {\n",
       "        text-align: right;\n",
       "    }\n",
       "</style>\n",
       "<table border=\"1\" class=\"dataframe\">\n",
       "  <thead>\n",
       "    <tr style=\"text-align: right;\">\n",
       "      <th></th>\n",
       "      <th>visit_id</th>\n",
       "      <th>start_time</th>\n",
       "      <th>confirm_time</th>\n",
       "      <th>process_duration</th>\n",
       "    </tr>\n",
       "  </thead>\n",
       "  <tbody>\n",
       "    <tr>\n",
       "      <th>3</th>\n",
       "      <td>10006594_66157970412_679648</td>\n",
       "      <td>2017-04-13 11:50:18</td>\n",
       "      <td>2017-04-13 11:56:12</td>\n",
       "      <td>5.900000</td>\n",
       "    </tr>\n",
       "    <tr>\n",
       "      <th>5</th>\n",
       "      <td>10007589_47780784567_391490</td>\n",
       "      <td>2017-05-18 07:51:32</td>\n",
       "      <td>2017-05-18 08:03:33</td>\n",
       "      <td>12.016667</td>\n",
       "    </tr>\n",
       "    <tr>\n",
       "      <th>10</th>\n",
       "      <td>100254180_47139859079_984581</td>\n",
       "      <td>2017-04-05 21:42:02</td>\n",
       "      <td>2017-04-05 21:47:43</td>\n",
       "      <td>5.683333</td>\n",
       "    </tr>\n",
       "    <tr>\n",
       "      <th>16</th>\n",
       "      <td>100481857_71511233596_788753</td>\n",
       "      <td>2017-04-25 18:15:48</td>\n",
       "      <td>2017-04-25 18:28:44</td>\n",
       "      <td>12.933333</td>\n",
       "    </tr>\n",
       "    <tr>\n",
       "      <th>23</th>\n",
       "      <td>100733473_61604582110_215085</td>\n",
       "      <td>2017-04-17 17:12:44</td>\n",
       "      <td>2017-04-17 17:18:19</td>\n",
       "      <td>5.583333</td>\n",
       "    </tr>\n",
       "    <tr>\n",
       "      <th>...</th>\n",
       "      <td>...</td>\n",
       "      <td>...</td>\n",
       "      <td>...</td>\n",
       "      <td>...</td>\n",
       "    </tr>\n",
       "    <tr>\n",
       "      <th>30871</th>\n",
       "      <td>999027606_14420282929_137267</td>\n",
       "      <td>2017-04-19 08:43:49</td>\n",
       "      <td>2017-04-19 08:49:14</td>\n",
       "      <td>5.416667</td>\n",
       "    </tr>\n",
       "    <tr>\n",
       "      <th>30873</th>\n",
       "      <td>999060107_70703440582_987099</td>\n",
       "      <td>2017-04-05 17:42:09</td>\n",
       "      <td>2017-04-05 17:48:16</td>\n",
       "      <td>6.116667</td>\n",
       "    </tr>\n",
       "    <tr>\n",
       "      <th>30884</th>\n",
       "      <td>999358338_38217364343_327998</td>\n",
       "      <td>2017-04-12 17:36:51</td>\n",
       "      <td>2017-04-12 17:42:18</td>\n",
       "      <td>5.450000</td>\n",
       "    </tr>\n",
       "    <tr>\n",
       "      <th>30892</th>\n",
       "      <td>999528902_49133507319_516085</td>\n",
       "      <td>2017-03-29 17:59:40</td>\n",
       "      <td>2017-03-29 18:08:13</td>\n",
       "      <td>8.550000</td>\n",
       "    </tr>\n",
       "    <tr>\n",
       "      <th>30902</th>\n",
       "      <td>999985675_64610694964_443659</td>\n",
       "      <td>2017-04-20 09:45:18</td>\n",
       "      <td>2017-04-20 10:02:48</td>\n",
       "      <td>17.500000</td>\n",
       "    </tr>\n",
       "  </tbody>\n",
       "</table>\n",
       "<p>4977 rows × 4 columns</p>\n",
       "</div>"
      ],
      "text/plain": [
       "                           visit_id          start_time        confirm_time  \\\n",
       "3       10006594_66157970412_679648 2017-04-13 11:50:18 2017-04-13 11:56:12   \n",
       "5       10007589_47780784567_391490 2017-05-18 07:51:32 2017-05-18 08:03:33   \n",
       "10     100254180_47139859079_984581 2017-04-05 21:42:02 2017-04-05 21:47:43   \n",
       "16     100481857_71511233596_788753 2017-04-25 18:15:48 2017-04-25 18:28:44   \n",
       "23     100733473_61604582110_215085 2017-04-17 17:12:44 2017-04-17 17:18:19   \n",
       "...                             ...                 ...                 ...   \n",
       "30871  999027606_14420282929_137267 2017-04-19 08:43:49 2017-04-19 08:49:14   \n",
       "30873  999060107_70703440582_987099 2017-04-05 17:42:09 2017-04-05 17:48:16   \n",
       "30884  999358338_38217364343_327998 2017-04-12 17:36:51 2017-04-12 17:42:18   \n",
       "30892  999528902_49133507319_516085 2017-03-29 17:59:40 2017-03-29 18:08:13   \n",
       "30902  999985675_64610694964_443659 2017-04-20 09:45:18 2017-04-20 10:02:48   \n",
       "\n",
       "       process_duration  \n",
       "3              5.900000  \n",
       "5             12.016667  \n",
       "10             5.683333  \n",
       "16            12.933333  \n",
       "23             5.583333  \n",
       "...                 ...  \n",
       "30871          5.416667  \n",
       "30873          6.116667  \n",
       "30884          5.450000  \n",
       "30892          8.550000  \n",
       "30902         17.500000  \n",
       "\n",
       "[4977 rows x 4 columns]"
      ]
     },
     "execution_count": 49,
     "metadata": {},
     "output_type": "execute_result"
    }
   ],
   "source": [
    "df_filtered"
   ]
  },
  {
   "cell_type": "code",
   "execution_count": 51,
   "id": "123659c7-e2f6-4164-9305-287042294dab",
   "metadata": {},
   "outputs": [
    {
     "data": {
      "image/png": "[encoded data removed]",
      "text/plain": [
       "<Figure size 640x480 with 1 Axes>"
      ]
     },
     "metadata": {},
     "output_type": "display_data"
    }
   ],
   "source": [
    "# Box plot to visualize the distribution of 'process_duration'\n",
    "sns.boxplot(x=df_filtered['process_duration'])\n",
    "\n",
    "# Add title and labels\n",
    "plt.title('Box Plot of Process Duration')\n",
    "plt.xlabel('Process Duration')\n",
    "\n",
    "# Display the plot\n",
    "plt.show()"
   ]
  },
  {
   "cell_type": "code",
   "execution_count": 53,
   "id": "5ede3b21-475f-4d61-ac45-76c47b2b5457",
   "metadata": {},
   "outputs": [
    {
     "data": {
      "image/png": "[encoded data removed]",
      "text/plain": [
       "<Figure size 640x480 with 1 Axes>"
      ]
     },
     "metadata": {},
     "output_type": "display_data"
    }
   ],
   "source": [
    "# Create a histogram of the 'process_duration' column\n",
    "plt.hist(df_filtered['process_duration'], bins=20, color='blue', edgecolor='black')\n",
    "\n",
    "# Add labels and a title\n",
    "plt.xlabel('Process Duration')\n",
    "plt.ylabel('Frequency')\n",
    "plt.title('Histogram of Process Duration')\n",
    "\n",
    "# Display the plot\n",
    "plt.show()"
   ]
  },
  {
   "cell_type": "code",
   "execution_count": 55,
   "id": "2363744a-ba33-4221-9f74-b1cc86a1e4da",
   "metadata": {},
   "outputs": [
    {
     "data": {
      "text/plain": [
       "8.658000133949502"
      ]
     },
     "execution_count": 55,
     "metadata": {},
     "output_type": "execute_result"
    }
   ],
   "source": [
    "# Average of time to complete the process 4,977 rows\n",
    "df_filtered.process_duration.mean()"
   ]
  },
  {
   "cell_type": "code",
   "execution_count": 57,
   "id": "c5159675-2915-455d-849f-91d7aaf218fd",
   "metadata": {},
   "outputs": [
    {
     "name": "stdout",
     "output_type": "stream",
     "text": [
      "8.658000133949502\n",
      "7.6\n",
      "5.266666666666667\n"
     ]
    }
   ],
   "source": [
    "# Measures of centrality of the column balance: \n",
    "mean_process_duration = df_filtered[\"process_duration\"].mean()\n",
    "median_process_duration = df_filtered['process_duration'].median()\n",
    "mode_process_duration = df_filtered['process_duration'].mode()[0]\n",
    "print(mean_process_duration)\n",
    "print(median_process_duration)\n",
    "print(mode_process_duration)"
   ]
  },
  {
   "cell_type": "code",
   "execution_count": 59,
   "id": "2fae9bc5-6b43-4dcf-92a7-faa9b3d5ac8c",
   "metadata": {},
   "outputs": [
    {
     "name": "stdout",
     "output_type": "stream",
     "text": [
      "10.142181373972864\n",
      "3.1846791634280627\n",
      "5.183333333333334\n",
      "18.5\n",
      "13.316666666666666\n",
      "0.25     6.133333\n",
      "0.50     7.600000\n",
      "0.75    10.350000\n",
      "Name: process_duration, dtype: float64\n"
     ]
    }
   ],
   "source": [
    "# Measures of dispersion of the column balance: \n",
    "variance_process_duration = df_filtered['process_duration'].var()\n",
    "std_dev_process_duration = df_filtered['process_duration'].std()\n",
    "min_process_duration = df_filtered['process_duration'].min()\n",
    "max_process_duration = df_filtered['process_duration'].max()\n",
    "range_process_duration = max_process_duration - min_process_duration\n",
    "quantiles_process_duration = df_filtered['process_duration'].quantile([0.25, 0.5, 0.75])\n",
    "print(variance_process_duration)\n",
    "print(std_dev_process_duration)\n",
    "print(min_process_duration)\n",
    "print(max_process_duration)\n",
    "print(range_process_duration)\n",
    "print(quantiles_process_duration)"
   ]
  },
  {
   "cell_type": "code",
   "execution_count": 61,
   "id": "d8446648-6ab9-453c-8f06-dcbd1ddc502e",
   "metadata": {},
   "outputs": [
    {
     "name": "stdout",
     "output_type": "stream",
     "text": [
      "1.133238030596211\n",
      "0.4915288921055385\n"
     ]
    }
   ],
   "source": [
    "skewness_process_duration = df_filtered['process_duration'].skew()\n",
    "kurtosis_process_duration = df_filtered['process_duration'].kurtosis()\n",
    "print(skewness_process_duration)\n",
    "print(kurtosis_process_duration)"
   ]
  },
  {
   "cell_type": "code",
   "execution_count": 63,
   "id": "a509f69a-25d3-44c8-bd2f-229052df5f87",
   "metadata": {},
   "outputs": [
    {
     "data": {
      "text/plain": [
       "8                    NaT\n",
       "7        0 days 00:00:49\n",
       "6        0 days 00:01:03\n",
       "5        0 days 00:00:09\n",
       "4        0 days 00:04:35\n",
       "               ...      \n",
       "140473   0 days 00:00:16\n",
       "140472   0 days 00:00:14\n",
       "140470   0 days 00:07:03\n",
       "140471   0 days 00:00:00\n",
       "140481               NaT\n",
       "Name: time_diff, Length: 140482, dtype: timedelta64[ns]"
      ]
     },
     "execution_count": 63,
     "metadata": {},
     "output_type": "execute_result"
    }
   ],
   "source": [
    "# Calculate the time difference between consecutive steps for each user\n",
    "df['time_diff'] = df.groupby(['client_id', 'visitor_id', 'visit_id'])['date_time'].diff()\n",
    "df['time_diff']"
   ]
  },
  {
   "cell_type": "code",
   "execution_count": 65,
   "id": "8ae8e958-3749-488d-9696-9377540bf1a6",
   "metadata": {},
   "outputs": [
    {
     "data": {
      "text/plain": [
       "8           NaN\n",
       "7          49.0\n",
       "6          63.0\n",
       "5           9.0\n",
       "4         275.0\n",
       "          ...  \n",
       "140473     16.0\n",
       "140472     14.0\n",
       "140470    423.0\n",
       "140471      0.0\n",
       "140481      NaN\n",
       "Name: time_diff_seconds, Length: 140482, dtype: float64"
      ]
     },
     "execution_count": 65,
     "metadata": {},
     "output_type": "execute_result"
    }
   ],
   "source": [
    "df['time_diff_seconds'] = df['time_diff'].dt.total_seconds()\n",
    "df['time_diff_seconds']"
   ]
  },
  {
   "cell_type": "code",
   "execution_count": 67,
   "id": "132480cc-9d46-4543-8ac5-9ae5048d0de5",
   "metadata": {},
   "outputs": [
    {
     "data": {
      "text/plain": [
       "visit_id\n",
       "100030127_47967100085_936361       0.0\n",
       "100037962_47432393712_705583     132.0\n",
       "100057941_88477660212_944512     254.0\n",
       "10006594_66157970412_679648      354.0\n",
       "100071743_53464757454_616703       0.0\n",
       "                                 ...  \n",
       "999859408_41720215615_938916     343.0\n",
       "999890184_77121766521_746360     680.0\n",
       "999936732_27995195904_324897      64.0\n",
       "999951892_54774917180_163890       0.0\n",
       "999985675_64610694964_443659    1050.0\n",
       "Name: time_diff_seconds, Length: 32181, dtype: float64"
      ]
     },
     "execution_count": 67,
     "metadata": {},
     "output_type": "execute_result"
    }
   ],
   "source": [
    "total_time_per_user_seconds = df.groupby(\"visit_id\")['time_diff_seconds'].sum()\n",
    "total_time_per_user_seconds"
   ]
  },
  {
   "cell_type": "code",
   "execution_count": 69,
   "id": "c48fce51-0ac9-4ab0-b803-42d42ed54726",
   "metadata": {},
   "outputs": [
    {
     "data": {
      "text/plain": [
       "visit_id\n",
       "100030127_47967100085_936361     0.000000\n",
       "100037962_47432393712_705583     2.200000\n",
       "100057941_88477660212_944512     4.233333\n",
       "10006594_66157970412_679648      5.900000\n",
       "100071743_53464757454_616703     0.000000\n",
       "                                  ...    \n",
       "999859408_41720215615_938916     5.716667\n",
       "999890184_77121766521_746360    11.333333\n",
       "999936732_27995195904_324897     1.066667\n",
       "999951892_54774917180_163890     0.000000\n",
       "999985675_64610694964_443659    17.500000\n",
       "Name: time_diff_seconds, Length: 32181, dtype: float64"
      ]
     },
     "execution_count": 69,
     "metadata": {},
     "output_type": "execute_result"
    }
   ],
   "source": [
    "# Convert the total time from seconds to a more readable format (e.g., minutes, hours)\n",
    "total_time_per_user_minutes = total_time_per_user_seconds / 60\n",
    "total_time_per_user_hours = total_time_per_user_seconds / 3600\n",
    "total_time_per_user_minutes"
   ]
  },
  {
   "cell_type": "code",
   "execution_count": 71,
   "id": "5ea87cf8-8d87-4787-b3fa-673e77ce2a8f",
   "metadata": {},
   "outputs": [
    {
     "data": {
      "text/plain": [
       "280.95382368478295"
      ]
     },
     "execution_count": 71,
     "metadata": {},
     "output_type": "execute_result"
    }
   ],
   "source": [
    "total_time_per_user_seconds.mean()"
   ]
  },
  {
   "cell_type": "code",
   "execution_count": 73,
   "id": "3328f13b-02b5-463c-818a-adbf93751258",
   "metadata": {},
   "outputs": [
    {
     "data": {
      "text/plain": [
       "4.682563728079715"
      ]
     },
     "execution_count": 73,
     "metadata": {},
     "output_type": "execute_result"
    }
   ],
   "source": [
    "total_time_per_user_minutes.mean()"
   ]
  },
  {
   "cell_type": "code",
   "execution_count": 75,
   "id": "21e8d53b-c063-406c-b9e7-b3f8f51eaf6e",
   "metadata": {},
   "outputs": [
    {
     "data": {
      "text/plain": [
       "0.07804272880132859"
      ]
     },
     "execution_count": 75,
     "metadata": {},
     "output_type": "execute_result"
    }
   ],
   "source": [
    "total_time_per_user_hours.mean()"
   ]
  },
  {
   "cell_type": "code",
   "execution_count": 77,
   "id": "72be039b-3dcc-4b05-8f94-bd32ee212217",
   "metadata": {},
   "outputs": [],
   "source": [
    "df = df.dropna(subset=['time_diff_seconds'])"
   ]
  },
  {
   "cell_type": "code",
   "execution_count": 79,
   "id": "eb6b7464-64be-4207-9c5d-3eabf19ba9c1",
   "metadata": {},
   "outputs": [
    {
     "data": {
      "text/plain": [
       "83.52540948017035"
      ]
     },
     "execution_count": 79,
     "metadata": {},
     "output_type": "execute_result"
    }
   ],
   "source": [
    "df.time_diff_seconds.mean()"
   ]
  },
  {
   "cell_type": "code",
   "execution_count": 81,
   "id": "345aac94-5834-4859-8a7a-731799bfe565",
   "metadata": {},
   "outputs": [
    {
     "data": {
      "text/html": [
       "<div>\n",
       "<style scoped>\n",
       "    .dataframe tbody tr th:only-of-type {\n",
       "        vertical-align: middle;\n",
       "    }\n",
       "\n",
       "    .dataframe tbody tr th {\n",
       "        vertical-align: top;\n",
       "    }\n",
       "\n",
       "    .dataframe thead th {\n",
       "        text-align: right;\n",
       "    }\n",
       "</style>\n",
       "<table border=\"1\" class=\"dataframe\">\n",
       "  <thead>\n",
       "    <tr style=\"text-align: right;\">\n",
       "      <th></th>\n",
       "      <th>process_step</th>\n",
       "      <th>time_diff_seconds</th>\n",
       "    </tr>\n",
       "  </thead>\n",
       "  <tbody>\n",
       "    <tr>\n",
       "      <th>0</th>\n",
       "      <td>confirm</td>\n",
       "      <td>129.959073</td>\n",
       "    </tr>\n",
       "    <tr>\n",
       "      <th>1</th>\n",
       "      <td>start</td>\n",
       "      <td>174.742134</td>\n",
       "    </tr>\n",
       "    <tr>\n",
       "      <th>2</th>\n",
       "      <td>step_1</td>\n",
       "      <td>43.186201</td>\n",
       "    </tr>\n",
       "    <tr>\n",
       "      <th>3</th>\n",
       "      <td>step_2</td>\n",
       "      <td>38.844172</td>\n",
       "    </tr>\n",
       "    <tr>\n",
       "      <th>4</th>\n",
       "      <td>step_3</td>\n",
       "      <td>94.170056</td>\n",
       "    </tr>\n",
       "  </tbody>\n",
       "</table>\n",
       "</div>"
      ],
      "text/plain": [
       "  process_step  time_diff_seconds\n",
       "0      confirm         129.959073\n",
       "1        start         174.742134\n",
       "2       step_1          43.186201\n",
       "3       step_2          38.844172\n",
       "4       step_3          94.170056"
      ]
     },
     "execution_count": 81,
     "metadata": {},
     "output_type": "execute_result"
    }
   ],
   "source": [
    "# Group by 'process_step' and calculate the average time spent in each step\n",
    "avg_time_per_step = df.groupby('process_step')['time_diff_seconds'].mean().reset_index()\n",
    "avg_time_per_step"
   ]
  },
  {
   "cell_type": "code",
   "execution_count": 83,
   "id": "a2490315-6375-42da-8f4d-56915da447ee",
   "metadata": {},
   "outputs": [],
   "source": [
    "df_time_start= df[df[\"process_step\"]==\"start\"][\"time_diff_seconds\"]\n",
    "df_time_step1= df[df[\"process_step\"]==\"step_1\"][\"time_diff_seconds\"]\n",
    "df_time_step2= df[df[\"process_step\"]==\"step_2\"][\"time_diff_seconds\"]\n",
    "df_time_step3= df[df[\"process_step\"]==\"step_3\"][\"time_diff_seconds\"]\n",
    "df_time_confirm= df[df[\"process_step\"]==\"confirm\"][\"time_diff_seconds\"]"
   ]
  },
  {
   "cell_type": "code",
   "execution_count": 85,
   "id": "dc152c88-dd82-4293-b2b4-3dd7e99e4360",
   "metadata": {},
   "outputs": [
    {
     "data": {
      "text/plain": [
       "TtestResult(statistic=9.541671975575547, pvalue=1.5836709645110198e-21, df=17679.08659357926)"
      ]
     },
     "execution_count": 85,
     "metadata": {},
     "output_type": "execute_result"
    }
   ],
   "source": [
    "#Set the hypothesis\n",
    "\n",
    "#H0: mu_start time control = mu_confirm time control\n",
    "#H1: mu_start time test != mu_confirm time group\n",
    "\n",
    "#significance level = 0.05\n",
    "\n",
    "st.ttest_ind(df_time_start,df_time_confirm, equal_var=False, alternative=\"two-sided\")"
   ]
  },
  {
   "cell_type": "markdown",
   "id": "46d0df0e-5017-4e73-bb0b-5fd6389f501d",
   "metadata": {},
   "source": [
    "## Interpretation:\n",
    "The t-statistic of 9.54 indicates a large difference between the groups (or means being compared).\n",
    "The p-value of \n",
    "1.58\n",
    "×\n",
    "1\n",
    "0\n",
    "−\n",
    "21\n",
    "1.58×10 \n",
    "−21\n",
    "  is extremely small, suggesting that the null hypothesis (no difference) can almost certainly be rejected. This means the result is highly significant statistically.\n",
    "The degrees of freedom of approximately 17,679 suggests that the sample size is quite large.\n",
    "## Conclusion:\n",
    "Based on these results, the difference between the two groups being compared is statistically significant, with a very small probability that this result is due to random chance. You can confidently reject the null hypothesis and conclude that the groups (or conditions) differ in a meaningful way."
   ]
  },
  {
   "cell_type": "code",
   "execution_count": 88,
   "id": "496d0d2b-bf6f-4629-9977-f05cc35d5aa5",
   "metadata": {},
   "outputs": [
    {
     "name": "stdout",
     "output_type": "stream",
     "text": [
      "visit_id\n",
      "100030127_47967100085_936361    0.0\n",
      "100071743_53464757454_616703    0.0\n",
      "100398738_80691628792_341470    0.0\n",
      "10043239_12589390657_342180     0.0\n",
      "100647528_93869859601_746654    0.0\n",
      "                               ... \n",
      "999361543_62254499363_553280    0.0\n",
      "999513613_73210791259_872482    0.0\n",
      "999622448_77471275609_430955    0.0\n",
      "999669588_11693809578_22026     0.0\n",
      "999951892_54774917180_163890    0.0\n",
      "Name: time_diff_seconds, Length: 5667, dtype: float64\n"
     ]
    }
   ],
   "source": [
    "# Filter the visit_id where total time spent is 0.00 seconds\n",
    "zero_time_visits = total_time_per_user_seconds[total_time_per_user_seconds == 0.00]\n",
    "\n",
    "# Display the result\n",
    "print(zero_time_visits)"
   ]
  },
  {
   "cell_type": "code",
   "execution_count": 100,
   "id": "3761acc7-7dfb-4722-8dda-ba5c174ce1dd",
   "metadata": {},
   "outputs": [
    {
     "name": "stdout",
     "output_type": "stream",
     "text": [
      "visit_id\n",
      "795246645_69149507465_313202       61.0\n",
      "243749571_7341374965_63177         61.0\n",
      "911029496_61078509102_959337       61.0\n",
      "855166464_44913906706_757013       61.0\n",
      "142659492_98430385335_762066       61.0\n",
      "                                 ...   \n",
      "548692827_385358773_951099      10163.0\n",
      "627596734_90499955288_891366    11351.0\n",
      "588904389_16165570985_286826    17072.0\n",
      "483738263_4057680487_61869      22895.0\n",
      "831987489_84761163210_335684    41965.0\n",
      "Name: time_diff_seconds, Length: 21783, dtype: float64\n"
     ]
    }
   ],
   "source": [
    "# Filter the visit_id where total time spent is greater than 0.00 seconds\n",
    "positive_time_visits = total_time_per_user_seconds[total_time_per_user_seconds > 60]\n",
    "\n",
    "# Sort the results in ascending order\n",
    "sorted_positive_time_visits = positive_time_visits.sort_values()\n",
    "\n",
    "# Display the result\n",
    "print(sorted_positive_time_visits)"
   ]
  },
  {
   "cell_type": "code",
   "execution_count": 102,
   "id": "17eb272c-2e54-42fa-8b43-e3fde2cfe41e",
   "metadata": {},
   "outputs": [
    {
     "name": "stdout",
     "output_type": "stream",
     "text": [
      "visit_id\n",
      "805125802_31386152205_848457     61.0\n",
      "341867008_72237627856_254153     61.0\n",
      "893033628_33064989240_803510     61.0\n",
      "243749571_7341374965_63177       61.0\n",
      "295330855_85099364273_545655     61.0\n",
      "                                ...  \n",
      "632305734_34095328044_299168    519.0\n",
      "984144087_82979751271_861504    519.0\n",
      "245158227_56218939469_469940    519.0\n",
      "426477072_55789424877_412293    519.0\n",
      "880025264_18311482672_399721    519.0\n",
      "Name: time_diff_seconds, Length: 17186, dtype: float64\n"
     ]
    }
   ],
   "source": [
    "# Filter the visit_id where total time spent is between 60 and 519.60 seconds\n",
    "filtered_visits = total_time_per_user_seconds[(total_time_per_user_seconds > 60) & (total_time_per_user_seconds < 519.60)]\n",
    "\n",
    "# Sort the results in ascending order\n",
    "sorted_filtered_visits = filtered_visits.sort_values()\n",
    "\n",
    "# Display the result\n",
    "print(sorted_filtered_visits)"
   ]
  },
  {
   "cell_type": "code",
   "execution_count": 108,
   "id": "fa82cb29-ac04-4672-bbb1-421432187188",
   "metadata": {},
   "outputs": [
    {
     "name": "stdout",
     "output_type": "stream",
     "text": [
      "29046    946265061_31258158249_512684\n",
      "17934    626140106_55660748234_763451\n",
      "27831    909819300_16166315887_693875\n",
      "4110     218979770_56709644111_553967\n",
      "18967    654700708_51014988677_633115\n",
      "                     ...             \n",
      "10535    409891944_58325073292_104522\n",
      "18144    632305734_34095328044_299168\n",
      "25247     834489877_1354695935_880911\n",
      "9490     378473111_39661873868_477944\n",
      "17141    602075125_40566017690_774906\n",
      "Name: visit_id, Length: 3080, dtype: object\n"
     ]
    }
   ],
   "source": [
    "# Filter the rows where process_duration is less than 8.66\n",
    "filtered_visits = df_filtered[df_filtered['process_duration'] < 8.66]\n",
    "\n",
    "# Sort the filtered DataFrame by 'process_duration' in ascending order\n",
    "sorted_filtered_visits = filtered_visits.sort_values(by='process_duration')\n",
    "\n",
    "# Now, if you want to get the visit_ids sorted by process_duration:\n",
    "visit_ids_sorted = sorted_filtered_visits['visit_id']\n",
    "\n",
    "# Print the sorted visit_ids\n",
    "print(visit_ids_sorted)"
   ]
  },
  {
   "cell_type": "code",
   "execution_count": 110,
   "id": "7ef603b8-eac3-4a07-9684-c4327326d0ff",
   "metadata": {},
   "outputs": [
    {
     "data": {
      "text/html": [
       "<div>\n",
       "<style scoped>\n",
       "    .dataframe tbody tr th:only-of-type {\n",
       "        vertical-align: middle;\n",
       "    }\n",
       "\n",
       "    .dataframe tbody tr th {\n",
       "        vertical-align: top;\n",
       "    }\n",
       "\n",
       "    .dataframe thead th {\n",
       "        text-align: right;\n",
       "    }\n",
       "</style>\n",
       "<table border=\"1\" class=\"dataframe\">\n",
       "  <thead>\n",
       "    <tr style=\"text-align: right;\">\n",
       "      <th></th>\n",
       "      <th>visit_id</th>\n",
       "      <th>start_time</th>\n",
       "      <th>confirm_time</th>\n",
       "      <th>process_duration</th>\n",
       "    </tr>\n",
       "  </thead>\n",
       "  <tbody>\n",
       "    <tr>\n",
       "      <th>29046</th>\n",
       "      <td>946265061_31258158249_512684</td>\n",
       "      <td>2017-03-29 13:37:44</td>\n",
       "      <td>2017-03-29 13:42:55</td>\n",
       "      <td>5.183333</td>\n",
       "    </tr>\n",
       "    <tr>\n",
       "      <th>17934</th>\n",
       "      <td>626140106_55660748234_763451</td>\n",
       "      <td>2017-05-14 13:45:49</td>\n",
       "      <td>2017-05-14 13:51:00</td>\n",
       "      <td>5.183333</td>\n",
       "    </tr>\n",
       "    <tr>\n",
       "      <th>27831</th>\n",
       "      <td>909819300_16166315887_693875</td>\n",
       "      <td>2017-04-05 17:23:37</td>\n",
       "      <td>2017-04-05 17:28:48</td>\n",
       "      <td>5.183333</td>\n",
       "    </tr>\n",
       "    <tr>\n",
       "      <th>4110</th>\n",
       "      <td>218979770_56709644111_553967</td>\n",
       "      <td>2017-04-17 15:39:52</td>\n",
       "      <td>2017-04-17 15:45:03</td>\n",
       "      <td>5.183333</td>\n",
       "    </tr>\n",
       "    <tr>\n",
       "      <th>18967</th>\n",
       "      <td>654700708_51014988677_633115</td>\n",
       "      <td>2017-03-30 13:05:02</td>\n",
       "      <td>2017-03-30 13:10:13</td>\n",
       "      <td>5.183333</td>\n",
       "    </tr>\n",
       "    <tr>\n",
       "      <th>...</th>\n",
       "      <td>...</td>\n",
       "      <td>...</td>\n",
       "      <td>...</td>\n",
       "      <td>...</td>\n",
       "    </tr>\n",
       "    <tr>\n",
       "      <th>10535</th>\n",
       "      <td>409891944_58325073292_104522</td>\n",
       "      <td>2017-04-21 10:39:04</td>\n",
       "      <td>2017-04-21 10:47:43</td>\n",
       "      <td>8.650000</td>\n",
       "    </tr>\n",
       "    <tr>\n",
       "      <th>18144</th>\n",
       "      <td>632305734_34095328044_299168</td>\n",
       "      <td>2017-05-11 06:30:08</td>\n",
       "      <td>2017-05-11 06:38:47</td>\n",
       "      <td>8.650000</td>\n",
       "    </tr>\n",
       "    <tr>\n",
       "      <th>25247</th>\n",
       "      <td>834489877_1354695935_880911</td>\n",
       "      <td>2017-04-15 16:07:00</td>\n",
       "      <td>2017-04-15 16:15:39</td>\n",
       "      <td>8.650000</td>\n",
       "    </tr>\n",
       "    <tr>\n",
       "      <th>9490</th>\n",
       "      <td>378473111_39661873868_477944</td>\n",
       "      <td>2017-04-05 17:27:42</td>\n",
       "      <td>2017-04-05 17:36:21</td>\n",
       "      <td>8.650000</td>\n",
       "    </tr>\n",
       "    <tr>\n",
       "      <th>17141</th>\n",
       "      <td>602075125_40566017690_774906</td>\n",
       "      <td>2017-04-22 08:03:29</td>\n",
       "      <td>2017-04-22 08:12:08</td>\n",
       "      <td>8.650000</td>\n",
       "    </tr>\n",
       "  </tbody>\n",
       "</table>\n",
       "<p>3080 rows × 4 columns</p>\n",
       "</div>"
      ],
      "text/plain": [
       "                           visit_id          start_time        confirm_time  \\\n",
       "29046  946265061_31258158249_512684 2017-03-29 13:37:44 2017-03-29 13:42:55   \n",
       "17934  626140106_55660748234_763451 2017-05-14 13:45:49 2017-05-14 13:51:00   \n",
       "27831  909819300_16166315887_693875 2017-04-05 17:23:37 2017-04-05 17:28:48   \n",
       "4110   218979770_56709644111_553967 2017-04-17 15:39:52 2017-04-17 15:45:03   \n",
       "18967  654700708_51014988677_633115 2017-03-30 13:05:02 2017-03-30 13:10:13   \n",
       "...                             ...                 ...                 ...   \n",
       "10535  409891944_58325073292_104522 2017-04-21 10:39:04 2017-04-21 10:47:43   \n",
       "18144  632305734_34095328044_299168 2017-05-11 06:30:08 2017-05-11 06:38:47   \n",
       "25247   834489877_1354695935_880911 2017-04-15 16:07:00 2017-04-15 16:15:39   \n",
       "9490   378473111_39661873868_477944 2017-04-05 17:27:42 2017-04-05 17:36:21   \n",
       "17141  602075125_40566017690_774906 2017-04-22 08:03:29 2017-04-22 08:12:08   \n",
       "\n",
       "       process_duration  \n",
       "29046          5.183333  \n",
       "17934          5.183333  \n",
       "27831          5.183333  \n",
       "4110           5.183333  \n",
       "18967          5.183333  \n",
       "...                 ...  \n",
       "10535          8.650000  \n",
       "18144          8.650000  \n",
       "25247          8.650000  \n",
       "9490           8.650000  \n",
       "17141          8.650000  \n",
       "\n",
       "[3080 rows x 4 columns]"
      ]
     },
     "execution_count": 110,
     "metadata": {},
     "output_type": "execute_result"
    }
   ],
   "source": [
    "sorted_filtered_visits"
   ]
  },
  {
   "cell_type": "code",
   "execution_count": 182,
   "id": "7dd65531-480d-4b8f-9e44-8740f7eb7cdb",
   "metadata": {},
   "outputs": [
    {
     "name": "stdout",
     "output_type": "stream",
     "text": [
      "       client_id           visitor_id                      visit_id  \\\n",
      "80580    5762741  84208227_6311756212  946265061_31258158249_512684   \n",
      "80579    5762741  84208227_6311756212  946265061_31258158249_512684   \n",
      "80578    5762741  84208227_6311756212  946265061_31258158249_512684   \n",
      "80577    5762741  84208227_6311756212  946265061_31258158249_512684   \n",
      "\n",
      "      process_step           date_time  clnt_tenure_yr  clnt_tenure_mnth  \\\n",
      "80580       step_1 2017-03-29 13:38:04            10.0             122.0   \n",
      "80579       step_2 2017-03-29 13:38:13            10.0             122.0   \n",
      "80578       step_3 2017-03-29 13:40:47            10.0             122.0   \n",
      "80577      confirm 2017-03-29 13:42:55            10.0             122.0   \n",
      "\n",
      "       clnt_age gendr  num_accts       bal  calls_6_mnth  logons_6_mnth  \\\n",
      "80580      33.5     M        2.0  80761.42           1.0            4.0   \n",
      "80579      33.5     M        2.0  80761.42           1.0            4.0   \n",
      "80578      33.5     M        2.0  80761.42           1.0            4.0   \n",
      "80577      33.5     M        2.0  80761.42           1.0            4.0   \n",
      "\n",
      "      Variation next_step  is_step_back       time_diff  time_diff_seconds  \n",
      "80580   Control    step_2         False 0 days 00:00:20               20.0  \n",
      "80579   Control    step_3         False 0 days 00:00:09                9.0  \n",
      "80578   Control   confirm         False 0 days 00:02:34              154.0  \n",
      "80577   Control       NaN         False 0 days 00:02:08              128.0  \n"
     ]
    }
   ],
   "source": [
    "# Assuming you have your DataFrame loaded into a variable called df\n",
    "# Filter the rows where visit_id matches the specific visit_id\n",
    "visit_id_to_check = \"946265061_31258158249_512684\"\n",
    "filter_df = df[df['visit_id'] == visit_id_to_check]\n",
    "\n",
    "# To display the filtered data\n",
    "print(filter_df)"
   ]
  },
  {
   "cell_type": "code",
   "execution_count": 185,
   "id": "b5ff45af-b18f-41f2-994c-fb31e3a792ea",
   "metadata": {},
   "outputs": [],
   "source": [
    "# Export DataFrame to CSV\n",
    "df_filtered.to_csv('control_group_filtered.csv', index=False)"
   ]
  },
  {
   "cell_type": "code",
   "execution_count": null,
   "id": "219ae14b-88d4-4039-9caf-e5e1ea199288",
   "metadata": {},
   "outputs": [],
   "source": []
  }
 ],
 "metadata": {
  "kernelspec": {
   "display_name": "Python 3 (ipykernel)",
   "language": "python",
   "name": "python3"
  },
  "language_info": {
   "codemirror_mode": {
    "name": "ipython",
    "version": 3
   },
   "file_extension": ".py",
   "mimetype": "text/x-python",
   "name": "python",
   "nbconvert_exporter": "python",
   "pygments_lexer": "ipython3",
   "version": "3.12.2"
  }
 },
 "nbformat": 4,
 "nbformat_minor": 5
}
