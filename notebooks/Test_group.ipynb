{
 "cells": [
  {
   "cell_type": "code",
   "execution_count": 7,
   "id": "a0303c7f-f3ad-4791-833c-6a1176a66fc7",
   "metadata": {},
   "outputs": [],
   "source": [
    "import pandas as pd\n",
    "import numpy as np\n",
    "import seaborn as sns\n",
    "import matplotlib.pyplot as plt\n",
    "\n",
    "url = '/Users/amirrezakamkar/Desktop/Works_in_progress/Ironhack/5_5th_week/Project/2nd_project/data/clean/combined_data_test.txt'\n",
    "df = pd.read_csv(url)"
   ]
  },
  {
   "cell_type": "code",
   "execution_count": 66,
   "id": "cbffdee6-bb1a-4009-8cd4-9987eafe0455",
   "metadata": {},
   "outputs": [
    {
     "data": {
      "text/html": [
       "<div>\n",
       "<style scoped>\n",
       "    .dataframe tbody tr th:only-of-type {\n",
       "        vertical-align: middle;\n",
       "    }\n",
       "\n",
       "    .dataframe tbody tr th {\n",
       "        vertical-align: top;\n",
       "    }\n",
       "\n",
       "    .dataframe thead th {\n",
       "        text-align: right;\n",
       "    }\n",
       "</style>\n",
       "<table border=\"1\" class=\"dataframe\">\n",
       "  <thead>\n",
       "    <tr style=\"text-align: right;\">\n",
       "      <th></th>\n",
       "      <th>client_id</th>\n",
       "      <th>visitor_id</th>\n",
       "      <th>visit_id</th>\n",
       "      <th>process_step</th>\n",
       "      <th>date_time</th>\n",
       "      <th>clnt_tenure_yr</th>\n",
       "      <th>clnt_tenure_mnth</th>\n",
       "      <th>clnt_age</th>\n",
       "      <th>gendr</th>\n",
       "      <th>num_accts</th>\n",
       "      <th>bal</th>\n",
       "      <th>calls_6_mnth</th>\n",
       "      <th>logons_6_mnth</th>\n",
       "      <th>Variation</th>\n",
       "      <th>next_step</th>\n",
       "      <th>is_step_back</th>\n",
       "    </tr>\n",
       "  </thead>\n",
       "  <tbody>\n",
       "    <tr>\n",
       "      <th>176639</th>\n",
       "      <td>555</td>\n",
       "      <td>402506806_56087378777</td>\n",
       "      <td>637149525_38041617439_716659</td>\n",
       "      <td>start</td>\n",
       "      <td>2017-04-15 12:57:56</td>\n",
       "      <td>3.0</td>\n",
       "      <td>46.0</td>\n",
       "      <td>29.5</td>\n",
       "      <td>U</td>\n",
       "      <td>2.0</td>\n",
       "      <td>25454.66</td>\n",
       "      <td>2.0</td>\n",
       "      <td>6.0</td>\n",
       "      <td>Test</td>\n",
       "      <td>step_1</td>\n",
       "      <td>False</td>\n",
       "    </tr>\n",
       "    <tr>\n",
       "      <th>176638</th>\n",
       "      <td>555</td>\n",
       "      <td>402506806_56087378777</td>\n",
       "      <td>637149525_38041617439_716659</td>\n",
       "      <td>step_1</td>\n",
       "      <td>2017-04-15 12:58:03</td>\n",
       "      <td>3.0</td>\n",
       "      <td>46.0</td>\n",
       "      <td>29.5</td>\n",
       "      <td>U</td>\n",
       "      <td>2.0</td>\n",
       "      <td>25454.66</td>\n",
       "      <td>2.0</td>\n",
       "      <td>6.0</td>\n",
       "      <td>Test</td>\n",
       "      <td>step_2</td>\n",
       "      <td>False</td>\n",
       "    </tr>\n",
       "    <tr>\n",
       "      <th>176637</th>\n",
       "      <td>555</td>\n",
       "      <td>402506806_56087378777</td>\n",
       "      <td>637149525_38041617439_716659</td>\n",
       "      <td>step_2</td>\n",
       "      <td>2017-04-15 12:58:35</td>\n",
       "      <td>3.0</td>\n",
       "      <td>46.0</td>\n",
       "      <td>29.5</td>\n",
       "      <td>U</td>\n",
       "      <td>2.0</td>\n",
       "      <td>25454.66</td>\n",
       "      <td>2.0</td>\n",
       "      <td>6.0</td>\n",
       "      <td>Test</td>\n",
       "      <td>step_3</td>\n",
       "      <td>False</td>\n",
       "    </tr>\n",
       "    <tr>\n",
       "      <th>176636</th>\n",
       "      <td>555</td>\n",
       "      <td>402506806_56087378777</td>\n",
       "      <td>637149525_38041617439_716659</td>\n",
       "      <td>step_3</td>\n",
       "      <td>2017-04-15 13:00:14</td>\n",
       "      <td>3.0</td>\n",
       "      <td>46.0</td>\n",
       "      <td>29.5</td>\n",
       "      <td>U</td>\n",
       "      <td>2.0</td>\n",
       "      <td>25454.66</td>\n",
       "      <td>2.0</td>\n",
       "      <td>6.0</td>\n",
       "      <td>Test</td>\n",
       "      <td>confirm</td>\n",
       "      <td>False</td>\n",
       "    </tr>\n",
       "    <tr>\n",
       "      <th>176640</th>\n",
       "      <td>555</td>\n",
       "      <td>402506806_56087378777</td>\n",
       "      <td>637149525_38041617439_716659</td>\n",
       "      <td>confirm</td>\n",
       "      <td>2017-04-15 13:00:34</td>\n",
       "      <td>3.0</td>\n",
       "      <td>46.0</td>\n",
       "      <td>29.5</td>\n",
       "      <td>U</td>\n",
       "      <td>2.0</td>\n",
       "      <td>25454.66</td>\n",
       "      <td>2.0</td>\n",
       "      <td>6.0</td>\n",
       "      <td>Test</td>\n",
       "      <td>NaN</td>\n",
       "      <td>False</td>\n",
       "    </tr>\n",
       "  </tbody>\n",
       "</table>\n",
       "</div>"
      ],
      "text/plain": [
       "        client_id             visitor_id                      visit_id  \\\n",
       "176639        555  402506806_56087378777  637149525_38041617439_716659   \n",
       "176638        555  402506806_56087378777  637149525_38041617439_716659   \n",
       "176637        555  402506806_56087378777  637149525_38041617439_716659   \n",
       "176636        555  402506806_56087378777  637149525_38041617439_716659   \n",
       "176640        555  402506806_56087378777  637149525_38041617439_716659   \n",
       "\n",
       "       process_step           date_time  clnt_tenure_yr  clnt_tenure_mnth  \\\n",
       "176639        start 2017-04-15 12:57:56             3.0              46.0   \n",
       "176638       step_1 2017-04-15 12:58:03             3.0              46.0   \n",
       "176637       step_2 2017-04-15 12:58:35             3.0              46.0   \n",
       "176636       step_3 2017-04-15 13:00:14             3.0              46.0   \n",
       "176640      confirm 2017-04-15 13:00:34             3.0              46.0   \n",
       "\n",
       "        clnt_age gendr  num_accts       bal  calls_6_mnth  logons_6_mnth  \\\n",
       "176639      29.5     U        2.0  25454.66           2.0            6.0   \n",
       "176638      29.5     U        2.0  25454.66           2.0            6.0   \n",
       "176637      29.5     U        2.0  25454.66           2.0            6.0   \n",
       "176636      29.5     U        2.0  25454.66           2.0            6.0   \n",
       "176640      29.5     U        2.0  25454.66           2.0            6.0   \n",
       "\n",
       "       Variation next_step  is_step_back  \n",
       "176639      Test    step_1         False  \n",
       "176638      Test    step_2         False  \n",
       "176637      Test    step_3         False  \n",
       "176636      Test   confirm         False  \n",
       "176640      Test       NaN         False  "
      ]
     },
     "execution_count": 66,
     "metadata": {},
     "output_type": "execute_result"
    }
   ],
   "source": [
    "df.head()"
   ]
  },
  {
   "cell_type": "code",
   "execution_count": 87,
   "id": "bfd1471a-3ebe-4d3d-bfa8-7296d4a9132c",
   "metadata": {},
   "outputs": [
    {
     "name": "stdout",
     "output_type": "stream",
     "text": [
      "Total number of steps: 176641\n",
      "Total number of step-back errors: 16248\n",
      "Total error rate: 9.198317%\n"
     ]
    }
   ],
   "source": [
    "# Ensure date_time is in datetime format\n",
    "df['date_time'] = pd.to_datetime(df['date_time'])\n",
    "\n",
    "# Sort by client_id, visit_id, and date_time to ensure chronological order\n",
    "df = df.sort_values(by=['client_id', 'visit_id', 'date_time'])\n",
    "\n",
    "# Define the process steps in the correct order\n",
    "process_order = ['start', 'step_1', 'step_2', 'step_3', 'confirm']\n",
    "\n",
    "# Create a new column that shows the next step\n",
    "df['next_step'] = df.groupby(['client_id', 'visit_id'])['process_step'].shift(-1)\n",
    "\n",
    "# Identify step-back errors\n",
    "df['is_step_back'] = df.apply(\n",
    "    lambda row: process_order.index(row['next_step']) < process_order.index(row['process_step']) \n",
    "    if pd.notnull(row['next_step']) else False, axis=1\n",
    ")\n",
    "\n",
    "# Calculate total steps and total errors\n",
    "total_steps = len(df)  # Total number of rows (steps)\n",
    "total_step_back_errors = df['is_step_back'].sum()  # Sum of step-back errors\n",
    "\n",
    "# Calculate the overall error rate\n",
    "total_error_rate = total_step_back_errors / total_steps * 100\n",
    "\n",
    "print(f\"Total number of steps: {total_steps}\")\n",
    "print(f\"Total number of step-back errors: {total_step_back_errors}\")\n",
    "print(f\"Total error rate: {total_error_rate:.6f}%\")\n",
    "\n"
   ]
  },
  {
   "cell_type": "code",
   "execution_count": 46,
   "id": "55a1a6fc-6bc5-4669-ba80-6d4407b71774",
   "metadata": {},
   "outputs": [
    {
     "name": "stdout",
     "output_type": "stream",
     "text": [
      "Total number of visitors: 37122\n",
      "Number of visitors who reached the 'confirm' step: 21725\n",
      "Completion rate: 58.52%\n"
     ]
    }
   ],
   "source": [
    "# Total number of visitors (unique visit_id)\n",
    "total_visitors = df['visit_id'].nunique()\n",
    "\n",
    "# Number of visitors who reached the 'confirm' step\n",
    "visitors_with_confirm = df[df['process_step'] == 'confirm']['visit_id'].nunique()\n",
    "\n",
    "# Calculate the completion rate\n",
    "completion_rate = (visitors_with_confirm / total_visitors) * 100\n",
    "\n",
    "print(f\"Total number of visitors: {total_visitors}\")\n",
    "print(f\"Number of visitors who reached the 'confirm' step: {visitors_with_confirm}\")\n",
    "print(f\"Completion rate: {completion_rate:.2f}%\")\n"
   ]
  },
  {
   "cell_type": "code",
   "execution_count": 79,
   "id": "25799a5f-7d0a-424d-8c77-31061ff5c4f1",
   "metadata": {},
   "outputs": [
    {
     "name": "stdout",
     "output_type": "stream",
     "text": [
      "The average age of the control group is 48.72221624651129\n"
     ]
    }
   ],
   "source": [
    "test_average_age = df['clnt_age'].mean()\n",
    "print (\"The average age of the control group is\", test_average_age)"
   ]
  },
  {
   "cell_type": "code",
   "execution_count": 83,
   "id": "6b32ae79-21f5-4772-8513-d0d1173a3237",
   "metadata": {},
   "outputs": [
    {
     "name": "stdout",
     "output_type": "stream",
     "text": [
      "The average history of the control group is 12.182024558284883 years\n"
     ]
    }
   ],
   "source": [
    "test_average_history = df['clnt_tenure_yr'].mean()\n",
    "print (\"The average history of the control group is\", test_average_history, \"years\")"
   ]
  },
  {
   "cell_type": "code",
   "execution_count": null,
   "id": "a85bb012-e2b6-4bd5-9d25-fd212b5fd34b",
   "metadata": {},
   "outputs": [],
   "source": []
  },
  {
   "cell_type": "code",
   "execution_count": null,
   "id": "56f3989d-d5b7-4e22-9442-6909c4da44ea",
   "metadata": {},
   "outputs": [],
   "source": []
  }
 ],
 "metadata": {
  "kernelspec": {
   "display_name": "Python 3 (ipykernel)",
   "language": "python",
   "name": "python3"
  },
  "language_info": {
   "codemirror_mode": {
    "name": "ipython",
    "version": 3
   },
   "file_extension": ".py",
   "mimetype": "text/x-python",
   "name": "python",
   "nbconvert_exporter": "python",
   "pygments_lexer": "ipython3",
   "version": "3.12.4"
  }
 },
 "nbformat": 4,
 "nbformat_minor": 5
}
