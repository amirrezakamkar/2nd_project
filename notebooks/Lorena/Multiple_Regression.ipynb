{
 "cells": [
  {
   "cell_type": "code",
   "execution_count": 41,
   "id": "b0dea08a-a707-41d2-b927-ed15c475012d",
   "metadata": {},
   "outputs": [],
   "source": [
    "import pandas as pd\n",
    "import numpy as np\n",
    "import seaborn as sns\n",
    "import matplotlib.pyplot as plt\n",
    "import statsmodels.api as sm"
   ]
  },
  {
   "cell_type": "code",
   "execution_count": 43,
   "id": "9905e44f-8eb8-4c21-950d-3e4dfafb9c27",
   "metadata": {},
   "outputs": [
    {
     "data": {
      "text/plain": [
       "Index(['client_id', 'visitor_id', 'visit_id', 'start_time', 'confirm_time',\n",
       "       'total_time_spent', 'Variation_x', 'clnt_tenure_yr', 'clnt_age',\n",
       "       'num_accts', 'bal', 'calls_6_mnth', 'logons_6_mnth', 'Variation_y',\n",
       "       'gender_dichotomic'],\n",
       "      dtype='object')"
      ]
     },
     "execution_count": 43,
     "metadata": {},
     "output_type": "execute_result"
    }
   ],
   "source": [
    "url = '../../data/clean/df_complete.csv'\n",
    "df_complete = pd.read_csv(url)\n",
    "df_complete.columns"
   ]
  },
  {
   "cell_type": "code",
   "execution_count": 45,
   "id": "a0e73621-e7ea-4184-aa9e-6054bb671ebd",
   "metadata": {},
   "outputs": [
    {
     "name": "stdout",
     "output_type": "stream",
     "text": [
      "                            OLS Regression Results                            \n",
      "==============================================================================\n",
      "Dep. Variable:       total_time_spent   R-squared:                       0.013\n",
      "Model:                            OLS   Adj. R-squared:                  0.012\n",
      "Method:                 Least Squares   F-statistic:                     13.62\n",
      "Date:                Sun, 24 Nov 2024   Prob (F-statistic):           1.28e-17\n",
      "Time:                        19:53:11   Log-Likelihood:                -59124.\n",
      "No. Observations:                7483   AIC:                         1.183e+05\n",
      "Df Residuals:                    7475   BIC:                         1.183e+05\n",
      "Df Model:                           7                                         \n",
      "Covariance Type:            nonrobust                                         \n",
      "=====================================================================================\n",
      "                        coef    std err          t      P>|t|      [0.025      0.975]\n",
      "-------------------------------------------------------------------------------------\n",
      "const               273.6374    112.345      2.436      0.015      53.410     493.865\n",
      "clnt_tenure_yr       -0.6760      1.216     -0.556      0.578      -3.060       1.708\n",
      "clnt_age              4.5339      0.538      8.429      0.000       3.480       5.588\n",
      "num_accts           -40.7184     14.769     -2.757      0.006     -69.669     -11.767\n",
      "bal                1.659e-05   2.31e-05      0.719      0.472   -2.86e-05    6.18e-05\n",
      "calls_6_mnth        -22.6839     34.967     -0.649      0.517     -91.228      45.861\n",
      "logons_6_mnth        17.8093     35.238      0.505      0.613     -51.267      86.886\n",
      "gender_dichotomic    -2.3488     16.982     -0.138      0.890     -35.638      30.940\n",
      "==============================================================================\n",
      "Omnibus:                     8376.668   Durbin-Watson:                   1.994\n",
      "Prob(Omnibus):                  0.000   Jarque-Bera (JB):          1845054.372\n",
      "Skew:                           5.416   Prob(JB):                         0.00\n",
      "Kurtosis:                      79.159   Cond. No.                     6.19e+06\n",
      "==============================================================================\n",
      "\n",
      "Notes:\n",
      "[1] Standard Errors assume that the covariance matrix of the errors is correctly specified.\n",
      "[2] The condition number is large, 6.19e+06. This might indicate that there are\n",
      "strong multicollinearity or other numerical problems.\n"
     ]
    }
   ],
   "source": [
    "# Define the dependent and independent variables\n",
    "X = df_complete[['clnt_tenure_yr', 'clnt_age', 'num_accts', 'bal','calls_6_mnth', 'logons_6_mnth', 'gender_dichotomic']] \n",
    "Y = df_complete['total_time_spent']  # dependent variable\n",
    "\n",
    "# Add a constant to the independent variables (for the intercept term)\n",
    "X = sm.add_constant(X)\n",
    "\n",
    "# Fit the model\n",
    "model = sm.OLS(Y, X).fit()\n",
    "\n",
    "# Print the summary of the model\n",
    "print(model.summary())"
   ]
  },
  {
   "cell_type": "code",
   "execution_count": 47,
   "id": "e3cdc6d5-a033-47d1-b469-4a42c2bdd935",
   "metadata": {},
   "outputs": [
    {
     "data": {
      "text/html": [
       "<div>\n",
       "<style scoped>\n",
       "    .dataframe tbody tr th:only-of-type {\n",
       "        vertical-align: middle;\n",
       "    }\n",
       "\n",
       "    .dataframe tbody tr th {\n",
       "        vertical-align: top;\n",
       "    }\n",
       "\n",
       "    .dataframe thead th {\n",
       "        text-align: right;\n",
       "    }\n",
       "</style>\n",
       "<table border=\"1\" class=\"dataframe\">\n",
       "  <thead>\n",
       "    <tr style=\"text-align: right;\">\n",
       "      <th></th>\n",
       "      <th>client_id</th>\n",
       "      <th>visitor_id</th>\n",
       "      <th>visit_id</th>\n",
       "      <th>start_time</th>\n",
       "      <th>confirm_time</th>\n",
       "      <th>total_time_spent</th>\n",
       "      <th>Variation_x</th>\n",
       "      <th>clnt_tenure_yr</th>\n",
       "      <th>clnt_age</th>\n",
       "      <th>num_accts</th>\n",
       "      <th>bal</th>\n",
       "      <th>calls_6_mnth</th>\n",
       "      <th>logons_6_mnth</th>\n",
       "      <th>Variation_y</th>\n",
       "      <th>gender_dichotomic</th>\n",
       "    </tr>\n",
       "  </thead>\n",
       "  <tbody>\n",
       "    <tr>\n",
       "      <th>557</th>\n",
       "      <td>755076</td>\n",
       "      <td>780004113_76637405470</td>\n",
       "      <td>634631042_68603981172_308188</td>\n",
       "      <td>2017-06-09 01:32:17</td>\n",
       "      <td>2017-06-09 01:41:36</td>\n",
       "      <td>559.0</td>\n",
       "      <td>Control</td>\n",
       "      <td>16.0</td>\n",
       "      <td>36.0</td>\n",
       "      <td>3.0</td>\n",
       "      <td>102668.25</td>\n",
       "      <td>6.0</td>\n",
       "      <td>9.0</td>\n",
       "      <td>Control</td>\n",
       "      <td>1</td>\n",
       "    </tr>\n",
       "  </tbody>\n",
       "</table>\n",
       "</div>"
      ],
      "text/plain": [
       "     client_id             visitor_id                      visit_id  \\\n",
       "557     755076  780004113_76637405470  634631042_68603981172_308188   \n",
       "\n",
       "              start_time         confirm_time  total_time_spent Variation_x  \\\n",
       "557  2017-06-09 01:32:17  2017-06-09 01:41:36             559.0     Control   \n",
       "\n",
       "     clnt_tenure_yr  clnt_age  num_accts        bal  calls_6_mnth  \\\n",
       "557            16.0      36.0        3.0  102668.25           6.0   \n",
       "\n",
       "     logons_6_mnth Variation_y  gender_dichotomic  \n",
       "557            9.0     Control                  1  "
      ]
     },
     "execution_count": 47,
     "metadata": {},
     "output_type": "execute_result"
    }
   ],
   "source": [
    "df_complete[df_complete['client_id'] == 755076]\n",
    "# Good time customer (Control)"
   ]
  },
  {
   "cell_type": "code",
   "execution_count": 49,
   "id": "14774c38-37bc-44cd-9983-b6568b0b507a",
   "metadata": {},
   "outputs": [
    {
     "data": {
      "text/html": [
       "<div>\n",
       "<style scoped>\n",
       "    .dataframe tbody tr th:only-of-type {\n",
       "        vertical-align: middle;\n",
       "    }\n",
       "\n",
       "    .dataframe tbody tr th {\n",
       "        vertical-align: top;\n",
       "    }\n",
       "\n",
       "    .dataframe thead th {\n",
       "        text-align: right;\n",
       "    }\n",
       "</style>\n",
       "<table border=\"1\" class=\"dataframe\">\n",
       "  <thead>\n",
       "    <tr style=\"text-align: right;\">\n",
       "      <th></th>\n",
       "      <th>client_id</th>\n",
       "      <th>visitor_id</th>\n",
       "      <th>visit_id</th>\n",
       "      <th>start_time</th>\n",
       "      <th>confirm_time</th>\n",
       "      <th>total_time_spent</th>\n",
       "      <th>Variation_x</th>\n",
       "      <th>clnt_tenure_yr</th>\n",
       "      <th>clnt_age</th>\n",
       "      <th>num_accts</th>\n",
       "      <th>bal</th>\n",
       "      <th>calls_6_mnth</th>\n",
       "      <th>logons_6_mnth</th>\n",
       "      <th>Variation_y</th>\n",
       "      <th>gender_dichotomic</th>\n",
       "    </tr>\n",
       "  </thead>\n",
       "  <tbody>\n",
       "    <tr>\n",
       "      <th>3424</th>\n",
       "      <td>4647786</td>\n",
       "      <td>3318623_72481547258</td>\n",
       "      <td>391696103_92230204739_479887</td>\n",
       "      <td>2017-04-15 11:07:47</td>\n",
       "      <td>2017-04-15 15:45:20</td>\n",
       "      <td>16653.0</td>\n",
       "      <td>Test</td>\n",
       "      <td>11.0</td>\n",
       "      <td>29.5</td>\n",
       "      <td>3.0</td>\n",
       "      <td>50662.24</td>\n",
       "      <td>1.0</td>\n",
       "      <td>4.0</td>\n",
       "      <td>Test</td>\n",
       "      <td>1</td>\n",
       "    </tr>\n",
       "  </tbody>\n",
       "</table>\n",
       "</div>"
      ],
      "text/plain": [
       "      client_id           visitor_id                      visit_id  \\\n",
       "3424    4647786  3318623_72481547258  391696103_92230204739_479887   \n",
       "\n",
       "               start_time         confirm_time  total_time_spent Variation_x  \\\n",
       "3424  2017-04-15 11:07:47  2017-04-15 15:45:20           16653.0        Test   \n",
       "\n",
       "      clnt_tenure_yr  clnt_age  num_accts       bal  calls_6_mnth  \\\n",
       "3424            11.0      29.5        3.0  50662.24           1.0   \n",
       "\n",
       "      logons_6_mnth Variation_y  gender_dichotomic  \n",
       "3424            4.0        Test                  1  "
      ]
     },
     "execution_count": 49,
     "metadata": {},
     "output_type": "execute_result"
    }
   ],
   "source": [
    "df_complete[df_complete['client_id'] == 4647786]\n",
    "# Worst time customer (Test)"
   ]
  }
 ],
 "metadata": {
  "kernelspec": {
   "display_name": "Python 3 (ipykernel)",
   "language": "python",
   "name": "python3"
  },
  "language_info": {
   "codemirror_mode": {
    "name": "ipython",
    "version": 3
   },
   "file_extension": ".py",
   "mimetype": "text/x-python",
   "name": "python",
   "nbconvert_exporter": "python",
   "pygments_lexer": "ipython3",
   "version": "3.12.2"
  }
 },
 "nbformat": 4,
 "nbformat_minor": 5
}
