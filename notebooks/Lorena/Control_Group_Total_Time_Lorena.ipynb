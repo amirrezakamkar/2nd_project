{
 "cells": [
  {
   "cell_type": "code",
   "execution_count": 4,
   "id": "c62ffb4e-eb2f-4401-9f17-b4181beb9e22",
   "metadata": {},
   "outputs": [],
   "source": [
    "import pandas as pd\n",
    "import numpy as np\n",
    "import seaborn as sns\n",
    "import matplotlib.pyplot as plt\n",
    "%matplotlib inline\n",
    "import statsmodels.api as sm\n",
    "import scipy.stats as st"
   ]
  },
  {
   "cell_type": "code",
   "execution_count": 5,
   "id": "a138387c-1a91-4c5c-afb7-97baeeb9f00d",
   "metadata": {},
   "outputs": [],
   "source": [
    "url = '../../data/clean/combined_data_control.txt'\n",
    "df = pd.read_csv(url)"
   ]
  },
  {
   "cell_type": "code",
   "execution_count": 6,
   "id": "33a6ecb2-df87-4988-b921-f48f6ca36920",
   "metadata": {},
   "outputs": [],
   "source": [
    "# Ensure date_time is in datetime format\n",
    "df['date_time'] = pd.to_datetime(df['date_time'])"
   ]
  },
  {
   "cell_type": "code",
   "execution_count": 7,
   "id": "7dee9938-f870-4ba5-83ef-32d630ac761c",
   "metadata": {},
   "outputs": [],
   "source": [
    "# Sort by client_id, visit_id, and date_time to ensure chronological order\n",
    "df = df.sort_values(by=['client_id',\"visitor_id\", \"visit_id\",'date_time'])"
   ]
  },
  {
   "cell_type": "code",
   "execution_count": 8,
   "id": "b8d464dd-1239-4648-90ad-4ef0eb71287e",
   "metadata": {},
   "outputs": [],
   "source": [
    "# Define the process steps in the correct order\n",
    "process_order = ['start', 'step_1', 'step_2', 'step_3', 'confirm']"
   ]
  },
  {
   "cell_type": "code",
   "execution_count": 9,
   "id": "00758253-88c3-4e6e-8a6b-a3c42c41a034",
   "metadata": {},
   "outputs": [],
   "source": [
    "# Create a new column that shows the next step\n",
    "df['next_step'] = df.groupby(['client_id',\"visitor_id\", \"visit_id\"])['process_step'].shift(-1)"
   ]
  },
  {
   "cell_type": "code",
   "execution_count": 11,
   "id": "f5247c20-f7cc-4abc-8238-299e9e1fa7cc",
   "metadata": {},
   "outputs": [],
   "source": [
    "# Identify step-back errors\n",
    "df['is_step_back'] = df.apply(\n",
    "    lambda row: process_order.index(row['next_step']) < process_order.index(row['process_step']) \n",
    "    if pd.notnull(row['next_step']) else False, axis=1\n",
    ")"
   ]
  },
  {
   "cell_type": "code",
   "execution_count": 14,
   "id": "70bef50f-ba75-4e95-940e-f7646d3e68a8",
   "metadata": {},
   "outputs": [
    {
     "data": {
      "text/plain": [
       "9576"
      ]
     },
     "execution_count": 14,
     "metadata": {},
     "output_type": "execute_result"
    }
   ],
   "source": [
    "# Calculate total steps and total errors\n",
    "total_steps = len(df)  # Total number of rows (steps)\n",
    "total_step_back_errors = df['is_step_back'].sum()  # Sum of step-back errors\n",
    "total_step_back_errors"
   ]
  },
  {
   "cell_type": "code",
   "execution_count": 18,
   "id": "52cdbe9b-0c46-46eb-935f-6b1211ff1a90",
   "metadata": {},
   "outputs": [
    {
     "name": "stdout",
     "output_type": "stream",
     "text": [
      "Total number of steps: 140482\n",
      "Total number of step-back errors: 9576\n",
      "Total error rate: 6.816532%\n"
     ]
    }
   ],
   "source": [
    "# Calculate the overall error rate\n",
    "total_error_rate = total_step_back_errors / total_steps * 100\n",
    "\n",
    "print(f\"Total number of steps: {total_steps}\")\n",
    "print(f\"Total number of step-back errors: {total_step_back_errors}\")\n",
    "print(f\"Total error rate: {total_error_rate:.6f}%\")"
   ]
  },
  {
   "cell_type": "code",
   "execution_count": 19,
   "id": "670ddfeb-cc8d-440e-84cb-6d592fd9b5da",
   "metadata": {},
   "outputs": [],
   "source": [
    "# 1) Filter and get the last 'start' and 'confirm' time for each client\n",
    "start_times = (\n",
    "    df[df['process_step'] == 'start']\n",
    "    .groupby(['client_id', 'visitor_id', 'visit_id'])['date_time']\n",
    "    .first()\n",
    "    .reset_index(name='start_time')\n",
    ")\n",
    "\n",
    "confirm_times = (\n",
    "    df[df['process_step'] == 'confirm']\n",
    "    .groupby(['client_id', 'visitor_id', 'visit_id'])['date_time']\n",
    "    .last()\n",
    "    .reset_index(name='confirm_time')\n",
    ")\n"
   ]
  },
  {
   "cell_type": "code",
   "execution_count": 20,
   "id": "6ab5263c-e8be-423a-8efc-fcb75195016e",
   "metadata": {},
   "outputs": [
    {
     "data": {
      "text/html": [
       "<div>\n",
       "<style scoped>\n",
       "    .dataframe tbody tr th:only-of-type {\n",
       "        vertical-align: middle;\n",
       "    }\n",
       "\n",
       "    .dataframe tbody tr th {\n",
       "        vertical-align: top;\n",
       "    }\n",
       "\n",
       "    .dataframe thead th {\n",
       "        text-align: right;\n",
       "    }\n",
       "</style>\n",
       "<table border=\"1\" class=\"dataframe\">\n",
       "  <thead>\n",
       "    <tr style=\"text-align: right;\">\n",
       "      <th></th>\n",
       "      <th>client_id</th>\n",
       "      <th>visitor_id</th>\n",
       "      <th>visit_id</th>\n",
       "      <th>start_time</th>\n",
       "    </tr>\n",
       "  </thead>\n",
       "  <tbody>\n",
       "    <tr>\n",
       "      <th>0</th>\n",
       "      <td>1028</td>\n",
       "      <td>42237450_62128060588</td>\n",
       "      <td>557292053_87239438319_391157</td>\n",
       "      <td>2017-04-08 18:51:28</td>\n",
       "    </tr>\n",
       "    <tr>\n",
       "      <th>1</th>\n",
       "      <td>1104</td>\n",
       "      <td>194240915_18158000533</td>\n",
       "      <td>543158812_46395476577_767725</td>\n",
       "      <td>2017-06-12 07:49:18</td>\n",
       "    </tr>\n",
       "    <tr>\n",
       "      <th>2</th>\n",
       "      <td>1104</td>\n",
       "      <td>194240915_18158000533</td>\n",
       "      <td>643221571_99977972121_69283</td>\n",
       "      <td>2017-06-20 22:31:33</td>\n",
       "    </tr>\n",
       "    <tr>\n",
       "      <th>3</th>\n",
       "      <td>1186</td>\n",
       "      <td>446844663_31615102958</td>\n",
       "      <td>507052512_11309370126_442139</td>\n",
       "      <td>2017-04-08 15:59:16</td>\n",
       "    </tr>\n",
       "    <tr>\n",
       "      <th>4</th>\n",
       "      <td>1186</td>\n",
       "      <td>446844663_31615102958</td>\n",
       "      <td>795373564_99931517312_810896</td>\n",
       "      <td>2017-04-08 18:05:02</td>\n",
       "    </tr>\n",
       "    <tr>\n",
       "      <th>...</th>\n",
       "      <td>...</td>\n",
       "      <td>...</td>\n",
       "      <td>...</td>\n",
       "      <td>...</td>\n",
       "    </tr>\n",
       "    <tr>\n",
       "      <th>30950</th>\n",
       "      <td>9997470</td>\n",
       "      <td>395791369_55562604618</td>\n",
       "      <td>761490147_96352537762_21814</td>\n",
       "      <td>2017-05-09 15:55:48</td>\n",
       "    </tr>\n",
       "    <tr>\n",
       "      <th>30951</th>\n",
       "      <td>9997470</td>\n",
       "      <td>395791369_55562604618</td>\n",
       "      <td>904791598_9725982898_416914</td>\n",
       "      <td>2017-04-20 20:04:38</td>\n",
       "    </tr>\n",
       "    <tr>\n",
       "      <th>30952</th>\n",
       "      <td>9997470</td>\n",
       "      <td>91394485_75296404278</td>\n",
       "      <td>655572400_94971272893_411965</td>\n",
       "      <td>2017-04-07 16:11:03</td>\n",
       "    </tr>\n",
       "    <tr>\n",
       "      <th>30953</th>\n",
       "      <td>9998346</td>\n",
       "      <td>292425655_16607136645</td>\n",
       "      <td>189177304_69869411700_783154</td>\n",
       "      <td>2017-03-29 15:25:00</td>\n",
       "    </tr>\n",
       "    <tr>\n",
       "      <th>30954</th>\n",
       "      <td>9998921</td>\n",
       "      <td>960034051_85687824805</td>\n",
       "      <td>378424178_59565976155_8051</td>\n",
       "      <td>2017-04-18 11:26:31</td>\n",
       "    </tr>\n",
       "  </tbody>\n",
       "</table>\n",
       "<p>30955 rows × 4 columns</p>\n",
       "</div>"
      ],
      "text/plain": [
       "       client_id             visitor_id                      visit_id  \\\n",
       "0           1028   42237450_62128060588  557292053_87239438319_391157   \n",
       "1           1104  194240915_18158000533  543158812_46395476577_767725   \n",
       "2           1104  194240915_18158000533   643221571_99977972121_69283   \n",
       "3           1186  446844663_31615102958  507052512_11309370126_442139   \n",
       "4           1186  446844663_31615102958  795373564_99931517312_810896   \n",
       "...          ...                    ...                           ...   \n",
       "30950    9997470  395791369_55562604618   761490147_96352537762_21814   \n",
       "30951    9997470  395791369_55562604618   904791598_9725982898_416914   \n",
       "30952    9997470   91394485_75296404278  655572400_94971272893_411965   \n",
       "30953    9998346  292425655_16607136645  189177304_69869411700_783154   \n",
       "30954    9998921  960034051_85687824805    378424178_59565976155_8051   \n",
       "\n",
       "               start_time  \n",
       "0     2017-04-08 18:51:28  \n",
       "1     2017-06-12 07:49:18  \n",
       "2     2017-06-20 22:31:33  \n",
       "3     2017-04-08 15:59:16  \n",
       "4     2017-04-08 18:05:02  \n",
       "...                   ...  \n",
       "30950 2017-05-09 15:55:48  \n",
       "30951 2017-04-20 20:04:38  \n",
       "30952 2017-04-07 16:11:03  \n",
       "30953 2017-03-29 15:25:00  \n",
       "30954 2017-04-18 11:26:31  \n",
       "\n",
       "[30955 rows x 4 columns]"
      ]
     },
     "execution_count": 20,
     "metadata": {},
     "output_type": "execute_result"
    }
   ],
   "source": [
    "start_times\n",
    "# 30,955 rows "
   ]
  },
  {
   "cell_type": "code",
   "execution_count": 21,
   "id": "2ac250a3-5680-4282-82cd-170177ff0bd4",
   "metadata": {},
   "outputs": [
    {
     "data": {
      "text/html": [
       "<div>\n",
       "<style scoped>\n",
       "    .dataframe tbody tr th:only-of-type {\n",
       "        vertical-align: middle;\n",
       "    }\n",
       "\n",
       "    .dataframe tbody tr th {\n",
       "        vertical-align: top;\n",
       "    }\n",
       "\n",
       "    .dataframe thead th {\n",
       "        text-align: right;\n",
       "    }\n",
       "</style>\n",
       "<table border=\"1\" class=\"dataframe\">\n",
       "  <thead>\n",
       "    <tr style=\"text-align: right;\">\n",
       "      <th></th>\n",
       "      <th>client_id</th>\n",
       "      <th>visitor_id</th>\n",
       "      <th>visit_id</th>\n",
       "      <th>confirm_time</th>\n",
       "    </tr>\n",
       "  </thead>\n",
       "  <tbody>\n",
       "    <tr>\n",
       "      <th>0</th>\n",
       "      <td>1195</td>\n",
       "      <td>766842522_69992551638</td>\n",
       "      <td>393817425_39015278493_996341</td>\n",
       "      <td>2017-04-05 20:19:31</td>\n",
       "    </tr>\n",
       "    <tr>\n",
       "      <th>1</th>\n",
       "      <td>1197</td>\n",
       "      <td>753759429_54481946928</td>\n",
       "      <td>71862471_21202285428_848395</td>\n",
       "      <td>2017-04-01 17:17:59</td>\n",
       "    </tr>\n",
       "    <tr>\n",
       "      <th>2</th>\n",
       "      <td>3743</td>\n",
       "      <td>179439784_83920302761</td>\n",
       "      <td>438930656_9173628148_961548</td>\n",
       "      <td>2017-06-16 06:37:04</td>\n",
       "    </tr>\n",
       "    <tr>\n",
       "      <th>3</th>\n",
       "      <td>5354</td>\n",
       "      <td>233679354_36495397627</td>\n",
       "      <td>192604721_14077630095_819213</td>\n",
       "      <td>2017-04-12 20:31:31</td>\n",
       "    </tr>\n",
       "    <tr>\n",
       "      <th>4</th>\n",
       "      <td>6642</td>\n",
       "      <td>378857471_644475492</td>\n",
       "      <td>261034804_26267268728_251909</td>\n",
       "      <td>2017-04-19 12:27:58</td>\n",
       "    </tr>\n",
       "    <tr>\n",
       "      <th>...</th>\n",
       "      <td>...</td>\n",
       "      <td>...</td>\n",
       "      <td>...</td>\n",
       "      <td>...</td>\n",
       "    </tr>\n",
       "    <tr>\n",
       "      <th>16076</th>\n",
       "      <td>9996711</td>\n",
       "      <td>560523684_67875119133</td>\n",
       "      <td>200256953_19881035574_656660</td>\n",
       "      <td>2017-04-21 19:20:47</td>\n",
       "    </tr>\n",
       "    <tr>\n",
       "      <th>16077</th>\n",
       "      <td>9997114</td>\n",
       "      <td>708360389_95473182321</td>\n",
       "      <td>19940015_3197786491_51650</td>\n",
       "      <td>2017-04-14 20:21:31</td>\n",
       "    </tr>\n",
       "    <tr>\n",
       "      <th>16078</th>\n",
       "      <td>9997125</td>\n",
       "      <td>435478449_41974372268</td>\n",
       "      <td>983995660_11938398128_321832</td>\n",
       "      <td>2017-04-16 08:42:33</td>\n",
       "    </tr>\n",
       "    <tr>\n",
       "      <th>16079</th>\n",
       "      <td>9997470</td>\n",
       "      <td>395791369_55562604618</td>\n",
       "      <td>761490147_96352537762_21814</td>\n",
       "      <td>2017-05-09 16:39:34</td>\n",
       "    </tr>\n",
       "    <tr>\n",
       "      <th>16080</th>\n",
       "      <td>9998346</td>\n",
       "      <td>292425655_16607136645</td>\n",
       "      <td>189177304_69869411700_783154</td>\n",
       "      <td>2017-03-29 15:37:28</td>\n",
       "    </tr>\n",
       "  </tbody>\n",
       "</table>\n",
       "<p>16081 rows × 4 columns</p>\n",
       "</div>"
      ],
      "text/plain": [
       "       client_id             visitor_id                      visit_id  \\\n",
       "0           1195  766842522_69992551638  393817425_39015278493_996341   \n",
       "1           1197  753759429_54481946928   71862471_21202285428_848395   \n",
       "2           3743  179439784_83920302761   438930656_9173628148_961548   \n",
       "3           5354  233679354_36495397627  192604721_14077630095_819213   \n",
       "4           6642    378857471_644475492  261034804_26267268728_251909   \n",
       "...          ...                    ...                           ...   \n",
       "16076    9996711  560523684_67875119133  200256953_19881035574_656660   \n",
       "16077    9997114  708360389_95473182321     19940015_3197786491_51650   \n",
       "16078    9997125  435478449_41974372268  983995660_11938398128_321832   \n",
       "16079    9997470  395791369_55562604618   761490147_96352537762_21814   \n",
       "16080    9998346  292425655_16607136645  189177304_69869411700_783154   \n",
       "\n",
       "             confirm_time  \n",
       "0     2017-04-05 20:19:31  \n",
       "1     2017-04-01 17:17:59  \n",
       "2     2017-06-16 06:37:04  \n",
       "3     2017-04-12 20:31:31  \n",
       "4     2017-04-19 12:27:58  \n",
       "...                   ...  \n",
       "16076 2017-04-21 19:20:47  \n",
       "16077 2017-04-14 20:21:31  \n",
       "16078 2017-04-16 08:42:33  \n",
       "16079 2017-05-09 16:39:34  \n",
       "16080 2017-03-29 15:37:28  \n",
       "\n",
       "[16081 rows x 4 columns]"
      ]
     },
     "execution_count": 21,
     "metadata": {},
     "output_type": "execute_result"
    }
   ],
   "source": [
    "confirm_times\n",
    "# 16,081 rows"
   ]
  },
  {
   "cell_type": "code",
   "execution_count": 25,
   "id": "87b90fcc-b54b-40e1-b702-a028c513de3f",
   "metadata": {},
   "outputs": [
    {
     "data": {
      "text/html": [
       "<div>\n",
       "<style scoped>\n",
       "    .dataframe tbody tr th:only-of-type {\n",
       "        vertical-align: middle;\n",
       "    }\n",
       "\n",
       "    .dataframe tbody tr th {\n",
       "        vertical-align: top;\n",
       "    }\n",
       "\n",
       "    .dataframe thead th {\n",
       "        text-align: right;\n",
       "    }\n",
       "</style>\n",
       "<table border=\"1\" class=\"dataframe\">\n",
       "  <thead>\n",
       "    <tr style=\"text-align: right;\">\n",
       "      <th></th>\n",
       "      <th>client_id</th>\n",
       "      <th>visitor_id</th>\n",
       "      <th>visit_id</th>\n",
       "      <th>start_time</th>\n",
       "      <th>confirm_time</th>\n",
       "    </tr>\n",
       "  </thead>\n",
       "  <tbody>\n",
       "    <tr>\n",
       "      <th>0</th>\n",
       "      <td>1195</td>\n",
       "      <td>766842522_69992551638</td>\n",
       "      <td>393817425_39015278493_996341</td>\n",
       "      <td>2017-04-05 20:15:26</td>\n",
       "      <td>2017-04-05 20:19:31</td>\n",
       "    </tr>\n",
       "    <tr>\n",
       "      <th>1</th>\n",
       "      <td>1197</td>\n",
       "      <td>753759429_54481946928</td>\n",
       "      <td>71862471_21202285428_848395</td>\n",
       "      <td>2017-04-01 17:16:24</td>\n",
       "      <td>2017-04-01 17:17:59</td>\n",
       "    </tr>\n",
       "    <tr>\n",
       "      <th>2</th>\n",
       "      <td>3743</td>\n",
       "      <td>179439784_83920302761</td>\n",
       "      <td>438930656_9173628148_961548</td>\n",
       "      <td>2017-06-16 06:32:12</td>\n",
       "      <td>2017-06-16 06:37:04</td>\n",
       "    </tr>\n",
       "    <tr>\n",
       "      <th>3</th>\n",
       "      <td>5354</td>\n",
       "      <td>233679354_36495397627</td>\n",
       "      <td>192604721_14077630095_819213</td>\n",
       "      <td>2017-04-12 20:30:01</td>\n",
       "      <td>2017-04-12 20:31:31</td>\n",
       "    </tr>\n",
       "    <tr>\n",
       "      <th>4</th>\n",
       "      <td>6642</td>\n",
       "      <td>378857471_644475492</td>\n",
       "      <td>261034804_26267268728_251909</td>\n",
       "      <td>2017-04-19 12:20:35</td>\n",
       "      <td>2017-04-19 12:27:58</td>\n",
       "    </tr>\n",
       "    <tr>\n",
       "      <th>...</th>\n",
       "      <td>...</td>\n",
       "      <td>...</td>\n",
       "      <td>...</td>\n",
       "      <td>...</td>\n",
       "      <td>...</td>\n",
       "    </tr>\n",
       "    <tr>\n",
       "      <th>14931</th>\n",
       "      <td>9996711</td>\n",
       "      <td>560523684_67875119133</td>\n",
       "      <td>200256953_19881035574_656660</td>\n",
       "      <td>2017-04-21 19:09:21</td>\n",
       "      <td>2017-04-21 19:20:47</td>\n",
       "    </tr>\n",
       "    <tr>\n",
       "      <th>14932</th>\n",
       "      <td>9997114</td>\n",
       "      <td>708360389_95473182321</td>\n",
       "      <td>19940015_3197786491_51650</td>\n",
       "      <td>2017-04-14 20:16:33</td>\n",
       "      <td>2017-04-14 20:21:31</td>\n",
       "    </tr>\n",
       "    <tr>\n",
       "      <th>14933</th>\n",
       "      <td>9997125</td>\n",
       "      <td>435478449_41974372268</td>\n",
       "      <td>983995660_11938398128_321832</td>\n",
       "      <td>2017-04-16 08:39:35</td>\n",
       "      <td>2017-04-16 08:42:33</td>\n",
       "    </tr>\n",
       "    <tr>\n",
       "      <th>14934</th>\n",
       "      <td>9997470</td>\n",
       "      <td>395791369_55562604618</td>\n",
       "      <td>761490147_96352537762_21814</td>\n",
       "      <td>2017-05-09 15:55:48</td>\n",
       "      <td>2017-05-09 16:39:34</td>\n",
       "    </tr>\n",
       "    <tr>\n",
       "      <th>14935</th>\n",
       "      <td>9998346</td>\n",
       "      <td>292425655_16607136645</td>\n",
       "      <td>189177304_69869411700_783154</td>\n",
       "      <td>2017-03-29 15:25:00</td>\n",
       "      <td>2017-03-29 15:37:28</td>\n",
       "    </tr>\n",
       "  </tbody>\n",
       "</table>\n",
       "<p>14936 rows × 5 columns</p>\n",
       "</div>"
      ],
      "text/plain": [
       "       client_id             visitor_id                      visit_id  \\\n",
       "0           1195  766842522_69992551638  393817425_39015278493_996341   \n",
       "1           1197  753759429_54481946928   71862471_21202285428_848395   \n",
       "2           3743  179439784_83920302761   438930656_9173628148_961548   \n",
       "3           5354  233679354_36495397627  192604721_14077630095_819213   \n",
       "4           6642    378857471_644475492  261034804_26267268728_251909   \n",
       "...          ...                    ...                           ...   \n",
       "14931    9996711  560523684_67875119133  200256953_19881035574_656660   \n",
       "14932    9997114  708360389_95473182321     19940015_3197786491_51650   \n",
       "14933    9997125  435478449_41974372268  983995660_11938398128_321832   \n",
       "14934    9997470  395791369_55562604618   761490147_96352537762_21814   \n",
       "14935    9998346  292425655_16607136645  189177304_69869411700_783154   \n",
       "\n",
       "               start_time        confirm_time  \n",
       "0     2017-04-05 20:15:26 2017-04-05 20:19:31  \n",
       "1     2017-04-01 17:16:24 2017-04-01 17:17:59  \n",
       "2     2017-06-16 06:32:12 2017-06-16 06:37:04  \n",
       "3     2017-04-12 20:30:01 2017-04-12 20:31:31  \n",
       "4     2017-04-19 12:20:35 2017-04-19 12:27:58  \n",
       "...                   ...                 ...  \n",
       "14931 2017-04-21 19:09:21 2017-04-21 19:20:47  \n",
       "14932 2017-04-14 20:16:33 2017-04-14 20:21:31  \n",
       "14933 2017-04-16 08:39:35 2017-04-16 08:42:33  \n",
       "14934 2017-05-09 15:55:48 2017-05-09 16:39:34  \n",
       "14935 2017-03-29 15:25:00 2017-03-29 15:37:28  \n",
       "\n",
       "[14936 rows x 5 columns]"
      ]
     },
     "execution_count": 25,
     "metadata": {},
     "output_type": "execute_result"
    }
   ],
   "source": [
    "# 2) Merge start and confirm times\n",
    "process_times = pd.merge(start_times, confirm_times, on=['client_id', 'visitor_id', 'visit_id'], how='inner')\n",
    "process_times = process_times.dropna()\n",
    "process_times"
   ]
  },
  {
   "cell_type": "code",
   "execution_count": 30,
   "id": "24d61b6f-a2b3-465b-b8bc-c957d9caa69d",
   "metadata": {},
   "outputs": [
    {
     "data": {
      "text/html": [
       "<div>\n",
       "<style scoped>\n",
       "    .dataframe tbody tr th:only-of-type {\n",
       "        vertical-align: middle;\n",
       "    }\n",
       "\n",
       "    .dataframe tbody tr th {\n",
       "        vertical-align: top;\n",
       "    }\n",
       "\n",
       "    .dataframe thead th {\n",
       "        text-align: right;\n",
       "    }\n",
       "</style>\n",
       "<table border=\"1\" class=\"dataframe\">\n",
       "  <thead>\n",
       "    <tr style=\"text-align: right;\">\n",
       "      <th></th>\n",
       "      <th>client_id</th>\n",
       "      <th>visitor_id</th>\n",
       "      <th>visit_id</th>\n",
       "      <th>start_time</th>\n",
       "      <th>confirm_time</th>\n",
       "      <th>total_time_spent</th>\n",
       "    </tr>\n",
       "  </thead>\n",
       "  <tbody>\n",
       "    <tr>\n",
       "      <th>0</th>\n",
       "      <td>1195</td>\n",
       "      <td>766842522_69992551638</td>\n",
       "      <td>393817425_39015278493_996341</td>\n",
       "      <td>2017-04-05 20:15:26</td>\n",
       "      <td>2017-04-05 20:19:31</td>\n",
       "      <td>245.0</td>\n",
       "    </tr>\n",
       "    <tr>\n",
       "      <th>1</th>\n",
       "      <td>1197</td>\n",
       "      <td>753759429_54481946928</td>\n",
       "      <td>71862471_21202285428_848395</td>\n",
       "      <td>2017-04-01 17:16:24</td>\n",
       "      <td>2017-04-01 17:17:59</td>\n",
       "      <td>95.0</td>\n",
       "    </tr>\n",
       "    <tr>\n",
       "      <th>2</th>\n",
       "      <td>3743</td>\n",
       "      <td>179439784_83920302761</td>\n",
       "      <td>438930656_9173628148_961548</td>\n",
       "      <td>2017-06-16 06:32:12</td>\n",
       "      <td>2017-06-16 06:37:04</td>\n",
       "      <td>292.0</td>\n",
       "    </tr>\n",
       "    <tr>\n",
       "      <th>3</th>\n",
       "      <td>5354</td>\n",
       "      <td>233679354_36495397627</td>\n",
       "      <td>192604721_14077630095_819213</td>\n",
       "      <td>2017-04-12 20:30:01</td>\n",
       "      <td>2017-04-12 20:31:31</td>\n",
       "      <td>90.0</td>\n",
       "    </tr>\n",
       "    <tr>\n",
       "      <th>4</th>\n",
       "      <td>6642</td>\n",
       "      <td>378857471_644475492</td>\n",
       "      <td>261034804_26267268728_251909</td>\n",
       "      <td>2017-04-19 12:20:35</td>\n",
       "      <td>2017-04-19 12:27:58</td>\n",
       "      <td>443.0</td>\n",
       "    </tr>\n",
       "    <tr>\n",
       "      <th>...</th>\n",
       "      <td>...</td>\n",
       "      <td>...</td>\n",
       "      <td>...</td>\n",
       "      <td>...</td>\n",
       "      <td>...</td>\n",
       "      <td>...</td>\n",
       "    </tr>\n",
       "    <tr>\n",
       "      <th>14931</th>\n",
       "      <td>9996711</td>\n",
       "      <td>560523684_67875119133</td>\n",
       "      <td>200256953_19881035574_656660</td>\n",
       "      <td>2017-04-21 19:09:21</td>\n",
       "      <td>2017-04-21 19:20:47</td>\n",
       "      <td>686.0</td>\n",
       "    </tr>\n",
       "    <tr>\n",
       "      <th>14932</th>\n",
       "      <td>9997114</td>\n",
       "      <td>708360389_95473182321</td>\n",
       "      <td>19940015_3197786491_51650</td>\n",
       "      <td>2017-04-14 20:16:33</td>\n",
       "      <td>2017-04-14 20:21:31</td>\n",
       "      <td>298.0</td>\n",
       "    </tr>\n",
       "    <tr>\n",
       "      <th>14933</th>\n",
       "      <td>9997125</td>\n",
       "      <td>435478449_41974372268</td>\n",
       "      <td>983995660_11938398128_321832</td>\n",
       "      <td>2017-04-16 08:39:35</td>\n",
       "      <td>2017-04-16 08:42:33</td>\n",
       "      <td>178.0</td>\n",
       "    </tr>\n",
       "    <tr>\n",
       "      <th>14934</th>\n",
       "      <td>9997470</td>\n",
       "      <td>395791369_55562604618</td>\n",
       "      <td>761490147_96352537762_21814</td>\n",
       "      <td>2017-05-09 15:55:48</td>\n",
       "      <td>2017-05-09 16:39:34</td>\n",
       "      <td>2626.0</td>\n",
       "    </tr>\n",
       "    <tr>\n",
       "      <th>14935</th>\n",
       "      <td>9998346</td>\n",
       "      <td>292425655_16607136645</td>\n",
       "      <td>189177304_69869411700_783154</td>\n",
       "      <td>2017-03-29 15:25:00</td>\n",
       "      <td>2017-03-29 15:37:28</td>\n",
       "      <td>748.0</td>\n",
       "    </tr>\n",
       "  </tbody>\n",
       "</table>\n",
       "<p>14936 rows × 6 columns</p>\n",
       "</div>"
      ],
      "text/plain": [
       "       client_id             visitor_id                      visit_id  \\\n",
       "0           1195  766842522_69992551638  393817425_39015278493_996341   \n",
       "1           1197  753759429_54481946928   71862471_21202285428_848395   \n",
       "2           3743  179439784_83920302761   438930656_9173628148_961548   \n",
       "3           5354  233679354_36495397627  192604721_14077630095_819213   \n",
       "4           6642    378857471_644475492  261034804_26267268728_251909   \n",
       "...          ...                    ...                           ...   \n",
       "14931    9996711  560523684_67875119133  200256953_19881035574_656660   \n",
       "14932    9997114  708360389_95473182321     19940015_3197786491_51650   \n",
       "14933    9997125  435478449_41974372268  983995660_11938398128_321832   \n",
       "14934    9997470  395791369_55562604618   761490147_96352537762_21814   \n",
       "14935    9998346  292425655_16607136645  189177304_69869411700_783154   \n",
       "\n",
       "               start_time        confirm_time  total_time_spent  \n",
       "0     2017-04-05 20:15:26 2017-04-05 20:19:31             245.0  \n",
       "1     2017-04-01 17:16:24 2017-04-01 17:17:59              95.0  \n",
       "2     2017-06-16 06:32:12 2017-06-16 06:37:04             292.0  \n",
       "3     2017-04-12 20:30:01 2017-04-12 20:31:31              90.0  \n",
       "4     2017-04-19 12:20:35 2017-04-19 12:27:58             443.0  \n",
       "...                   ...                 ...               ...  \n",
       "14931 2017-04-21 19:09:21 2017-04-21 19:20:47             686.0  \n",
       "14932 2017-04-14 20:16:33 2017-04-14 20:21:31             298.0  \n",
       "14933 2017-04-16 08:39:35 2017-04-16 08:42:33             178.0  \n",
       "14934 2017-05-09 15:55:48 2017-05-09 16:39:34            2626.0  \n",
       "14935 2017-03-29 15:25:00 2017-03-29 15:37:28             748.0  \n",
       "\n",
       "[14936 rows x 6 columns]"
      ]
     },
     "execution_count": 30,
     "metadata": {},
     "output_type": "execute_result"
    }
   ],
   "source": [
    "# 3) Calculate total time spent in seconds\n",
    "process_times['total_time_spent'] = (process_times['confirm_time'] - process_times['start_time']).dt.total_seconds()\n",
    "process_times"
   ]
  },
  {
   "cell_type": "code",
   "execution_count": 32,
   "id": "6f7d07cb-0310-4b5a-886e-e03dc3859073",
   "metadata": {},
   "outputs": [
    {
     "data": {
      "text/plain": [
       "400.02537493304766"
      ]
     },
     "execution_count": 32,
     "metadata": {},
     "output_type": "execute_result"
    }
   ],
   "source": [
    "# Average of time to complete the process (14936 rows)\n",
    "process_times.total_time_spent.mean()"
   ]
  },
  {
   "cell_type": "code",
   "execution_count": 34,
   "id": "94dae5ac-ca62-4d0b-9612-7b2588a17365",
   "metadata": {},
   "outputs": [
    {
     "name": "stdout",
     "output_type": "stream",
     "text": [
      "[   6642    6985    8101 ... 9996711 9997470 9998346]\n"
     ]
    }
   ],
   "source": [
    "# Step 1: Calculate the average process_duration\n",
    "avg_process_duration = process_times['total_time_spent'].mean()\n",
    "\n",
    "# Step 2: Filter the DataFrame to include only rows where process_duration is greater than the average\n",
    "filtered_df = process_times[process_times['total_time_spent'] > avg_process_duration]\n",
    "\n",
    "# Step 3: Get the unique client_ids from the filtered DataFrame\n",
    "clients_above_avg_duration = filtered_df['client_id'].unique()\n",
    "\n",
    "# If you just want to see the client_ids:\n",
    "print(clients_above_avg_duration)"
   ]
  },
  {
   "cell_type": "code",
   "execution_count": 36,
   "id": "f8313007-db16-4c08-b3c9-f55a0e5c20c4",
   "metadata": {},
   "outputs": [
    {
     "data": {
      "text/plain": [
       "17072.0"
      ]
     },
     "execution_count": 36,
     "metadata": {},
     "output_type": "execute_result"
    }
   ],
   "source": [
    "max_duration = filtered_df['total_time_spent'].max()\n",
    "max_duration"
   ]
  },
  {
   "cell_type": "code",
   "execution_count": 38,
   "id": "b04f1e5d-be4e-440a-b693-9b1a1a6f2a99",
   "metadata": {},
   "outputs": [],
   "source": [
    "import matplotlib.pyplot as plt"
   ]
  },
  {
   "cell_type": "code",
   "execution_count": 40,
   "id": "0b096aad-5912-45f4-bc2d-53faf8bd5b62",
   "metadata": {},
   "outputs": [
    {
     "data": {
      "image/png": "[encoded data removed]",
      "text/plain": [
       "<Figure size 640x480 with 1 Axes>"
      ]
     },
     "metadata": {},
     "output_type": "display_data"
    }
   ],
   "source": [
    "# Create a histogram of the 'process_duration' column\n",
    "plt.hist(filtered_df['total_time_spent'], bins=20, color='blue', edgecolor='black')\n",
    "\n",
    "# Add labels and a title\n",
    "plt.xlabel('Process Duration')\n",
    "plt.ylabel('Frequency')\n",
    "plt.title('Histogram of Process Duration')\n",
    "\n",
    "# Display the plot\n",
    "plt.show()"
   ]
  },
  {
   "cell_type": "code",
   "execution_count": 42,
   "id": "9e1dce3d-beb6-4f3b-a17c-13583ebda40a",
   "metadata": {},
   "outputs": [
    {
     "data": {
      "image/png": "[encoded data removed]",
      "text/plain": [
       "<Figure size 640x480 with 1 Axes>"
      ]
     },
     "metadata": {},
     "output_type": "display_data"
    }
   ],
   "source": [
    "# Box plot to visualize the distribution of 'process_duration'\n",
    "sns.boxplot(y=filtered_df['total_time_spent'])\n",
    "\n",
    "# Add title and labels\n",
    "plt.title('Box Plot of Process Duration')\n",
    "plt.xlabel('Process Duration')\n",
    "\n",
    "# Display the plot\n",
    "plt.show()"
   ]
  },
  {
   "cell_type": "code",
   "execution_count": 44,
   "id": "d5ce3de0-6ed4-4b3e-aa12-7e8c414a7821",
   "metadata": {},
   "outputs": [
    {
     "name": "stdout",
     "output_type": "stream",
     "text": [
      "Original data: 140482 rows, Filtered data: 4238 rows\n"
     ]
    }
   ],
   "source": [
    "# Calculate Q1, Q3 and IQR\n",
    "Q1 = filtered_df['total_time_spent'].quantile(0.25)\n",
    "Q3 = filtered_df['total_time_spent'].quantile(0.75)\n",
    "IQR = Q3 - Q1\n",
    "\n",
    "# Define lower and upper bounds\n",
    "lower_bound = Q1 - 1.5 * IQR\n",
    "upper_bound = Q3 + 1.5 * IQR\n",
    "\n",
    "# Filter out outliers\n",
    "df_filtered = filtered_df[(filtered_df['total_time_spent'] >= lower_bound) & (filtered_df['total_time_spent'] <= upper_bound)]\n",
    "\n",
    "# Check the shape of the new dataframe (rows after removing outliers)\n",
    "print(f\"Original data: {df.shape[0]} rows, Filtered data: {df_filtered.shape[0]} rows\")"
   ]
  },
  {
   "cell_type": "code",
   "execution_count": 46,
   "id": "6f184e88-1e16-40ae-8d27-e27cc9179c9b",
   "metadata": {},
   "outputs": [
    {
     "data": {
      "text/html": [
       "<div>\n",
       "<style scoped>\n",
       "    .dataframe tbody tr th:only-of-type {\n",
       "        vertical-align: middle;\n",
       "    }\n",
       "\n",
       "    .dataframe tbody tr th {\n",
       "        vertical-align: top;\n",
       "    }\n",
       "\n",
       "    .dataframe thead th {\n",
       "        text-align: right;\n",
       "    }\n",
       "</style>\n",
       "<table border=\"1\" class=\"dataframe\">\n",
       "  <thead>\n",
       "    <tr style=\"text-align: right;\">\n",
       "      <th></th>\n",
       "      <th>client_id</th>\n",
       "      <th>visitor_id</th>\n",
       "      <th>visit_id</th>\n",
       "      <th>start_time</th>\n",
       "      <th>confirm_time</th>\n",
       "      <th>total_time_spent</th>\n",
       "    </tr>\n",
       "  </thead>\n",
       "  <tbody>\n",
       "    <tr>\n",
       "      <th>4</th>\n",
       "      <td>6642</td>\n",
       "      <td>378857471_644475492</td>\n",
       "      <td>261034804_26267268728_251909</td>\n",
       "      <td>2017-04-19 12:20:35</td>\n",
       "      <td>2017-04-19 12:27:58</td>\n",
       "      <td>443.0</td>\n",
       "    </tr>\n",
       "    <tr>\n",
       "      <th>6</th>\n",
       "      <td>6985</td>\n",
       "      <td>157368510_91928042506</td>\n",
       "      <td>702486929_79839403728_901057</td>\n",
       "      <td>2017-04-16 14:14:20</td>\n",
       "      <td>2017-04-16 14:24:46</td>\n",
       "      <td>626.0</td>\n",
       "    </tr>\n",
       "    <tr>\n",
       "      <th>9</th>\n",
       "      <td>8101</td>\n",
       "      <td>757154552_88739859416</td>\n",
       "      <td>108937428_94918779072_42035</td>\n",
       "      <td>2017-04-10 08:39:29</td>\n",
       "      <td>2017-04-10 08:55:23</td>\n",
       "      <td>954.0</td>\n",
       "    </tr>\n",
       "    <tr>\n",
       "      <th>11</th>\n",
       "      <td>11054</td>\n",
       "      <td>952592414_63731951988</td>\n",
       "      <td>175972021_93800420846_435503</td>\n",
       "      <td>2017-05-16 11:28:36</td>\n",
       "      <td>2017-05-16 11:38:45</td>\n",
       "      <td>609.0</td>\n",
       "    </tr>\n",
       "    <tr>\n",
       "      <th>12</th>\n",
       "      <td>11070</td>\n",
       "      <td>615941288_43248755936</td>\n",
       "      <td>681895519_7554253726_390001</td>\n",
       "      <td>2017-04-06 15:05:20</td>\n",
       "      <td>2017-04-06 15:23:25</td>\n",
       "      <td>1085.0</td>\n",
       "    </tr>\n",
       "    <tr>\n",
       "      <th>...</th>\n",
       "      <td>...</td>\n",
       "      <td>...</td>\n",
       "      <td>...</td>\n",
       "      <td>...</td>\n",
       "      <td>...</td>\n",
       "      <td>...</td>\n",
       "    </tr>\n",
       "    <tr>\n",
       "      <th>14926</th>\n",
       "      <td>9994407</td>\n",
       "      <td>287260289_61350633299</td>\n",
       "      <td>448396755_87385315485_76413</td>\n",
       "      <td>2017-04-23 21:57:03</td>\n",
       "      <td>2017-04-23 22:05:05</td>\n",
       "      <td>482.0</td>\n",
       "    </tr>\n",
       "    <tr>\n",
       "      <th>14927</th>\n",
       "      <td>9995084</td>\n",
       "      <td>814602810_36439951509</td>\n",
       "      <td>549856777_44195886165_496779</td>\n",
       "      <td>2017-04-04 00:22:44</td>\n",
       "      <td>2017-04-04 00:30:29</td>\n",
       "      <td>465.0</td>\n",
       "    </tr>\n",
       "    <tr>\n",
       "      <th>14930</th>\n",
       "      <td>9996404</td>\n",
       "      <td>336369837_4061930799</td>\n",
       "      <td>943539475_90967917948_823342</td>\n",
       "      <td>2017-03-29 11:59:53</td>\n",
       "      <td>2017-03-29 12:23:03</td>\n",
       "      <td>1390.0</td>\n",
       "    </tr>\n",
       "    <tr>\n",
       "      <th>14931</th>\n",
       "      <td>9996711</td>\n",
       "      <td>560523684_67875119133</td>\n",
       "      <td>200256953_19881035574_656660</td>\n",
       "      <td>2017-04-21 19:09:21</td>\n",
       "      <td>2017-04-21 19:20:47</td>\n",
       "      <td>686.0</td>\n",
       "    </tr>\n",
       "    <tr>\n",
       "      <th>14935</th>\n",
       "      <td>9998346</td>\n",
       "      <td>292425655_16607136645</td>\n",
       "      <td>189177304_69869411700_783154</td>\n",
       "      <td>2017-03-29 15:25:00</td>\n",
       "      <td>2017-03-29 15:37:28</td>\n",
       "      <td>748.0</td>\n",
       "    </tr>\n",
       "  </tbody>\n",
       "</table>\n",
       "<p>4238 rows × 6 columns</p>\n",
       "</div>"
      ],
      "text/plain": [
       "       client_id             visitor_id                      visit_id  \\\n",
       "4           6642    378857471_644475492  261034804_26267268728_251909   \n",
       "6           6985  157368510_91928042506  702486929_79839403728_901057   \n",
       "9           8101  757154552_88739859416   108937428_94918779072_42035   \n",
       "11         11054  952592414_63731951988  175972021_93800420846_435503   \n",
       "12         11070  615941288_43248755936   681895519_7554253726_390001   \n",
       "...          ...                    ...                           ...   \n",
       "14926    9994407  287260289_61350633299   448396755_87385315485_76413   \n",
       "14927    9995084  814602810_36439951509  549856777_44195886165_496779   \n",
       "14930    9996404   336369837_4061930799  943539475_90967917948_823342   \n",
       "14931    9996711  560523684_67875119133  200256953_19881035574_656660   \n",
       "14935    9998346  292425655_16607136645  189177304_69869411700_783154   \n",
       "\n",
       "               start_time        confirm_time  total_time_spent  \n",
       "4     2017-04-19 12:20:35 2017-04-19 12:27:58             443.0  \n",
       "6     2017-04-16 14:14:20 2017-04-16 14:24:46             626.0  \n",
       "9     2017-04-10 08:39:29 2017-04-10 08:55:23             954.0  \n",
       "11    2017-05-16 11:28:36 2017-05-16 11:38:45             609.0  \n",
       "12    2017-04-06 15:05:20 2017-04-06 15:23:25            1085.0  \n",
       "...                   ...                 ...               ...  \n",
       "14926 2017-04-23 21:57:03 2017-04-23 22:05:05             482.0  \n",
       "14927 2017-04-04 00:22:44 2017-04-04 00:30:29             465.0  \n",
       "14930 2017-03-29 11:59:53 2017-03-29 12:23:03            1390.0  \n",
       "14931 2017-04-21 19:09:21 2017-04-21 19:20:47             686.0  \n",
       "14935 2017-03-29 15:25:00 2017-03-29 15:37:28             748.0  \n",
       "\n",
       "[4238 rows x 6 columns]"
      ]
     },
     "execution_count": 46,
     "metadata": {},
     "output_type": "execute_result"
    }
   ],
   "source": [
    "df_filtered"
   ]
  },
  {
   "cell_type": "code",
   "execution_count": 48,
   "id": "123659c7-e2f6-4164-9305-287042294dab",
   "metadata": {},
   "outputs": [
    {
     "data": {
      "image/png": "[encoded data removed]",
      "text/plain": [
       "<Figure size 640x480 with 1 Axes>"
      ]
     },
     "metadata": {},
     "output_type": "display_data"
    }
   ],
   "source": [
    "# Box plot to visualize the distribution of 'process_duration'\n",
    "sns.boxplot(x=df_filtered['total_time_spent'])\n",
    "\n",
    "# Add title and labels\n",
    "plt.title('Box Plot of Process Duration')\n",
    "plt.xlabel('Process Duration')\n",
    "\n",
    "# Display the plot\n",
    "plt.show()"
   ]
  },
  {
   "cell_type": "code",
   "execution_count": 50,
   "id": "5ede3b21-475f-4d61-ac45-76c47b2b5457",
   "metadata": {},
   "outputs": [
    {
     "data": {
      "image/png": "[encoded data removed]",
      "text/plain": [
       "<Figure size 640x480 with 1 Axes>"
      ]
     },
     "metadata": {},
     "output_type": "display_data"
    }
   ],
   "source": [
    "# Create a histogram of the 'process_duration' column\n",
    "plt.hist(df_filtered['total_time_spent'], bins=20, color='blue', edgecolor='black')\n",
    "\n",
    "# Add labels and a title\n",
    "plt.xlabel('Process Duration')\n",
    "plt.ylabel('Frequency')\n",
    "plt.title('Histogram of Process Duration')\n",
    "\n",
    "# Display the plot\n",
    "plt.show()"
   ]
  },
  {
   "cell_type": "code",
   "execution_count": 52,
   "id": "2363744a-ba33-4221-9f74-b1cc86a1e4da",
   "metadata": {},
   "outputs": [
    {
     "data": {
      "text/plain": [
       "690.592968381312"
      ]
     },
     "execution_count": 52,
     "metadata": {},
     "output_type": "execute_result"
    }
   ],
   "source": [
    "# Average of time to complete the process 4,977 rows\n",
    "df_filtered.total_time_spent.mean()"
   ]
  },
  {
   "cell_type": "code",
   "execution_count": 54,
   "id": "c5159675-2915-455d-849f-91d7aaf218fd",
   "metadata": {},
   "outputs": [
    {
     "name": "stdout",
     "output_type": "stream",
     "text": [
      "690.592968381312\n",
      "604.0\n",
      "409.0\n"
     ]
    }
   ],
   "source": [
    "# Measures of centrality of the column balance: \n",
    "mean_process_duration = df_filtered[\"total_time_spent\"].mean()\n",
    "median_process_duration = df_filtered['total_time_spent'].median()\n",
    "mode_process_duration = df_filtered['total_time_spent'].mode()[0]\n",
    "print(mean_process_duration)\n",
    "print(median_process_duration)\n",
    "print(mode_process_duration)"
   ]
  },
  {
   "cell_type": "code",
   "execution_count": 56,
   "id": "2fae9bc5-6b43-4dcf-92a7-faa9b3d5ac8c",
   "metadata": {},
   "outputs": [
    {
     "name": "stdout",
     "output_type": "stream",
     "text": [
      "70935.82649763014\n",
      "266.33780523543805\n",
      "401.0\n",
      "1549.0\n",
      "1148.0\n",
      "0.25    482.00\n",
      "0.50    604.00\n",
      "0.75    830.75\n",
      "Name: total_time_spent, dtype: float64\n"
     ]
    }
   ],
   "source": [
    "# Measures of dispersion of the column balance: \n",
    "variance_process_duration = df_filtered['total_time_spent'].var()\n",
    "std_dev_process_duration = df_filtered['total_time_spent'].std()\n",
    "min_process_duration = df_filtered['total_time_spent'].min()\n",
    "max_process_duration = df_filtered['total_time_spent'].max()\n",
    "range_process_duration = max_process_duration - min_process_duration\n",
    "quantiles_process_duration = df_filtered['total_time_spent'].quantile([0.25, 0.5, 0.75])\n",
    "print(variance_process_duration)\n",
    "print(std_dev_process_duration)\n",
    "print(min_process_duration)\n",
    "print(max_process_duration)\n",
    "print(range_process_duration)\n",
    "print(quantiles_process_duration)"
   ]
  },
  {
   "cell_type": "code",
   "execution_count": 58,
   "id": "d8446648-6ab9-453c-8f06-dcbd1ddc502e",
   "metadata": {},
   "outputs": [
    {
     "name": "stdout",
     "output_type": "stream",
     "text": [
      "1.1598693278091452\n",
      "0.6210250702815281\n"
     ]
    }
   ],
   "source": [
    "skewness_process_duration = df_filtered['total_time_spent'].skew()\n",
    "kurtosis_process_duration = df_filtered['total_time_spent'].kurtosis()\n",
    "print(skewness_process_duration)\n",
    "print(kurtosis_process_duration)"
   ]
  },
  {
   "cell_type": "code",
   "execution_count": 60,
   "id": "a509f69a-25d3-44c8-bd2f-229052df5f87",
   "metadata": {},
   "outputs": [
    {
     "data": {
      "text/plain": [
       "8                    NaT\n",
       "7        0 days 00:00:49\n",
       "6        0 days 00:01:03\n",
       "5        0 days 00:00:09\n",
       "4        0 days 00:04:35\n",
       "               ...      \n",
       "140473   0 days 00:00:16\n",
       "140472   0 days 00:00:14\n",
       "140470   0 days 00:07:03\n",
       "140471   0 days 00:00:00\n",
       "140481               NaT\n",
       "Name: time_diff, Length: 140482, dtype: timedelta64[ns]"
      ]
     },
     "execution_count": 60,
     "metadata": {},
     "output_type": "execute_result"
    }
   ],
   "source": [
    "# Calculate the time difference between consecutive steps for each user\n",
    "df['time_diff'] = df.groupby(['client_id', 'visitor_id', 'visit_id'])['date_time'].diff()\n",
    "df['time_diff']"
   ]
  },
  {
   "cell_type": "code",
   "execution_count": 62,
   "id": "8ae8e958-3749-488d-9696-9377540bf1a6",
   "metadata": {},
   "outputs": [
    {
     "data": {
      "text/plain": [
       "8           NaN\n",
       "7          49.0\n",
       "6          63.0\n",
       "5           9.0\n",
       "4         275.0\n",
       "          ...  \n",
       "140473     16.0\n",
       "140472     14.0\n",
       "140470    423.0\n",
       "140471      0.0\n",
       "140481      NaN\n",
       "Name: time_diff_seconds, Length: 140482, dtype: float64"
      ]
     },
     "execution_count": 62,
     "metadata": {},
     "output_type": "execute_result"
    }
   ],
   "source": [
    "df['time_diff_seconds'] = df['time_diff'].dt.total_seconds()\n",
    "df['time_diff_seconds']"
   ]
  },
  {
   "cell_type": "code",
   "execution_count": 68,
   "id": "132480cc-9d46-4543-8ac5-9ae5048d0de5",
   "metadata": {},
   "outputs": [
    {
     "data": {
      "text/plain": [
       "client_id\n",
       "1028        538.0\n",
       "1104          0.0\n",
       "1186         22.0\n",
       "1195        245.0\n",
       "1197         95.0\n",
       "            ...  \n",
       "9997125     178.0\n",
       "9997391     223.0\n",
       "9997470    2626.0\n",
       "9998346     748.0\n",
       "9998921       0.0\n",
       "Name: time_diff_seconds, Length: 23526, dtype: float64"
      ]
     },
     "execution_count": 68,
     "metadata": {},
     "output_type": "execute_result"
    }
   ],
   "source": [
    "total_time_per_user_seconds = df.groupby('client_id')['time_diff_seconds'].sum()\n",
    "total_time_per_user_seconds"
   ]
  },
  {
   "cell_type": "code",
   "execution_count": 70,
   "id": "c48fce51-0ac9-4ab0-b803-42d42ed54726",
   "metadata": {},
   "outputs": [
    {
     "data": {
      "text/plain": [
       "client_id\n",
       "1028        8.966667\n",
       "1104        0.000000\n",
       "1186        0.366667\n",
       "1195        4.083333\n",
       "1197        1.583333\n",
       "             ...    \n",
       "9997125     2.966667\n",
       "9997391     3.716667\n",
       "9997470    43.766667\n",
       "9998346    12.466667\n",
       "9998921     0.000000\n",
       "Name: time_diff_seconds, Length: 23526, dtype: float64"
      ]
     },
     "execution_count": 70,
     "metadata": {},
     "output_type": "execute_result"
    }
   ],
   "source": [
    "# Convert the total time from seconds to a more readable format (e.g., minutes, hours)\n",
    "total_time_per_user_minutes = total_time_per_user_seconds / 60\n",
    "total_time_per_user_hours = total_time_per_user_seconds / 3600\n",
    "total_time_per_user_minutes"
   ]
  },
  {
   "cell_type": "code",
   "execution_count": 72,
   "id": "5ea87cf8-8d87-4787-b3fa-673e77ce2a8f",
   "metadata": {},
   "outputs": [
    {
     "data": {
      "text/plain": [
       "384.3141630536428"
      ]
     },
     "execution_count": 72,
     "metadata": {},
     "output_type": "execute_result"
    }
   ],
   "source": [
    "total_time_per_user_seconds.mean()"
   ]
  },
  {
   "cell_type": "code",
   "execution_count": 74,
   "id": "3328f13b-02b5-463c-818a-adbf93751258",
   "metadata": {},
   "outputs": [
    {
     "data": {
      "text/plain": [
       "6.405236050894047"
      ]
     },
     "execution_count": 74,
     "metadata": {},
     "output_type": "execute_result"
    }
   ],
   "source": [
    "total_time_per_user_minutes.mean()"
   ]
  },
  {
   "cell_type": "code",
   "execution_count": 76,
   "id": "21e8d53b-c063-406c-b9e7-b3f8f51eaf6e",
   "metadata": {},
   "outputs": [
    {
     "data": {
      "text/plain": [
       "0.10675393418156744"
      ]
     },
     "execution_count": 76,
     "metadata": {},
     "output_type": "execute_result"
    }
   ],
   "source": [
    "total_time_per_user_hours.mean()"
   ]
  },
  {
   "cell_type": "code",
   "execution_count": 78,
   "id": "72be039b-3dcc-4b05-8f94-bd32ee212217",
   "metadata": {},
   "outputs": [],
   "source": [
    "df = df.dropna(subset=['time_diff_seconds'])"
   ]
  },
  {
   "cell_type": "code",
   "execution_count": 80,
   "id": "eb6b7464-64be-4207-9c5d-3eabf19ba9c1",
   "metadata": {},
   "outputs": [
    {
     "data": {
      "text/plain": [
       "83.52540948017035"
      ]
     },
     "execution_count": 80,
     "metadata": {},
     "output_type": "execute_result"
    }
   ],
   "source": [
    "df.time_diff_seconds.mean()"
   ]
  },
  {
   "cell_type": "code",
   "execution_count": 82,
   "id": "345aac94-5834-4859-8a7a-731799bfe565",
   "metadata": {},
   "outputs": [
    {
     "data": {
      "text/html": [
       "<div>\n",
       "<style scoped>\n",
       "    .dataframe tbody tr th:only-of-type {\n",
       "        vertical-align: middle;\n",
       "    }\n",
       "\n",
       "    .dataframe tbody tr th {\n",
       "        vertical-align: top;\n",
       "    }\n",
       "\n",
       "    .dataframe thead th {\n",
       "        text-align: right;\n",
       "    }\n",
       "</style>\n",
       "<table border=\"1\" class=\"dataframe\">\n",
       "  <thead>\n",
       "    <tr style=\"text-align: right;\">\n",
       "      <th></th>\n",
       "      <th>process_step</th>\n",
       "      <th>time_diff_seconds</th>\n",
       "    </tr>\n",
       "  </thead>\n",
       "  <tbody>\n",
       "    <tr>\n",
       "      <th>0</th>\n",
       "      <td>confirm</td>\n",
       "      <td>129.959073</td>\n",
       "    </tr>\n",
       "    <tr>\n",
       "      <th>1</th>\n",
       "      <td>start</td>\n",
       "      <td>174.742134</td>\n",
       "    </tr>\n",
       "    <tr>\n",
       "      <th>2</th>\n",
       "      <td>step_1</td>\n",
       "      <td>43.186201</td>\n",
       "    </tr>\n",
       "    <tr>\n",
       "      <th>3</th>\n",
       "      <td>step_2</td>\n",
       "      <td>38.844172</td>\n",
       "    </tr>\n",
       "    <tr>\n",
       "      <th>4</th>\n",
       "      <td>step_3</td>\n",
       "      <td>94.170056</td>\n",
       "    </tr>\n",
       "  </tbody>\n",
       "</table>\n",
       "</div>"
      ],
      "text/plain": [
       "  process_step  time_diff_seconds\n",
       "0      confirm         129.959073\n",
       "1        start         174.742134\n",
       "2       step_1          43.186201\n",
       "3       step_2          38.844172\n",
       "4       step_3          94.170056"
      ]
     },
     "execution_count": 82,
     "metadata": {},
     "output_type": "execute_result"
    }
   ],
   "source": [
    "# Group by 'process_step' and calculate the average time spent in each step\n",
    "avg_time_per_step = df.groupby('process_step')['time_diff_seconds'].mean().reset_index()\n",
    "avg_time_per_step"
   ]
  },
  {
   "cell_type": "code",
   "execution_count": 84,
   "id": "a2490315-6375-42da-8f4d-56915da447ee",
   "metadata": {},
   "outputs": [],
   "source": [
    "df_time_start= df[df[\"process_step\"]==\"start\"][\"time_diff_seconds\"]\n",
    "df_time_step1= df[df[\"process_step\"]==\"step_1\"][\"time_diff_seconds\"]\n",
    "df_time_step2= df[df[\"process_step\"]==\"step_2\"][\"time_diff_seconds\"]\n",
    "df_time_step3= df[df[\"process_step\"]==\"step_3\"][\"time_diff_seconds\"]\n",
    "df_time_confirm= df[df[\"process_step\"]==\"confirm\"][\"time_diff_seconds\"]"
   ]
  },
  {
   "cell_type": "code",
   "execution_count": 86,
   "id": "dc152c88-dd82-4293-b2b4-3dd7e99e4360",
   "metadata": {},
   "outputs": [
    {
     "data": {
      "text/plain": [
       "TtestResult(statistic=9.541671975575547, pvalue=1.5836709645110198e-21, df=17679.08659357926)"
      ]
     },
     "execution_count": 86,
     "metadata": {},
     "output_type": "execute_result"
    }
   ],
   "source": [
    "#Set the hypothesis\n",
    "\n",
    "#H0: mu_start time control = mu_confirm time control\n",
    "#H1: mu_start time test != mu_confirm time group\n",
    "\n",
    "#significance level = 0.05\n",
    "\n",
    "st.ttest_ind(df_time_start,df_time_confirm, equal_var=False, alternative=\"two-sided\")"
   ]
  },
  {
   "cell_type": "markdown",
   "id": "46d0df0e-5017-4e73-bb0b-5fd6389f501d",
   "metadata": {},
   "source": [
    "## Interpretation:\n",
    "The t-statistic of 9.54 indicates a large difference between the groups (or means being compared).\n",
    "The p-value of \n",
    "1.58\n",
    "×\n",
    "1\n",
    "0\n",
    "−\n",
    "21\n",
    "1.58×10 \n",
    "−21\n",
    "  is extremely small, suggesting that the null hypothesis (no difference) can almost certainly be rejected. This means the result is highly significant statistically.\n",
    "The degrees of freedom of approximately 17,679 suggests that the sample size is quite large.\n",
    "## Conclusion:\n",
    "Based on these results, the difference between the two groups being compared is statistically significant, with a very small probability that this result is due to random chance. You can confidently reject the null hypothesis and conclude that the groups (or conditions) differ in a meaningful way."
   ]
  },
  {
   "cell_type": "code",
   "execution_count": 88,
   "id": "496d0d2b-bf6f-4629-9977-f05cc35d5aa5",
   "metadata": {},
   "outputs": [
    {
     "name": "stdout",
     "output_type": "stream",
     "text": [
      "visit_id\n",
      "100030127_47967100085_936361    0.0\n",
      "100071743_53464757454_616703    0.0\n",
      "100398738_80691628792_341470    0.0\n",
      "10043239_12589390657_342180     0.0\n",
      "100647528_93869859601_746654    0.0\n",
      "                               ... \n",
      "999361543_62254499363_553280    0.0\n",
      "999513613_73210791259_872482    0.0\n",
      "999622448_77471275609_430955    0.0\n",
      "999669588_11693809578_22026     0.0\n",
      "999951892_54774917180_163890    0.0\n",
      "Name: time_diff_seconds, Length: 5667, dtype: float64\n"
     ]
    }
   ],
   "source": [
    "# Filter the visit_id where total time spent is 0.00 seconds\n",
    "zero_time_visits = total_time_per_user_seconds[total_time_per_user_seconds == 0.00]\n",
    "\n",
    "# Display the result\n",
    "print(zero_time_visits)"
   ]
  },
  {
   "cell_type": "code",
   "execution_count": 100,
   "id": "3761acc7-7dfb-4722-8dda-ba5c174ce1dd",
   "metadata": {},
   "outputs": [
    {
     "name": "stdout",
     "output_type": "stream",
     "text": [
      "visit_id\n",
      "795246645_69149507465_313202       61.0\n",
      "243749571_7341374965_63177         61.0\n",
      "911029496_61078509102_959337       61.0\n",
      "855166464_44913906706_757013       61.0\n",
      "142659492_98430385335_762066       61.0\n",
      "                                 ...   \n",
      "548692827_385358773_951099      10163.0\n",
      "627596734_90499955288_891366    11351.0\n",
      "588904389_16165570985_286826    17072.0\n",
      "483738263_4057680487_61869      22895.0\n",
      "831987489_84761163210_335684    41965.0\n",
      "Name: time_diff_seconds, Length: 21783, dtype: float64\n"
     ]
    }
   ],
   "source": [
    "# Filter the visit_id where total time spent is greater than 0.00 seconds\n",
    "positive_time_visits = total_time_per_user_seconds[total_time_per_user_seconds > 60]\n",
    "\n",
    "# Sort the results in ascending order\n",
    "sorted_positive_time_visits = positive_time_visits.sort_values()\n",
    "\n",
    "# Display the result\n",
    "print(sorted_positive_time_visits)"
   ]
  },
  {
   "cell_type": "code",
   "execution_count": 102,
   "id": "17eb272c-2e54-42fa-8b43-e3fde2cfe41e",
   "metadata": {},
   "outputs": [
    {
     "name": "stdout",
     "output_type": "stream",
     "text": [
      "visit_id\n",
      "805125802_31386152205_848457     61.0\n",
      "341867008_72237627856_254153     61.0\n",
      "893033628_33064989240_803510     61.0\n",
      "243749571_7341374965_63177       61.0\n",
      "295330855_85099364273_545655     61.0\n",
      "                                ...  \n",
      "632305734_34095328044_299168    519.0\n",
      "984144087_82979751271_861504    519.0\n",
      "245158227_56218939469_469940    519.0\n",
      "426477072_55789424877_412293    519.0\n",
      "880025264_18311482672_399721    519.0\n",
      "Name: time_diff_seconds, Length: 17186, dtype: float64\n"
     ]
    }
   ],
   "source": [
    "# Filter the visit_id where total time spent is between 60 and 519.60 seconds\n",
    "filtered_visits = total_time_per_user_seconds[(total_time_per_user_seconds > 60) & (total_time_per_user_seconds < 519.60)]\n",
    "\n",
    "# Sort the results in ascending order\n",
    "sorted_filtered_visits = filtered_visits.sort_values()\n",
    "\n",
    "# Display the result\n",
    "print(sorted_filtered_visits)"
   ]
  },
  {
   "cell_type": "code",
   "execution_count": 108,
   "id": "fa82cb29-ac04-4672-bbb1-421432187188",
   "metadata": {},
   "outputs": [
    {
     "name": "stdout",
     "output_type": "stream",
     "text": [
      "29046    946265061_31258158249_512684\n",
      "17934    626140106_55660748234_763451\n",
      "27831    909819300_16166315887_693875\n",
      "4110     218979770_56709644111_553967\n",
      "18967    654700708_51014988677_633115\n",
      "                     ...             \n",
      "10535    409891944_58325073292_104522\n",
      "18144    632305734_34095328044_299168\n",
      "25247     834489877_1354695935_880911\n",
      "9490     378473111_39661873868_477944\n",
      "17141    602075125_40566017690_774906\n",
      "Name: visit_id, Length: 3080, dtype: object\n"
     ]
    }
   ],
   "source": [
    "# Filter the rows where process_duration is less than 8.66 minutes \n",
    "filtered_visits = df_filtered[df_filtered['process_duration'] < 8.66]\n",
    "\n",
    "# Sort the filtered DataFrame by 'process_duration' in ascending order\n",
    "sorted_filtered_visits = filtered_visits.sort_values(by='process_duration')\n",
    "\n",
    "# Now, if you want to get the visit_ids sorted by process_duration:\n",
    "visit_ids_sorted = sorted_filtered_visits['visit_id']\n",
    "\n",
    "# Print the sorted visit_ids\n",
    "print(visit_ids_sorted)"
   ]
  },
  {
   "cell_type": "code",
   "execution_count": 110,
   "id": "7ef603b8-eac3-4a07-9684-c4327326d0ff",
   "metadata": {},
   "outputs": [
    {
     "data": {
      "text/html": [
       "<div>\n",
       "<style scoped>\n",
       "    .dataframe tbody tr th:only-of-type {\n",
       "        vertical-align: middle;\n",
       "    }\n",
       "\n",
       "    .dataframe tbody tr th {\n",
       "        vertical-align: top;\n",
       "    }\n",
       "\n",
       "    .dataframe thead th {\n",
       "        text-align: right;\n",
       "    }\n",
       "</style>\n",
       "<table border=\"1\" class=\"dataframe\">\n",
       "  <thead>\n",
       "    <tr style=\"text-align: right;\">\n",
       "      <th></th>\n",
       "      <th>visit_id</th>\n",
       "      <th>start_time</th>\n",
       "      <th>confirm_time</th>\n",
       "      <th>process_duration</th>\n",
       "    </tr>\n",
       "  </thead>\n",
       "  <tbody>\n",
       "    <tr>\n",
       "      <th>29046</th>\n",
       "      <td>946265061_31258158249_512684</td>\n",
       "      <td>2017-03-29 13:37:44</td>\n",
       "      <td>2017-03-29 13:42:55</td>\n",
       "      <td>5.183333</td>\n",
       "    </tr>\n",
       "    <tr>\n",
       "      <th>17934</th>\n",
       "      <td>626140106_55660748234_763451</td>\n",
       "      <td>2017-05-14 13:45:49</td>\n",
       "      <td>2017-05-14 13:51:00</td>\n",
       "      <td>5.183333</td>\n",
       "    </tr>\n",
       "    <tr>\n",
       "      <th>27831</th>\n",
       "      <td>909819300_16166315887_693875</td>\n",
       "      <td>2017-04-05 17:23:37</td>\n",
       "      <td>2017-04-05 17:28:48</td>\n",
       "      <td>5.183333</td>\n",
       "    </tr>\n",
       "    <tr>\n",
       "      <th>4110</th>\n",
       "      <td>218979770_56709644111_553967</td>\n",
       "      <td>2017-04-17 15:39:52</td>\n",
       "      <td>2017-04-17 15:45:03</td>\n",
       "      <td>5.183333</td>\n",
       "    </tr>\n",
       "    <tr>\n",
       "      <th>18967</th>\n",
       "      <td>654700708_51014988677_633115</td>\n",
       "      <td>2017-03-30 13:05:02</td>\n",
       "      <td>2017-03-30 13:10:13</td>\n",
       "      <td>5.183333</td>\n",
       "    </tr>\n",
       "    <tr>\n",
       "      <th>...</th>\n",
       "      <td>...</td>\n",
       "      <td>...</td>\n",
       "      <td>...</td>\n",
       "      <td>...</td>\n",
       "    </tr>\n",
       "    <tr>\n",
       "      <th>10535</th>\n",
       "      <td>409891944_58325073292_104522</td>\n",
       "      <td>2017-04-21 10:39:04</td>\n",
       "      <td>2017-04-21 10:47:43</td>\n",
       "      <td>8.650000</td>\n",
       "    </tr>\n",
       "    <tr>\n",
       "      <th>18144</th>\n",
       "      <td>632305734_34095328044_299168</td>\n",
       "      <td>2017-05-11 06:30:08</td>\n",
       "      <td>2017-05-11 06:38:47</td>\n",
       "      <td>8.650000</td>\n",
       "    </tr>\n",
       "    <tr>\n",
       "      <th>25247</th>\n",
       "      <td>834489877_1354695935_880911</td>\n",
       "      <td>2017-04-15 16:07:00</td>\n",
       "      <td>2017-04-15 16:15:39</td>\n",
       "      <td>8.650000</td>\n",
       "    </tr>\n",
       "    <tr>\n",
       "      <th>9490</th>\n",
       "      <td>378473111_39661873868_477944</td>\n",
       "      <td>2017-04-05 17:27:42</td>\n",
       "      <td>2017-04-05 17:36:21</td>\n",
       "      <td>8.650000</td>\n",
       "    </tr>\n",
       "    <tr>\n",
       "      <th>17141</th>\n",
       "      <td>602075125_40566017690_774906</td>\n",
       "      <td>2017-04-22 08:03:29</td>\n",
       "      <td>2017-04-22 08:12:08</td>\n",
       "      <td>8.650000</td>\n",
       "    </tr>\n",
       "  </tbody>\n",
       "</table>\n",
       "<p>3080 rows × 4 columns</p>\n",
       "</div>"
      ],
      "text/plain": [
       "                           visit_id          start_time        confirm_time  \\\n",
       "29046  946265061_31258158249_512684 2017-03-29 13:37:44 2017-03-29 13:42:55   \n",
       "17934  626140106_55660748234_763451 2017-05-14 13:45:49 2017-05-14 13:51:00   \n",
       "27831  909819300_16166315887_693875 2017-04-05 17:23:37 2017-04-05 17:28:48   \n",
       "4110   218979770_56709644111_553967 2017-04-17 15:39:52 2017-04-17 15:45:03   \n",
       "18967  654700708_51014988677_633115 2017-03-30 13:05:02 2017-03-30 13:10:13   \n",
       "...                             ...                 ...                 ...   \n",
       "10535  409891944_58325073292_104522 2017-04-21 10:39:04 2017-04-21 10:47:43   \n",
       "18144  632305734_34095328044_299168 2017-05-11 06:30:08 2017-05-11 06:38:47   \n",
       "25247   834489877_1354695935_880911 2017-04-15 16:07:00 2017-04-15 16:15:39   \n",
       "9490   378473111_39661873868_477944 2017-04-05 17:27:42 2017-04-05 17:36:21   \n",
       "17141  602075125_40566017690_774906 2017-04-22 08:03:29 2017-04-22 08:12:08   \n",
       "\n",
       "       process_duration  \n",
       "29046          5.183333  \n",
       "17934          5.183333  \n",
       "27831          5.183333  \n",
       "4110           5.183333  \n",
       "18967          5.183333  \n",
       "...                 ...  \n",
       "10535          8.650000  \n",
       "18144          8.650000  \n",
       "25247          8.650000  \n",
       "9490           8.650000  \n",
       "17141          8.650000  \n",
       "\n",
       "[3080 rows x 4 columns]"
      ]
     },
     "execution_count": 110,
     "metadata": {},
     "output_type": "execute_result"
    }
   ],
   "source": [
    "sorted_filtered_visits"
   ]
  },
  {
   "cell_type": "code",
   "execution_count": 182,
   "id": "7dd65531-480d-4b8f-9e44-8740f7eb7cdb",
   "metadata": {},
   "outputs": [
    {
     "name": "stdout",
     "output_type": "stream",
     "text": [
      "       client_id           visitor_id                      visit_id  \\\n",
      "80580    5762741  84208227_6311756212  946265061_31258158249_512684   \n",
      "80579    5762741  84208227_6311756212  946265061_31258158249_512684   \n",
      "80578    5762741  84208227_6311756212  946265061_31258158249_512684   \n",
      "80577    5762741  84208227_6311756212  946265061_31258158249_512684   \n",
      "\n",
      "      process_step           date_time  clnt_tenure_yr  clnt_tenure_mnth  \\\n",
      "80580       step_1 2017-03-29 13:38:04            10.0             122.0   \n",
      "80579       step_2 2017-03-29 13:38:13            10.0             122.0   \n",
      "80578       step_3 2017-03-29 13:40:47            10.0             122.0   \n",
      "80577      confirm 2017-03-29 13:42:55            10.0             122.0   \n",
      "\n",
      "       clnt_age gendr  num_accts       bal  calls_6_mnth  logons_6_mnth  \\\n",
      "80580      33.5     M        2.0  80761.42           1.0            4.0   \n",
      "80579      33.5     M        2.0  80761.42           1.0            4.0   \n",
      "80578      33.5     M        2.0  80761.42           1.0            4.0   \n",
      "80577      33.5     M        2.0  80761.42           1.0            4.0   \n",
      "\n",
      "      Variation next_step  is_step_back       time_diff  time_diff_seconds  \n",
      "80580   Control    step_2         False 0 days 00:00:20               20.0  \n",
      "80579   Control    step_3         False 0 days 00:00:09                9.0  \n",
      "80578   Control   confirm         False 0 days 00:02:34              154.0  \n",
      "80577   Control       NaN         False 0 days 00:02:08              128.0  \n"
     ]
    }
   ],
   "source": [
    "# Assuming you have your DataFrame loaded into a variable called df\n",
    "# Filter the rows where visit_id matches the specific visit_id\n",
    "visit_id_to_check = \"946265061_31258158249_512684\"\n",
    "filter_df = df[df['visit_id'] == visit_id_to_check]\n",
    "\n",
    "# To display the filtered data\n",
    "print(filter_df)"
   ]
  },
  {
   "cell_type": "code",
   "execution_count": 185,
   "id": "b5ff45af-b18f-41f2-994c-fb31e3a792ea",
   "metadata": {},
   "outputs": [],
   "source": [
    "# Export DataFrame to CSV\n",
    "df_filtered.to_csv('control_group_filtered.csv', index=False)"
   ]
  },
  {
   "cell_type": "code",
   "execution_count": null,
   "id": "219ae14b-88d4-4039-9caf-e5e1ea199288",
   "metadata": {},
   "outputs": [],
   "source": []
  }
 ],
 "metadata": {
  "kernelspec": {
   "display_name": "Python 3 (ipykernel)",
   "language": "python",
   "name": "python3"
  },
  "language_info": {
   "codemirror_mode": {
    "name": "ipython",
    "version": 3
   },
   "file_extension": ".py",
   "mimetype": "text/x-python",
   "name": "python",
   "nbconvert_exporter": "python",
   "pygments_lexer": "ipython3",
   "version": "3.12.2"
  }
 },
 "nbformat": 4,
 "nbformat_minor": 5
}
