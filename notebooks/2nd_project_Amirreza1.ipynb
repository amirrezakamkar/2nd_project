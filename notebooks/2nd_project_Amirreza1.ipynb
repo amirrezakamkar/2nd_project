{
 "cells": [
  {
   "cell_type": "code",
   "execution_count": null,
   "id": "b65e1629-0a8a-4a5b-831b-20600a6a7c79",
   "metadata": {},
   "outputs": [],
   "source": [
    "import pandas as pd\n",
    "import numpy as np\n",
    "import seaborn as sns\n",
    "import matplotlib.pyplot as plt"
   ]
  },
  {
   "cell_type": "code",
   "execution_count": null,
   "id": "46acd3a3-cf8e-489d-9666-aed77c23fdc2",
   "metadata": {},
   "outputs": [],
   "source": [
    "url1 = '/Users/amirrezakamkar/Desktop/Works_in_progress/Ironhack/5_5th_week/Project/2nd_project/data/df_final_web_data_pt_1.txt'\n",
    "url2 = '/Users/amirrezakamkar/Desktop/Works_in_progress/Ironhack/5_5th_week/Project/2nd_project/data/df_final_web_data_pt_2.txt'"
   ]
  },
  {
   "cell_type": "code",
   "execution_count": null,
   "id": "889629f4-d85e-439f-bb65-325ee16107fe",
   "metadata": {},
   "outputs": [],
   "source": [
    "df1 = pd.read_csv(url1)\n",
    "df2 = pd.read_csv(url2)"
   ]
  },
  {
   "cell_type": "code",
   "execution_count": null,
   "id": "b8ea7603-b6ee-47e2-a5ce-2de772f680c9",
   "metadata": {},
   "outputs": [],
   "source": [
    "df1.shape"
   ]
  },
  {
   "cell_type": "code",
   "execution_count": null,
   "id": "4620beda-403d-42c9-b78c-c17bf77b8b97",
   "metadata": {},
   "outputs": [],
   "source": [
    "df2.shape"
   ]
  },
  {
   "cell_type": "code",
   "execution_count": null,
   "id": "5375aabf-5321-4402-a7bd-1ea85b287eb7",
   "metadata": {},
   "outputs": [],
   "source": [
    "df_combined = pd.concat([df1, df2], axis=0)"
   ]
  },
  {
   "cell_type": "code",
   "execution_count": null,
   "id": "489d27f5-e8f7-4d7c-92a3-8ee74e9fa8b5",
   "metadata": {},
   "outputs": [],
   "source": [
    "df_combined.shape"
   ]
  },
  {
   "cell_type": "code",
   "execution_count": null,
   "id": "d159ba49-74a5-4bda-9fb0-7d22f4944206",
   "metadata": {},
   "outputs": [],
   "source": [
    "df_combined.isnull().sum()"
   ]
  },
  {
   "cell_type": "code",
   "execution_count": null,
   "id": "955258ac-f2a7-4cfe-b2cd-1c05dccfeecd",
   "metadata": {},
   "outputs": [],
   "source": [
    "df_combined.duplicated().sum()"
   ]
  },
  {
   "cell_type": "code",
   "execution_count": null,
   "id": "f2e735da-2526-4ee6-9597-2ea47b930907",
   "metadata": {},
   "outputs": [],
   "source": [
    "df_combined.drop_duplicates(subset=None, keep='first', inplace=True)"
   ]
  },
  {
   "cell_type": "code",
   "execution_count": null,
   "id": "950b85da-39f6-4194-a865-296004c5d9f1",
   "metadata": {},
   "outputs": [],
   "source": [
    "df_combined.shape"
   ]
  },
  {
   "cell_type": "code",
   "execution_count": null,
   "id": "e0cd0ba0-3bf5-4521-a24f-309ec8908c86",
   "metadata": {},
   "outputs": [],
   "source": []
  }
 ],
 "metadata": {
  "kernelspec": {
   "display_name": "Python 3 (ipykernel)",
   "language": "python",
   "name": "python3"
  },
  "language_info": {
   "codemirror_mode": {
    "name": "ipython",
    "version": 3
   },
   "file_extension": ".py",
   "mimetype": "text/x-python",
   "name": "python",
   "nbconvert_exporter": "python",
   "pygments_lexer": "ipython3",
   "version": "3.12.2"
  }
 },
 "nbformat": 4,
 "nbformat_minor": 5
}
