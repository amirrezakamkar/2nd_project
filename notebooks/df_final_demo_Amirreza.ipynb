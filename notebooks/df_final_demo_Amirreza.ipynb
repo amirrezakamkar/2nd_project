{
 "cells": [
  {
   "cell_type": "code",
   "execution_count": null,
   "id": "521e6e27-1167-47fc-a92b-c07fa8eefd3e",
   "metadata": {},
   "outputs": [],
   "source": [
    "import pandas as pd\n",
    "import numpy as np\n",
    "import seaborn as sns\n",
    "import matplotlib.pyplot as plt"
   ]
  },
  {
   "cell_type": "code",
   "execution_count": null,
   "id": "9c12be74-074d-46d1-ae65-0ad1e02c57e2",
   "metadata": {},
   "outputs": [],
   "source": [
    "url = '/Users/amirrezakamkar/Desktop/Works_in_progress/Ironhack/5_5th_week/Project/2nd_project/data/df_final_demo.txt'"
   ]
  },
  {
   "cell_type": "code",
   "execution_count": null,
   "id": "c0372437-14f4-468e-a4dc-8a0e7c507618",
   "metadata": {},
   "outputs": [],
   "source": [
    "df_demo = pd.read_csv(url)"
   ]
  },
  {
   "cell_type": "code",
   "execution_count": null,
   "id": "91deea15-bfdc-4103-a7d3-94521e62ac2a",
   "metadata": {},
   "outputs": [],
   "source": [
    "df_demo.shape"
   ]
  },
  {
   "cell_type": "code",
   "execution_count": null,
   "id": "a8734c54-58de-4989-8de9-4a2cccd399ef",
   "metadata": {},
   "outputs": [],
   "source": [
    "df_demo.isnull().sum()"
   ]
  },
  {
   "cell_type": "code",
   "execution_count": null,
   "id": "b54191cf-dfed-4b23-85c8-1b7b81683dbe",
   "metadata": {},
   "outputs": [],
   "source": [
    "df_demo.dropna(axis=0, inplace=True)"
   ]
  },
  {
   "cell_type": "code",
   "execution_count": null,
   "id": "9a88fccc-0021-4f8f-b682-e86f8bb28d57",
   "metadata": {},
   "outputs": [],
   "source": [
    "df_demo.shape"
   ]
  },
  {
   "cell_type": "code",
   "execution_count": null,
   "id": "34002bf5-ad96-4498-b6cd-d44eabcf9e8a",
   "metadata": {},
   "outputs": [],
   "source": [
    "df_demo.duplicated().sum()"
   ]
  },
  {
   "cell_type": "code",
   "execution_count": null,
   "id": "51a82fc2-31e9-4ccd-97b9-b7f2173e8b8a",
   "metadata": {},
   "outputs": [],
   "source": [
    "df_demo.describe()"
   ]
  },
  {
   "cell_type": "code",
   "execution_count": null,
   "id": "50373933-09c1-41ca-a69d-a9028fd7d2c5",
   "metadata": {},
   "outputs": [],
   "source": [
    "q75 = df_demo['bal'].quantile(0.75)\n",
    "filtered_df = df_demo[df_demo['bal'] >= q75]\n",
    "result = filtered_df['clnt_age'].mean()\n",
    "\n",
    "print(result)"
   ]
  },
  {
   "cell_type": "code",
   "execution_count": null,
   "id": "8d46c471-705e-4ed1-82ff-4af9575b9ba7",
   "metadata": {},
   "outputs": [],
   "source": [
    "q75 = df_demo['bal'].quantile(0.75)\n",
    "filtered_df = df_demo[df_demo['bal'] >= q75]\n",
    "result = filtered_df['clnt_tenure_yr'].mean()\n",
    "\n",
    "print(result)"
   ]
  },
  {
   "cell_type": "code",
   "execution_count": null,
   "id": "6807eda4-2e5a-41b6-99ed-eaaa45539705",
   "metadata": {},
   "outputs": [],
   "source": []
  }
 ],
 "metadata": {
  "kernelspec": {
   "display_name": "Python 3 (ipykernel)",
   "language": "python",
   "name": "python3"
  },
  "language_info": {
   "codemirror_mode": {
    "name": "ipython",
    "version": 3
   },
   "file_extension": ".py",
   "mimetype": "text/x-python",
   "name": "python",
   "nbconvert_exporter": "python",
   "pygments_lexer": "ipython3",
   "version": "3.12.2"
  }
 },
 "nbformat": 4,
 "nbformat_minor": 5
}
