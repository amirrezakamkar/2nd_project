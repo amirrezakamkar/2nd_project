{
 "cells": [
  {
   "cell_type": "code",
   "execution_count": 4,
   "id": "e3e057ff-5850-4553-b714-b21c5ec08ffa",
   "metadata": {},
   "outputs": [],
   "source": [
    "import pandas as pd\n",
    "import numpy as np\n",
    "import seaborn as sns\n",
    "import matplotlib.pyplot as plt\n",
    "\n",
    "url = '../../data/clean/combined_data_control.txt'\n",
    "df = pd.read_csv(url)"
   ]
  },
  {
   "cell_type": "code",
   "execution_count": 6,
   "id": "ec48efba-e787-4730-8c21-761cc43d7f36",
   "metadata": {},
   "outputs": [
    {
     "data": {
      "text/plain": [
       "(140482, 14)"
      ]
     },
     "execution_count": 6,
     "metadata": {},
     "output_type": "execute_result"
    }
   ],
   "source": [
    "df.shape"
   ]
  },
  {
   "cell_type": "code",
   "execution_count": null,
   "id": "2754ec4a-cdbb-4073-a33a-cdb6df04395b",
   "metadata": {},
   "outputs": [],
   "source": []
  },
  {
   "cell_type": "code",
   "execution_count": 12,
   "id": "cf880642-b45d-4bf1-aec7-8e806341dd76",
   "metadata": {},
   "outputs": [
    {
     "name": "stdout",
     "output_type": "stream",
     "text": [
      "Total number of steps: 140482\n",
      "Total number of step-back errors: 9576\n",
      "Total error rate: 6.816532%\n"
     ]
    }
   ],
   "source": [
    "# Error rate\n",
    "# Ensure date_time is in datetime format\n",
    "df['date_time'] = pd.to_datetime(df['date_time'])\n",
    "\n",
    "# Sort by client_id, visit_id, and date_time to ensure chronological order\n",
    "df = df.sort_values(by=['client_id', 'visit_id', 'date_time'])\n",
    "\n",
    "# Define the process steps in the correct order\n",
    "process_order = ['start', 'step_1', 'step_2', 'step_3', 'confirm']\n",
    "\n",
    "# Create a new column that shows the next step\n",
    "df['next_step'] = df.groupby(['client_id', 'visit_id'])['process_step'].shift(-1)\n",
    "\n",
    "# Identify step-back errors\n",
    "df['is_step_back'] = df.apply(\n",
    "    lambda row: process_order.index(row['next_step']) < process_order.index(row['process_step']) \n",
    "    if pd.notnull(row['next_step']) else False, axis=1\n",
    ")\n",
    "\n",
    "# Calculate total steps and total errors\n",
    "total_steps = len(df)  # Total number of rows (steps)\n",
    "total_step_back_errors = df['is_step_back'].sum()  # Sum of step-back errors\n",
    "\n",
    "# Calculate the overall error rate\n",
    "total_error_rate = total_step_back_errors / total_steps * 100\n",
    "\n",
    "print(f\"Total number of steps: {total_steps}\")\n",
    "print(f\"Total number of step-back errors: {total_step_back_errors}\")\n",
    "print(f\"Total error rate: {total_error_rate:.6f}%\")\n"
   ]
  },
  {
   "cell_type": "code",
   "execution_count": 10,
   "id": "78b6e394-1225-4a65-ad01-90940d52b036",
   "metadata": {},
   "outputs": [
    {
     "name": "stdout",
     "output_type": "stream",
     "text": [
      "Total number of visitors: 32181\n",
      "Number of visitors who reached the 'confirm' step: 16039\n",
      "Completion rate: 49.84%\n"
     ]
    }
   ],
   "source": [
    "# Colmpletion rate\n",
    "# Total number of visitors (unique visit_id)\n",
    "total_visitors = df['visit_id'].nunique()\n",
    "\n",
    "# Number of visitors who reached the 'confirm' step\n",
    "visitors_with_confirm = df[df['process_step'] == 'confirm']['visit_id'].nunique()\n",
    "\n",
    "# Calculate the completion rate\n",
    "completion_rate = (visitors_with_confirm / total_visitors) * 100\n",
    "\n",
    "print(f\"Total number of visitors: {total_visitors}\")\n",
    "print(f\"Number of visitors who reached the 'confirm' step: {visitors_with_confirm}\")\n",
    "print(f\"Completion rate: {completion_rate:.2f}%\")\n"
   ]
  },
  {
   "cell_type": "code",
   "execution_count": 18,
   "id": "b65ba9fa-dbec-4014-a033-22c2c0a325ca",
   "metadata": {},
   "outputs": [
    {
     "name": "stdout",
     "output_type": "stream",
     "text": [
      "The average age of the control group is 48.284477726683846\n"
     ]
    }
   ],
   "source": [
    "control_average_age = df['clnt_age'].mean()\n",
    "print (\"The average age of the control group is\", control_average_age)"
   ]
  },
  {
   "cell_type": "code",
   "execution_count": 20,
   "id": "60bec342-bc21-4a1f-b444-36297f6f3cda",
   "metadata": {},
   "outputs": [
    {
     "name": "stdout",
     "output_type": "stream",
     "text": [
      "The average history of the control group is 12.16779373869962 years\n"
     ]
    }
   ],
   "source": [
    "test_average_history = df['clnt_tenure_yr'].mean()\n",
    "print (\"The average history of the control group is\", test_average_history, \"years\")"
   ]
  },
  {
   "cell_type": "code",
   "execution_count": 7,
   "id": "65a9b822-facd-44ee-83ef-a5df9323bbde",
   "metadata": {},
   "outputs": [
    {
     "data": {
      "text/html": [
       "<div>\n",
       "<style scoped>\n",
       "    .dataframe tbody tr th:only-of-type {\n",
       "        vertical-align: middle;\n",
       "    }\n",
       "\n",
       "    .dataframe tbody tr th {\n",
       "        vertical-align: top;\n",
       "    }\n",
       "\n",
       "    .dataframe thead th {\n",
       "        text-align: right;\n",
       "    }\n",
       "</style>\n",
       "<table border=\"1\" class=\"dataframe\">\n",
       "  <thead>\n",
       "    <tr style=\"text-align: right;\">\n",
       "      <th></th>\n",
       "      <th>process_step</th>\n",
       "      <th>mean_time_spent</th>\n",
       "    </tr>\n",
       "  </thead>\n",
       "  <tbody>\n",
       "    <tr>\n",
       "      <th>0</th>\n",
       "      <td>confirm</td>\n",
       "      <td>129.598746</td>\n",
       "    </tr>\n",
       "    <tr>\n",
       "      <th>1</th>\n",
       "      <td>start</td>\n",
       "      <td>196.201373</td>\n",
       "    </tr>\n",
       "    <tr>\n",
       "      <th>2</th>\n",
       "      <td>step_1</td>\n",
       "      <td>57.414272</td>\n",
       "    </tr>\n",
       "    <tr>\n",
       "      <th>3</th>\n",
       "      <td>step_2</td>\n",
       "      <td>38.888074</td>\n",
       "    </tr>\n",
       "    <tr>\n",
       "      <th>4</th>\n",
       "      <td>step_3</td>\n",
       "      <td>93.578670</td>\n",
       "    </tr>\n",
       "  </tbody>\n",
       "</table>\n",
       "</div>"
      ],
      "text/plain": [
       "  process_step  mean_time_spent\n",
       "0      confirm       129.598746\n",
       "1        start       196.201373\n",
       "2       step_1        57.414272\n",
       "3       step_2        38.888074\n",
       "4       step_3        93.578670"
      ]
     },
     "execution_count": 7,
     "metadata": {},
     "output_type": "execute_result"
    }
   ],
   "source": [
    "# Average time spent on each step\n",
    "# Convert 'date_time' to datetime\n",
    "df['date_time'] = pd.to_datetime(df['date_time'])\n",
    "\n",
    "# Sort the data for proper time difference calculation\n",
    "df = df.sort_values(by=['client_id', 'visitor_id', 'visit_id', 'date_time'])\n",
    "\n",
    "# Calculate time spent in seconds for each step\n",
    "df['time_spent'] = df.groupby(['client_id', 'visitor_id', 'visit_id'])['date_time'].diff().dt.total_seconds()\n",
    "\n",
    "# Drop NaN values (first step has no previous step for time difference calculation)\n",
    "df = df.dropna(subset=['time_spent'])\n",
    "# Group by 'process_step' and calculate the mean time spent\n",
    "mean_time_per_step = df.groupby('process_step')['time_spent'].mean().reset_index()\n",
    "\n",
    "# Rename columns for clarity\n",
    "mean_time_per_step.columns = ['process_step', 'mean_time_spent']\n",
    "mean_time_per_step\n"
   ]
  },
  {
   "cell_type": "code",
   "execution_count": null,
   "id": "c2bfc1a2-8c1e-4e18-b7c7-032cf0491a06",
   "metadata": {},
   "outputs": [],
   "source": []
  }
 ],
 "metadata": {
  "kernelspec": {
   "display_name": "Python 3 (ipykernel)",
   "language": "python",
   "name": "python3"
  },
  "language_info": {
   "codemirror_mode": {
    "name": "ipython",
    "version": 3
   },
   "file_extension": ".py",
   "mimetype": "text/x-python",
   "name": "python",
   "nbconvert_exporter": "python",
   "pygments_lexer": "ipython3",
   "version": "3.12.4"
  }
 },
 "nbformat": 4,
 "nbformat_minor": 5
}
